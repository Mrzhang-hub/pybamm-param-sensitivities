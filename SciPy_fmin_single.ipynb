{
 "cells": [
  {
   "cell_type": "code",
   "execution_count": 1,
   "id": "91ed8ac7",
   "metadata": {},
   "outputs": [],
   "source": [
    "import pybamm\n",
    "import numpy as np\n",
    "import matplotlib.pyplot as plt\n",
    "from os import path\n",
    "from tec_reduced_model.set_parameters import (\n",
    "    set_thermal_parameters,\n",
    "    set_experiment_parameters,\n",
    "    set_ambient_temperature,\n",
    ")\n",
    "from tec_reduced_model.process_experimental_data import import_thermal_data, get_idxs\n",
    "from __future__ import print_function\n",
    "import dfols\n",
    "\n",
    "plt.style.use(['science','vibrant'])\n",
    "\n",
    "plt.rcParams.update({\n",
    "    \"font.family\": \"sans-serif\",\n",
    "    \"text.usetex\": False,\n",
    "    \"font.size\": 8,\n",
    "    \"axes.labelsize\": 10,\n",
    "})"
   ]
  },
  {
   "cell_type": "code",
   "execution_count": 2,
   "id": "7a9ac61e",
   "metadata": {},
   "outputs": [],
   "source": [
    "# Change simulation parameters here\n",
    "temperature = 25  # in degC, valid values: 0, 10, 25\n",
    "Crate = 1         # valid values: 0.5, 1, 2\n",
    "cells_ignore = [\"789\",\"790\",\"791\"]    # cells to ignore, in this case we ignore cell 791 because the data for that cell is faulty"
   ]
  },
  {
   "cell_type": "code",
   "execution_count": 3,
   "id": "66d6f22f",
   "metadata": {},
   "outputs": [],
   "source": [
    "# Define the TSPMe model\n",
    "model = pybamm.lithium_ion.SPMe(\n",
    "    options={\n",
    "        \"thermal\": \"lumped\",\n",
    "        \"dimensionality\": 0,\n",
    "        \"cell geometry\": \"arbitrary\",\n",
    "        \"electrolyte conductivity\": \"integrated\",\n",
    "    },\n",
    "    name=\"TSPMe\",\n",
    ")\n",
    "\n",
    "dataset = import_thermal_data(Crate, temperature)\n",
    "data_conc = {\"time\": [], \"voltage\": [], \"temperature\": []}\n",
    "\n",
    "for cell, data in dataset.items():\n",
    "    if cell in cells_ignore:\n",
    "        continue\n",
    "\n",
    "    idx_start, idx_end = get_idxs(data, Crate * 5, 5 / 3)\n",
    "    if len(idx_end) == 1:\n",
    "        idx_end = np.append(idx_end, len(data[\"Time [s]\"]))\n",
    "\n",
    "    data_conc[\"time\"] = np.append(\n",
    "        data_conc[\"time\"],\n",
    "        data[\"Time [s]\"][idx_start[0] : idx_end[1]]\n",
    "        - data[\"Time [s]\"][idx_start[0]],\n",
    "    )\n",
    "    data_conc[\"voltage\"] = np.append(\n",
    "        data_conc[\"voltage\"], data[\"Voltage [V]\"][idx_start[0] : idx_end[1]]\n",
    "    )\n",
    "    data_conc[\"temperature\"] = np.append(\n",
    "        data_conc[\"temperature\"],\n",
    "        data[\"Temp Cell [degC]\"][idx_start[0] : idx_end[1]],\n",
    "    )"
   ]
  },
  {
   "cell_type": "code",
   "execution_count": 4,
   "id": "7dab8a95",
   "metadata": {},
   "outputs": [],
   "source": [
    "def R_squared(solution, x_data, y_data):\n",
    "    y_bar = np.mean(y_data)\n",
    "    SS_tot = np.sum((y_data - y_bar) ** 2)\n",
    "    res = y_data - solution(x_data)\n",
    "    res = res[~np.isnan(res)]  # remove NaNs due to extrapolation\n",
    "    SS_res = np.sum(res ** 2)\n",
    "    n=len(y_data)\n",
    "\n",
    "    return  1 - SS_res/n #/ SS_tot"
   ]
  },
  {
   "cell_type": "code",
   "execution_count": 5,
   "id": "afb47ed3",
   "metadata": {},
   "outputs": [],
   "source": [
    "def mse(x):\n",
    "    # Define parameter set Chen 2020 (see PyBaMM documentation for details)\n",
    "    # This is the reference parameter set, which we then update for the adjusted thermal parameters\n",
    "    param = pybamm.ParameterValues(chemistry=pybamm.parameter_sets.Chen2020)\n",
    "\n",
    "    # We now update the parameter set for the adjusted parameters\n",
    "    param = set_thermal_parameters(param, 16, 2.32e6, temperature)\n",
    "    param = set_experiment_parameters(param, Crate, temperature)\n",
    "    param = set_ambient_temperature(param, Crate, temperature)\n",
    "    param[\"Negative electrode diffusivity [m2.s-1]\"] = x[0]\n",
    "\n",
    "    # Define the experiment to be a CC discharge at the defined C-rate followed by a 2-hour relaxation\n",
    "    experiment = pybamm.Experiment(\n",
    "        [\n",
    "            \"Discharge at {}C until 2.5 V (5 seconds period)\".format(Crate),\n",
    "            \"Rest for 2 hours\",\n",
    "        ],\n",
    "        period=\"30 seconds\",\n",
    "    )\n",
    "\n",
    "    # Solve the model\n",
    "    simulation = pybamm.Simulation(\n",
    "        model,\n",
    "        parameter_values=param,\n",
    "        experiment=experiment,\n",
    "    )\n",
    "    simulation.solve()\n",
    "    solution = simulation.solution\n",
    "    R_squared(solution[\"Terminal voltage [V]\"], data_conc[\"time\"], data_conc[\"voltage\"])\n",
    "    #sol_sq= solution[\"Terminal voltage [V]\"].entries\n",
    "    #exp_sq= data_conc[\"voltage\"]\n",
    "    \n",
    "    return np.array(1-R_squared(solution[\"Terminal voltage [V]\"], data_conc[\"time\"], data_conc[\"voltage\"]))     #(np.abs(sol_sq-exp_sq))"
   ]
  },
  {
   "cell_type": "code",
   "execution_count": 6,
   "id": "c684ff32",
   "metadata": {},
   "outputs": [
    {
     "name": "stdout",
     "output_type": "stream",
     "text": [
      "Optimization terminated successfully.\n",
      "         Current function value: 0.001964\n",
      "         Iterations: 11\n",
      "         Function evaluations: 22\n"
     ]
    }
   ],
   "source": [
    "from scipy import optimize\n",
    "x0 =np.array([2e-14])\n",
    "minimum = optimize.fmin(mse, x0, xtol=0.0000000001, ftol=0.0000000001)"
   ]
  },
  {
   "cell_type": "code",
   "execution_count": 7,
   "id": "8cd459b8",
   "metadata": {},
   "outputs": [],
   "source": [
    "# Define the TSPMe model\n",
    "model = pybamm.lithium_ion.SPMe(\n",
    "    options={\n",
    "        \"thermal\": \"lumped\",\n",
    "        \"dimensionality\": 0,\n",
    "        \"cell geometry\": \"arbitrary\",\n",
    "        \"electrolyte conductivity\": \"integrated\",\n",
    "    },\n",
    "    name=\"TSPMe\",\n",
    ")\n",
    "\n",
    "# Define parameter set Chen 2020 (see PyBaMM documentation for details)\n",
    "# This is the reference parameter set, which we then update for the adjusted thermal parameters\n",
    "param = pybamm.ParameterValues(chemistry=pybamm.parameter_sets.Chen2020)\n",
    "\n",
    "# We now update the parameter set for the adjusted parameters\n",
    "param = set_thermal_parameters(param, 16, 2.32e6, temperature)\n",
    "param = set_experiment_parameters(param, Crate, temperature)\n",
    "param = set_ambient_temperature(param, Crate, temperature)\n",
    "param[\"Negative electrode diffusivity [m2.s-1]\"] = minimum[0]\n",
    "\n",
    "# Define the experiment to be a CC discharge at the defined C-rate followed by a 2-hour relaxation\n",
    "experiment = pybamm.Experiment(\n",
    "    [\n",
    "        \"Discharge at {}C until 2.5 V (5 seconds period)\".format(Crate),\n",
    "        \"Rest for 2 hours\",\n",
    "    ],\n",
    "    period=\"30 seconds\",\n",
    ")\n",
    "\n",
    "# Solve the model\n",
    "simulation = pybamm.Simulation(\n",
    "    model,\n",
    "    parameter_values=param,\n",
    "    experiment=experiment,\n",
    ")\n",
    "simulation.solve()\n",
    "solution = simulation.solution\n"
   ]
  },
  {
   "cell_type": "code",
   "execution_count": 8,
   "id": "2afb5a5f",
   "metadata": {},
   "outputs": [
    {
     "data": {
      "image/png": "[encoded data removed]",
      "text/plain": [
       "<Figure size 792x324 with 2 Axes>"
      ]
     },
     "metadata": {
      "needs_background": "light"
     },
     "output_type": "display_data"
    }
   ],
   "source": [
    "fig, axes = plt.subplots(1, 2, figsize=(11, 4.5))\n",
    "dataset = import_thermal_data(Crate, temperature)\n",
    "data_conc = {\"time\": [], \"voltage\": [], \"temperature\": []}\n",
    "\n",
    "for cell, data in dataset.items():\n",
    "    if cell in cells_ignore:\n",
    "        continue\n",
    "\n",
    "    idx_start, idx_end = get_idxs(data, Crate * 5, 5 / 3)\n",
    "    if len(idx_end) == 1:\n",
    "        idx_end = np.append(idx_end, len(data[\"Time [s]\"]))\n",
    "\n",
    "    axes[0].plot(\n",
    "        data[\"Time [s]\"][idx_start[0] : idx_end[1]]\n",
    "        - data[\"Time [s]\"][idx_start[0]],\n",
    "        data[\"Voltage [V]\"][idx_start[0] : idx_end[1]],\n",
    "        label=cell,\n",
    "    )\n",
    "    axes[1].plot(\n",
    "        data[\"Time [s]\"][idx_start[0] : idx_end[1]]\n",
    "        - data[\"Time [s]\"][idx_start[0]],\n",
    "        data[\"Temp Cell [degC]\"][idx_start[0] : idx_end[1]],\n",
    "        label=cell,\n",
    "    )\n",
    "\n",
    "    data_conc[\"time\"] = np.append(\n",
    "        data_conc[\"time\"],\n",
    "        data[\"Time [s]\"][idx_start[0] : idx_end[1]]\n",
    "        - data[\"Time [s]\"][idx_start[0]],\n",
    "    )\n",
    "    data_conc[\"voltage\"] = np.append(\n",
    "        data_conc[\"voltage\"], data[\"Voltage [V]\"][idx_start[0] : idx_end[1]]\n",
    "    )\n",
    "    data_conc[\"temperature\"] = np.append(\n",
    "        data_conc[\"temperature\"],\n",
    "        data[\"Temp Cell [degC]\"][idx_start[0] : idx_end[1]],\n",
    "    )\n",
    "\n",
    "    \n",
    "axes[0].plot(\n",
    "    solution[\"Time [s]\"].entries,\n",
    "    solution[\"Terminal voltage [V]\"].entries,\n",
    "    color=\"black\",\n",
    "    label=\"TSPMe\",\n",
    ")\n",
    "\n",
    "axes[0].scatter(\n",
    "    0,\n",
    "    solution[\"X-averaged battery open circuit voltage [V]\"].entries[0],\n",
    "    marker=\"x\",\n",
    "    color=\"black\",\n",
    ")\n",
    "\n",
    "axes[0].set_xlabel(\"Time (s)\")\n",
    "axes[0].set_ylabel(\"Voltage (V)\")\n",
    "\n",
    "axes[1].plot(\n",
    "    solution[\"Time [s]\"].entries,\n",
    "    solution[\"X-averaged cell temperature [K]\"].entries - 273.15,\n",
    "    color=\"black\",\n",
    "    label=\"TSPMe\",\n",
    ")\n",
    "\n",
    "axes[1].set_xlabel(\"Time (s)\")\n",
    "axes[1].set_ylabel(\"Cell temperature (°C)\")\n",
    "axes[1].legend()\n",
    "    \n",
    "fig.suptitle(\"Ambient temperature: {} °C, C-rate: {}C\".format(temperature, Crate))    \n",
    "\n",
    "fig.tight_layout()\n",
    "fig.subplots_adjust(top=0.9)"
   ]
  },
  {
   "cell_type": "code",
   "execution_count": 9,
   "id": "fe4b0876",
   "metadata": {},
   "outputs": [
    {
     "name": "stdout",
     "output_type": "stream",
     "text": [
      "Voltage RMSE: 44.32 mV\n",
      "Voltage R^2: 0.9980\n",
      "Temperature RMSE: 0.96 °C\n",
      "Temperature R^2: 0.0833\n"
     ]
    }
   ],
   "source": [
    "def rmse(solution, x_data, y_data):\n",
    "    error = solution(x_data) - y_data\n",
    "    error = error[~np.isnan(error)]  # remove NaNs due to extrapolation\n",
    "    return np.sqrt(np.mean(error ** 2))\n",
    "\n",
    "error = {}\n",
    "error[\"RMSE_V\"] = rmse(\n",
    "    solution[\"Terminal voltage [V]\"], data_conc[\"time\"], data_conc[\"voltage\"]\n",
    ")\n",
    "error[\"Rsq_V\"] = R_squared(\n",
    "    solution[\"Terminal voltage [V]\"], data_conc[\"time\"], data_conc[\"voltage\"]\n",
    ")\n",
    "error[\"RMSE_T\"] = rmse(\n",
    "    solution[\"X-averaged cell temperature [K]\"],\n",
    "    data_conc[\"time\"],\n",
    "    data_conc[\"temperature\"] + 273.15,\n",
    ")\n",
    "error[\"Rsq_T\"] = R_squared(\n",
    "    solution[\"X-averaged cell temperature [K]\"],\n",
    "    data_conc[\"time\"],\n",
    "    data_conc[\"temperature\"] + 273.15,\n",
    ")\n",
    "\n",
    "print(\"Voltage RMSE: {:.2f} mV\".format(error[\"RMSE_V\"] * 1000))\n",
    "print(\"Voltage R^2: {:.4f}\".format(error[\"Rsq_V\"]))\n",
    "print(\"Temperature RMSE: {:.2f} °C\".format(error[\"RMSE_T\"]))\n",
    "print(\"Temperature R^2: {:.4f}\".format(error[\"Rsq_T\"]))"
   ]
  },
  {
   "cell_type": "code",
   "execution_count": 10,
   "id": "594299c2",
   "metadata": {},
   "outputs": [
    {
     "data": {
      "text/plain": [
       "2.02939453125e-14"
      ]
     },
     "execution_count": 10,
     "metadata": {},
     "output_type": "execute_result"
    }
   ],
   "source": [
    "minimum[0]"
   ]
  },
  {
   "cell_type": "code",
   "execution_count": null,
   "id": "e36ce342",
   "metadata": {},
   "outputs": [],
   "source": []
  }
 ],
 "metadata": {
  "kernelspec": {
   "display_name": "Python 3 (ipykernel)",
   "language": "python",
   "name": "python3"
  },
  "language_info": {
   "codemirror_mode": {
    "name": "ipython",
    "version": 3
   },
   "file_extension": ".py",
   "mimetype": "text/x-python",
   "name": "python",
   "nbconvert_exporter": "python",
   "pygments_lexer": "ipython3",
   "version": "3.8.12"
  }
 },
 "nbformat": 4,
 "nbformat_minor": 5
}

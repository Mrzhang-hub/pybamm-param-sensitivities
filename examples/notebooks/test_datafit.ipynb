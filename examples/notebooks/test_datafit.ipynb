{
 "cells": [
  {
   "cell_type": "code",
   "execution_count": 1,
   "id": "5ba4b709",
   "metadata": {},
   "outputs": [],
   "source": [
    "import os\n",
    "os.chdir(\"../..\")\n",
    "import process_experimental_data as prepos\n",
    "from tec_reduced_model.set_parameters import (\n",
    "    set_thermal_parameters,\n",
    "    set_experiment_parameters,\n",
    "    set_ambient_temperature,\n",
    ")\n",
    "%pip install pybamm -q\n",
    "import pybamm\n",
    "import numpy as np\n",
    "import pbparam\n",
    "import pandas as pd",
    "pybamm.print_citations()"
   ]
  },
  {
   "cell_type": "code",
   "execution_count": 2,
   "id": "9bfce968",
   "metadata": {},
   "outputs": [],
   "source": [
    "temperature = 25  # in degC, valid values: 0, 10, 25\n",
    "crate = 1         # valid values: 0.5, 1, 2\n",
    "cell_selected = [\"789\"]\n",
    "dataset=prepos.import_thermal_data(crate, temperature)"
   ]
  },
  {
   "cell_type": "code",
   "execution_count": 3,
   "id": "d9749c9e",
   "metadata": {},
   "outputs": [],
   "source": [
    "data_conc = {\"Time [s]\": [], \"Terminal voltage [V]\": [], \"X-averaged cell temperature [degC]\": []}\n",
    "for cell, data in dataset.items():\n",
    "    if cell in cell_selected:\n",
    "        idx_start, idx_end = prepos.get_idxs(data, crate * 5, 5 / 3)\n",
    "        if len(idx_end) == 1:\n",
    "            idx_end = np.append(idx_end, len(data[\"Time [s]\"]))\n",
    "        data_conc[\"Time [s]\"] = np.append(\n",
    "            data_conc[\"Time [s]\"],\n",
    "            data[\"Time [s]\"][idx_start[0] : idx_end[1]]\n",
    "            - data[\"Time [s]\"][idx_start[0]],\n",
    "        )\n",
    "        data_conc[\"Terminal voltage [V]\"] = np.append(\n",
    "            data_conc[\"Terminal voltage [V]\"], data[\"Voltage [V]\"][idx_start[0] : idx_end[1]]\n",
    "        )\n",
    "        data_conc[\"X-averaged cell temperature [degC]\"] = np.append(\n",
    "            data_conc[\"X-averaged cell temperature [degC]\"],\n",
    "            data[\"Temp Cell [degC]\"][idx_start[0] : idx_end[1]],\n",
    "        )\n",
    "data_conc=pd.DataFrame(data_conc)"
   ]
  },
  {
   "cell_type": "code",
   "execution_count": 4,
   "id": "55c4ff08",
   "metadata": {},
   "outputs": [],
   "source": [
    "data_conc[\"X-averaged cell temperature [degC]\"]=data_conc[\"X-averaged cell temperature [degC]\"]+273.15\n",
    "data_conc = data_conc.rename(columns = {\"X-averaged cell temperature [degC]\":\"X-averaged cell temperature [K]\"})"
   ]
  },
  {
   "cell_type": "code",
   "execution_count": 5,
   "id": "cdfbbe24",
   "metadata": {},
   "outputs": [],
   "source": [
    "def j0_neg(c_e, c_s_surf, T):\n",
    "    \"\"\"\n",
    "    This function has been copied from the Chen2020 parameter set:\n",
    "    pybamm/input/parameters/lithium_ion/negative_electrodes/graphite_Chen2020\n",
    "    /graphite_LGM50_electrolyte_exchange_current_density_Chen2020.py\n",
    "    Similar could be done for the positive exchange current density\n",
    "    \"\"\"\n",
    "    m_ref = pybamm.Parameter(\"Negative electrode reaction coefficient\")\n",
    "    E_r = 3500    \n",
    "    arrhenius = pybamm.exp(E_r / pybamm.constants.R * (1 / 298.15 - 1 / T))\n",
    "    c_n_max = pybamm.Parameter(\"Maximum concentration in negative electrode [mol.m-3]\")\n",
    "    return (m_ref * arrhenius * c_e ** 0.5 * c_s_surf ** 0.5 * (c_n_max - c_s_surf) ** 0.5)"
   ]
  },
  {
   "cell_type": "code",
   "execution_count": 6,
   "id": "b9d0f9e1",
   "metadata": {},
   "outputs": [],
   "source": [
    "model = pybamm.lithium_ion.SPMe(\n",
    "            options={\n",
    "                \"thermal\": \"lumped\",\n",
    "                \"dimensionality\": 0,\n",
    "                \"cell geometry\": \"arbitrary\",\n",
    "                \"electrolyte conductivity\": \"integrated\",\n",
    "            },\n",
    "            name=\"TSPMe\",\n",
    "        )\n",
    "\n",
    "param_default = pybamm.ParameterValues(chemistry=pybamm.parameter_sets.Chen2020)\n",
    "param = set_thermal_parameters(param_default, 16, 2.32e6, temperature)\n",
    "param = set_experiment_parameters(param, crate, temperature)\n",
    "param = set_ambient_temperature(param, crate, temperature)\n",
    "param.update({\n",
    "            \"Negative electrode exchange-current density [A.m-2]\": j0_neg,\n",
    "            \"Negative electrode reaction coefficient\": \"[input]\",\n",
    "            \"Negative electrode diffusivity [m2.s-1]\" : \"[input]\",\n",
    "            \"Total heat transfer coefficient [W.m-2.K-1]\" : \"[input]\",\n",
    "            \"Positive current collector specific heat capacity [J.kg-1.K-1]\" : \"[input]\",\n",
    "            \"Negative current collector specific heat capacity [J.kg-1.K-1]\" : \"[input]\",\n",
    "            \"Negative electrode specific heat capacity [J.kg-1.K-1]\" : \"[input]\",\n",
    "            \"Separator specific heat capacity [J.kg-1.K-1]\" : \"[input]\",\n",
    "            \"Positive electrode specific heat capacity [J.kg-1.K-1]\" : \"[input]\"\n",
    "        }, check_already_exists=False)\n",
    "experiment = pybamm.Experiment(\n",
    "            [\n",
    "                \"Discharge at {}C until 2.5 V (5 seconds period)\".format(crate),\n",
    "                \"Rest for 2 hours\",\n",
    "            ],period=\"30 seconds\")\n",
    "simulation = pybamm.Simulation(\n",
    "            model,\n",
    "            parameter_values=param,\n",
    "            experiment=experiment,\n",
    "            )\n",
    "param_optimised={\"Negative electrode diffusivity [m2.s-1]\":(5e-14,(2.06e-16,2.06e-12)),\n",
    "                 \"Negative electrode reaction coefficient\":(6.48e-7,(2.18589831e-9,2.18589831e-5)),\n",
    "                 \"Total heat transfer coefficient [W.m-2.K-1]\":(20,(0.1,1000)),\n",
    "                 (\"Positive current collector specific heat capacity [J.kg-1.K-1]\",\n",
    "                  \"Negative current collector specific heat capacity [J.kg-1.K-1]\",\n",
    "                  \"Negative electrode specific heat capacity [J.kg-1.K-1]\",\n",
    "                  \"Separator specific heat capacity [J.kg-1.K-1]\",\n",
    "                  \"Positive electrode specific heat capacity [J.kg-1.K-1]\"):(2.85e3,(2.85, 2.85e6))\n",
    "                 }\n",
    "variables_optimised = [\"Terminal voltage [V]\", \"X-averaged cell temperature [K]\"]"
   ]
  },
  {
   "cell_type": "code",
   "execution_count": 7,
   "id": "38ecca2b",
   "metadata": {},
   "outputs": [],
   "source": [
    "opt = pbparam.DataFit(\n",
    "    simulation,\n",
    "    data_conc,\n",
    "    param_optimised,\n",
    "    variables_optimised)"
   ]
  },
  {
   "cell_type": "code",
   "execution_count": 8,
   "id": "8d989185",
   "metadata": {},
   "outputs": [],
   "source": [
    "optimiser=pbparam.ScipyDifferentialEvolution(extra_options={\"workers\": 1, \"polish\": True, \"updating\": \"deferred\",\"disp\": True})"
   ]
  },
  {
   "cell_type": "code",
   "execution_count": 9,
   "id": "622d3176",
   "metadata": {},
   "outputs": [
    {
     "name": "stdout",
     "output_type": "stream",
     "text": [
      "differential_evolution step 1: f(x)= 0.0515118\n",
      "differential_evolution step 2: f(x)= 0.0496423\n",
      "differential_evolution step 3: f(x)= 0.0285692\n",
      "differential_evolution step 4: f(x)= 0.0285692\n",
      "differential_evolution step 5: f(x)= 0.0285692\n",
      "differential_evolution step 6: f(x)= 0.0284478\n",
      "differential_evolution step 7: f(x)= 0.0284478\n",
      "differential_evolution step 8: f(x)= 0.0242011\n",
      "differential_evolution step 9: f(x)= 0.0236848\n",
      "differential_evolution step 10: f(x)= 0.0236848\n",
      "differential_evolution step 11: f(x)= 0.0233209\n",
      "differential_evolution step 12: f(x)= 0.0231702\n",
      "differential_evolution step 13: f(x)= 0.0223728\n",
      "differential_evolution step 14: f(x)= 0.0223728\n",
      "differential_evolution step 15: f(x)= 0.0215495\n",
      "differential_evolution step 16: f(x)= 0.0215495\n",
      "differential_evolution step 17: f(x)= 0.0215495\n",
      "differential_evolution step 18: f(x)= 0.0215495\n",
      "differential_evolution step 19: f(x)= 0.0215495\n",
      "differential_evolution step 20: f(x)= 0.0212355\n",
      "differential_evolution step 21: f(x)= 0.0212355\n",
      "differential_evolution step 22: f(x)= 0.0212355\n",
      "differential_evolution step 23: f(x)= 0.0197985\n",
      "differential_evolution step 24: f(x)= 0.0184395\n",
      "differential_evolution step 25: f(x)= 0.0184395\n",
      "differential_evolution step 26: f(x)= 0.0165457\n",
      "differential_evolution step 27: f(x)= 0.0165457\n",
      "differential_evolution step 28: f(x)= 0.0164962\n",
      "differential_evolution step 29: f(x)= 0.0162987\n",
      "differential_evolution step 30: f(x)= 0.0158064\n",
      "differential_evolution step 31: f(x)= 0.014929\n",
      "differential_evolution step 32: f(x)= 0.014929\n",
      "differential_evolution step 33: f(x)= 0.014534\n",
      "differential_evolution step 34: f(x)= 0.0141285\n",
      "differential_evolution step 35: f(x)= 0.0141285\n",
      "differential_evolution step 36: f(x)= 0.0141285\n",
      "differential_evolution step 37: f(x)= 0.0141285\n",
      "differential_evolution step 38: f(x)= 0.0140287\n",
      "differential_evolution step 39: f(x)= 0.0139739\n",
      "differential_evolution step 40: f(x)= 0.013953\n",
      "differential_evolution step 41: f(x)= 0.0139242\n",
      "differential_evolution step 42: f(x)= 0.0139242\n",
      "differential_evolution step 43: f(x)= 0.0139112\n",
      "differential_evolution step 44: f(x)= 0.0138956\n"
     ]
    }
   ],
   "source": [
    "result=optimiser.optimise(opt)"
   ]
  },
  {
   "cell_type": "code",
   "execution_count": 10,
   "id": "ed9c1c5f",
   "metadata": {},
   "outputs": [
    {
     "name": "stdout",
     "output_type": "stream",
     "text": [
      "[1.83503970e-14 2.78832768e-07 3.62054113e+01 1.97857976e+03] 0.013888603271896205 42 minutes, 21 seconds\n"
     ]
    }
   ],
   "source": [
    "print(result.x, result.fun, result.solve_time)"
   ]
  },
  {
   "cell_type": "code",
   "execution_count": 11,
   "id": "c2bd14f3",
   "metadata": {},
   "outputs": [
    {
     "ename": "IndexError",
     "evalue": "tuple index out of range",
     "output_type": "error",
     "traceback": [
      "\u001b[1;31m---------------------------------------------------------------------------\u001b[0m",
      "\u001b[1;31mIndexError\u001b[0m                                Traceback (most recent call last)",
      "Input \u001b[1;32mIn [11]\u001b[0m, in \u001b[0;36m<module>\u001b[1;34m\u001b[0m\n\u001b[1;32m----> 1\u001b[0m \u001b[43mresult\u001b[49m\u001b[38;5;241;43m.\u001b[39;49m\u001b[43mplot\u001b[49m\u001b[43m(\u001b[49m\u001b[43m)\u001b[49m\n",
      "File \u001b[1;32m~\\Desktop\\pbparam_test\\pbparam\\optimisation_result.py:43\u001b[0m, in \u001b[0;36mOptimisationResult.plot\u001b[1;34m(self, testing)\u001b[0m\n\u001b[0;32m     38\u001b[0m \u001b[38;5;124;03m\"\"\"\u001b[39;00m\n\u001b[0;32m     39\u001b[0m \u001b[38;5;124;03mPlot the optimisation result.\u001b[39;00m\n\u001b[0;32m     40\u001b[0m \u001b[38;5;124;03m\"\"\"\u001b[39;00m\n\u001b[0;32m     41\u001b[0m \u001b[38;5;28;01mimport\u001b[39;00m \u001b[38;5;21;01mmatplotlib\u001b[39;00m\u001b[38;5;21;01m.\u001b[39;00m\u001b[38;5;21;01mpyplot\u001b[39;00m \u001b[38;5;28;01mas\u001b[39;00m \u001b[38;5;21;01mplt\u001b[39;00m\n\u001b[1;32m---> 43\u001b[0m plot \u001b[38;5;241m=\u001b[39m \u001b[38;5;28;43mself\u001b[39;49m\u001b[38;5;241;43m.\u001b[39;49m\u001b[43moptimisation_problem\u001b[49m\u001b[38;5;241;43m.\u001b[39;49m\u001b[43m_plot\u001b[49m\u001b[43m(\u001b[49m\u001b[38;5;28;43mself\u001b[39;49m\u001b[38;5;241;43m.\u001b[39;49m\u001b[43mx\u001b[49m\u001b[43m)\u001b[49m\n\u001b[0;32m     45\u001b[0m \u001b[38;5;28;01mif\u001b[39;00m \u001b[38;5;129;01mnot\u001b[39;00m testing:  \u001b[38;5;66;03m# pragma: no cover\u001b[39;00m\n\u001b[0;32m     46\u001b[0m     plt\u001b[38;5;241m.\u001b[39mshow()\n",
      "File \u001b[1;32m~\\Desktop\\pbparam_test\\pbparam\\optimisation_problems\\data_fit.py:185\u001b[0m, in \u001b[0;36mDataFit._plot\u001b[1;34m(self, x_optimal)\u001b[0m\n\u001b[0;32m    179\u001b[0m \u001b[38;5;28;01mdef\u001b[39;00m \u001b[38;5;21m_plot\u001b[39m(\u001b[38;5;28mself\u001b[39m, x_optimal):\n\u001b[0;32m    180\u001b[0m     \u001b[38;5;124;03m\"\"\"\u001b[39;00m\n\u001b[0;32m    181\u001b[0m \u001b[38;5;124;03m    Plot the optimisation result. Should be accessed through the OptimisationResult\u001b[39;00m\n\u001b[0;32m    182\u001b[0m \u001b[38;5;124;03m    plot method.\u001b[39;00m\n\u001b[0;32m    183\u001b[0m \u001b[38;5;124;03m    \"\"\"\u001b[39;00m\n\u001b[1;32m--> 185\u001b[0m     initial_solution \u001b[38;5;241m=\u001b[39m \u001b[38;5;28;43mself\u001b[39;49m\u001b[38;5;241;43m.\u001b[39;49m\u001b[43mcalculate_solution\u001b[49m\u001b[43m(\u001b[49m\u001b[43m)\u001b[49m\n\u001b[0;32m    186\u001b[0m     optimal_solution \u001b[38;5;241m=\u001b[39m \u001b[38;5;28mself\u001b[39m\u001b[38;5;241m.\u001b[39mcalculate_solution(x_optimal)\n\u001b[0;32m    188\u001b[0m     plot \u001b[38;5;241m=\u001b[39m pybamm\u001b[38;5;241m.\u001b[39mQuickPlot(\n\u001b[0;32m    189\u001b[0m         [initial_solution, optimal_solution],\n\u001b[0;32m    190\u001b[0m         output_variables\u001b[38;5;241m=\u001b[39m\u001b[38;5;28mself\u001b[39m\u001b[38;5;241m.\u001b[39mvariables_optimise,\n\u001b[0;32m    191\u001b[0m         labels\u001b[38;5;241m=\u001b[39m[\u001b[38;5;124m\"\u001b[39m\u001b[38;5;124mInitial values\u001b[39m\u001b[38;5;124m\"\u001b[39m, \u001b[38;5;124m\"\u001b[39m\u001b[38;5;124mOptimal values\u001b[39m\u001b[38;5;124m\"\u001b[39m],\n\u001b[0;32m    192\u001b[0m     )\n",
      "File \u001b[1;32m~\\Desktop\\pbparam_test\\pbparam\\optimisation_problems\\data_fit.py:175\u001b[0m, in \u001b[0;36mDataFit.calculate_solution\u001b[1;34m(self, parameters)\u001b[0m\n\u001b[0;32m    172\u001b[0m \u001b[38;5;28;01melse\u001b[39;00m:\n\u001b[0;32m    173\u001b[0m     t_eval \u001b[38;5;241m=\u001b[39m [\u001b[38;5;241m0\u001b[39m, \u001b[38;5;28mself\u001b[39m\u001b[38;5;241m.\u001b[39mdata[\u001b[38;5;124m\"\u001b[39m\u001b[38;5;124mTime [s]\u001b[39m\u001b[38;5;124m\"\u001b[39m]\u001b[38;5;241m.\u001b[39miloc[\u001b[38;5;241m-\u001b[39m\u001b[38;5;241m1\u001b[39m]]\n\u001b[1;32m--> 175\u001b[0m solution \u001b[38;5;241m=\u001b[39m \u001b[38;5;28;43mself\u001b[39;49m\u001b[38;5;241;43m.\u001b[39;49m\u001b[43msimulation\u001b[49m\u001b[38;5;241;43m.\u001b[39;49m\u001b[43msolve\u001b[49m\u001b[43m(\u001b[49m\u001b[43mt_eval\u001b[49m\u001b[38;5;241;43m=\u001b[39;49m\u001b[43mt_eval\u001b[49m\u001b[43m,\u001b[49m\u001b[43m \u001b[49m\u001b[43minputs\u001b[49m\u001b[38;5;241;43m=\u001b[39;49m\u001b[43minputs\u001b[49m\u001b[43m)\u001b[49m\n\u001b[0;32m    177\u001b[0m \u001b[38;5;28;01mreturn\u001b[39;00m solution\n",
      "File \u001b[1;32m~\\.conda\\envs\\MNS\\lib\\site-packages\\pybamm\\simulation.py:902\u001b[0m, in \u001b[0;36mSimulation.solve\u001b[1;34m(self, t_eval, solver, check_model, save_at_cycles, calc_esoh, starting_solution, initial_soc, **kwargs)\u001b[0m\n\u001b[0;32m    900\u001b[0m \u001b[38;5;66;03m# Make sure we take at least 2 timesteps\u001b[39;00m\n\u001b[0;32m    901\u001b[0m npts \u001b[38;5;241m=\u001b[39m \u001b[38;5;28mmax\u001b[39m(\u001b[38;5;28mint\u001b[39m(\u001b[38;5;28mround\u001b[39m(dt \u001b[38;5;241m/\u001b[39m exp_inputs[\u001b[38;5;124m\"\u001b[39m\u001b[38;5;124mperiod\u001b[39m\u001b[38;5;124m\"\u001b[39m])) \u001b[38;5;241m+\u001b[39m \u001b[38;5;241m1\u001b[39m, \u001b[38;5;241m2\u001b[39m)\n\u001b[1;32m--> 902\u001b[0m step_solution \u001b[38;5;241m=\u001b[39m \u001b[43msolver\u001b[49m\u001b[38;5;241;43m.\u001b[39;49m\u001b[43mstep\u001b[49m\u001b[43m(\u001b[49m\n\u001b[0;32m    903\u001b[0m \u001b[43m    \u001b[49m\u001b[43mcurrent_solution\u001b[49m\u001b[43m,\u001b[49m\n\u001b[0;32m    904\u001b[0m \u001b[43m    \u001b[49m\u001b[43mmodel\u001b[49m\u001b[43m,\u001b[49m\n\u001b[0;32m    905\u001b[0m \u001b[43m    \u001b[49m\u001b[43mdt\u001b[49m\u001b[43m,\u001b[49m\n\u001b[0;32m    906\u001b[0m \u001b[43m    \u001b[49m\u001b[43mnpts\u001b[49m\u001b[38;5;241;43m=\u001b[39;49m\u001b[43mnpts\u001b[49m\u001b[43m,\u001b[49m\n\u001b[0;32m    907\u001b[0m \u001b[43m    \u001b[49m\u001b[43msave\u001b[49m\u001b[38;5;241;43m=\u001b[39;49m\u001b[38;5;28;43;01mFalse\u001b[39;49;00m\u001b[43m,\u001b[49m\n\u001b[0;32m    908\u001b[0m \u001b[43m    \u001b[49m\u001b[38;5;241;43m*\u001b[39;49m\u001b[38;5;241;43m*\u001b[39;49m\u001b[43mkwargs\u001b[49m\u001b[43m,\u001b[49m\n\u001b[0;32m    909\u001b[0m \u001b[43m\u001b[49m\u001b[43m)\u001b[49m\n\u001b[0;32m    910\u001b[0m steps\u001b[38;5;241m.\u001b[39mappend(step_solution)\n\u001b[0;32m    911\u001b[0m current_solution \u001b[38;5;241m=\u001b[39m step_solution\n",
      "File \u001b[1;32m~\\.conda\\envs\\MNS\\lib\\site-packages\\pybamm\\solvers\\base_solver.py:1215\u001b[0m, in \u001b[0;36mBaseSolver.step\u001b[1;34m(self, old_solution, model, dt, npts, external_variables, inputs, save)\u001b[0m\n\u001b[0;32m   1209\u001b[0m \u001b[38;5;28;01mif\u001b[39;00m old_solution \u001b[38;5;129;01mis\u001b[39;00m \u001b[38;5;28;01mNone\u001b[39;00m:\n\u001b[0;32m   1210\u001b[0m     \u001b[38;5;66;03m# Run set up on first step\u001b[39;00m\n\u001b[0;32m   1211\u001b[0m     pybamm\u001b[38;5;241m.\u001b[39mlogger\u001b[38;5;241m.\u001b[39mverbose(\n\u001b[0;32m   1212\u001b[0m         \u001b[38;5;124m\"\u001b[39m\u001b[38;5;124mStart stepping \u001b[39m\u001b[38;5;132;01m{}\u001b[39;00m\u001b[38;5;124m with \u001b[39m\u001b[38;5;132;01m{}\u001b[39;00m\u001b[38;5;124m\"\u001b[39m\u001b[38;5;241m.\u001b[39mformat(model\u001b[38;5;241m.\u001b[39mname, \u001b[38;5;28mself\u001b[39m\u001b[38;5;241m.\u001b[39mname)\n\u001b[0;32m   1213\u001b[0m     )\n\u001b[1;32m-> 1215\u001b[0m     \u001b[38;5;28;43mself\u001b[39;49m\u001b[38;5;241;43m.\u001b[39;49m\u001b[43mset_up\u001b[49m\u001b[43m(\u001b[49m\u001b[43mmodel\u001b[49m\u001b[43m,\u001b[49m\u001b[43m \u001b[49m\u001b[43mext_and_inputs\u001b[49m\u001b[43m)\u001b[49m\n\u001b[0;32m   1216\u001b[0m     \u001b[38;5;28mself\u001b[39m\u001b[38;5;241m.\u001b[39mmodels_set_up\u001b[38;5;241m.\u001b[39mupdate(\n\u001b[0;32m   1217\u001b[0m         {model: {\u001b[38;5;124m\"\u001b[39m\u001b[38;5;124minitial conditions\u001b[39m\u001b[38;5;124m\"\u001b[39m: model\u001b[38;5;241m.\u001b[39mconcatenated_initial_conditions}}\n\u001b[0;32m   1218\u001b[0m     )\n\u001b[0;32m   1219\u001b[0m     t \u001b[38;5;241m=\u001b[39m \u001b[38;5;241m0.0\u001b[39m\n",
      "File \u001b[1;32m~\\.conda\\envs\\MNS\\lib\\site-packages\\pybamm\\solvers\\base_solver.py:230\u001b[0m, in \u001b[0;36mBaseSolver.set_up\u001b[1;34m(self, model, inputs, t_eval, ics_only)\u001b[0m\n\u001b[0;32m    228\u001b[0m         p_casadi[name] \u001b[38;5;241m=\u001b[39m casadi\u001b[38;5;241m.\u001b[39mMX\u001b[38;5;241m.\u001b[39msym(name)\n\u001b[0;32m    229\u001b[0m     \u001b[38;5;28;01melse\u001b[39;00m:\n\u001b[1;32m--> 230\u001b[0m         p_casadi[name] \u001b[38;5;241m=\u001b[39m casadi\u001b[38;5;241m.\u001b[39mMX\u001b[38;5;241m.\u001b[39msym(name, \u001b[43mvalue\u001b[49m\u001b[38;5;241;43m.\u001b[39;49m\u001b[43mshape\u001b[49m\u001b[43m[\u001b[49m\u001b[38;5;241;43m0\u001b[39;49m\u001b[43m]\u001b[49m)\n\u001b[0;32m    231\u001b[0m p_casadi_stacked \u001b[38;5;241m=\u001b[39m casadi\u001b[38;5;241m.\u001b[39mvertcat(\u001b[38;5;241m*\u001b[39m[p \u001b[38;5;28;01mfor\u001b[39;00m p \u001b[38;5;129;01min\u001b[39;00m p_casadi\u001b[38;5;241m.\u001b[39mvalues()])\n\u001b[0;32m    232\u001b[0m \u001b[38;5;66;03m# sensitivity vectors\u001b[39;00m\n",
      "\u001b[1;31mIndexError\u001b[0m: tuple index out of range"
     ]
    }
   ],
   "source": [
    "result.plot()"
   ]
  },
  {
   "cell_type": "code",
   "execution_count": null,
   "id": "419192ce",
   "metadata": {},
   "outputs": [],
   "source": []
  }
 ],
 "metadata": {
  "kernelspec": {
   "display_name": "Python 3 (ipykernel)",
   "language": "python",
   "name": "python3"
  },
  "language_info": {
   "codemirror_mode": {
    "name": "ipython",
    "version": 3
   },
   "file_extension": ".py",
   "mimetype": "text/x-python",
   "name": "python",
   "nbconvert_exporter": "python",
   "pygments_lexer": "ipython3",
   "version": "3.8.12"
  }
 },
 "nbformat": 4,
 "nbformat_minor": 5
}

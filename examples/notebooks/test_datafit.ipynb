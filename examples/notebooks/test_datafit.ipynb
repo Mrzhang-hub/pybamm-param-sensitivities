{
 "cells": [
  {
   "cell_type": "code",
   "execution_count": 1,
   "id": "5ba4b709",
   "metadata": {},
   "outputs": [],
   "source": [
    "import os\n",
    "os.chdir(\"../..\")\n",
    "import process_experimental_data as prepos\n",
    "from set_parameters import (\n",
    "    set_thermal_parameters,\n",
    "    set_experiment_parameters,\n",
    "    set_ambient_temperature,\n",
    ")\n",
    "\n",
    "import pybamm\n",
    "import numpy as np\n",
    "import pbparam\n",
    "import pandas as pd\n"
   ]
  },
  {
   "cell_type": "code",
   "execution_count": 2,
   "id": "9bfce968",
   "metadata": {},
   "outputs": [],
   "source": [
    "temperature = 25  # in degC, valid values: 0, 10, 25\n",
    "crate = 1         # valid values: 0.5, 1, 2\n",
    "cell_selected = [\"789\"]\n",
    "dataset=prepos.import_thermal_data(crate, temperature)"
   ]
  },
  {
   "cell_type": "code",
   "execution_count": 3,
   "id": "d9749c9e",
   "metadata": {},
   "outputs": [],
   "source": [
    "data_conc = {\"Time [s]\": [], \"Terminal voltage [V]\": [], \"X-averaged cell temperature [degC]\": []}\n",
    "for cell, data in dataset.items():\n",
    "    if cell in cell_selected:\n",
    "        idx_start, idx_end = prepos.get_idxs(data, crate * 5, 5 / 3)\n",
    "        if len(idx_end) == 1:\n",
    "            idx_end = np.append(idx_end, len(data[\"Time [s]\"]))\n",
    "        data_conc[\"Time [s]\"] = np.append(\n",
    "            data_conc[\"Time [s]\"],\n",
    "            data[\"Time [s]\"][idx_start[0] : idx_end[1]]\n",
    "            - data[\"Time [s]\"][idx_start[0]],\n",
    "        )\n",
    "        data_conc[\"Terminal voltage [V]\"] = np.append(\n",
    "            data_conc[\"Terminal voltage [V]\"], data[\"Voltage [V]\"][idx_start[0] : idx_end[1]]\n",
    "        )\n",
    "        data_conc[\"X-averaged cell temperature [degC]\"] = np.append(\n",
    "            data_conc[\"X-averaged cell temperature [degC]\"],\n",
    "            data[\"Temp Cell [degC]\"][idx_start[0] : idx_end[1]],\n",
    "        )\n",
    "data_conc=pd.DataFrame(data_conc)"
   ]
  },
  {
   "cell_type": "code",
   "execution_count": 4,
   "id": "55c4ff08",
   "metadata": {},
   "outputs": [],
   "source": [
    "data_conc[\"X-averaged cell temperature [degC]\"]=data_conc[\"X-averaged cell temperature [degC]\"]+273.15\n",
    "data_conc = data_conc.rename(columns = {\"X-averaged cell temperature [degC]\":\"X-averaged cell temperature [K]\"})"
   ]
  },
  {
   "cell_type": "code",
   "execution_count": 5,
   "id": "cdfbbe24",
   "metadata": {},
   "outputs": [],
   "source": [
    "def j0_neg(c_e, c_s_surf, T):\n",
    "    \"\"\"\n",
    "    This function has been copied from the Chen2020 parameter set:\n",
    "    pybamm/input/parameters/lithium_ion/negative_electrodes/graphite_Chen2020\n",
    "    /graphite_LGM50_electrolyte_exchange_current_density_Chen2020.py\n",
    "    Similar could be done for the positive exchange current density\n",
    "    \"\"\"\n",
    "    m_ref = pybamm.Parameter(\"Negative electrode reaction coefficient\")\n",
    "    E_r = 3500    \n",
    "    arrhenius = pybamm.exp(E_r / pybamm.constants.R * (1 / 298.15 - 1 / T))\n",
    "    c_n_max = pybamm.Parameter(\"Maximum concentration in negative electrode [mol.m-3]\")\n",
    "    return (m_ref * arrhenius * c_e ** 0.5 * c_s_surf ** 0.5 * (c_n_max - c_s_surf) ** 0.5)"
   ]
  },
  {
   "cell_type": "code",
   "execution_count": 6,
   "id": "b9d0f9e1",
   "metadata": {},
   "outputs": [],
   "source": [
    "model = pybamm.lithium_ion.SPMe(\n",
    "            options={\n",
    "                \"thermal\": \"lumped\",\n",
    "                \"dimensionality\": 0,\n",
    "                \"cell geometry\": \"arbitrary\",\n",
    "                \"electrolyte conductivity\": \"integrated\",\n",
    "            },\n",
    "            name=\"TSPMe\",\n",
    "        )\n",
    "\n",
    "param_default = pybamm.ParameterValues(chemistry=pybamm.parameter_sets.Chen2020)\n",
    "param = set_thermal_parameters(param_default, 16, 2.32e6, temperature)\n",
    "param = set_experiment_parameters(param, crate, temperature)\n",
    "param = set_ambient_temperature(param, crate, temperature)\n",
    "param.update({\n",
    "            \"Negative electrode exchange-current density [A.m-2]\": j0_neg,\n",
    "            \"Negative electrode reaction coefficient\": \"[input]\",\n",
    "            \"Negative electrode diffusivity [m2.s-1]\" : \"[input]\",\n",
    "            \"Total heat transfer coefficient [W.m-2.K-1]\" : \"[input]\",\n",
    "            \"Positive current collector specific heat capacity [J.kg-1.K-1]\" : \"[input]\",\n",
    "            \"Negative current collector specific heat capacity [J.kg-1.K-1]\" : \"[input]\",\n",
    "            \"Negative electrode specific heat capacity [J.kg-1.K-1]\" : \"[input]\",\n",
    "            \"Separator specific heat capacity [J.kg-1.K-1]\" : \"[input]\",\n",
    "            \"Positive electrode specific heat capacity [J.kg-1.K-1]\" : \"[input]\"\n",
    "        }, check_already_exists=False)\n",
    "experiment = pybamm.Experiment(\n",
    "            [\n",
    "                \"Discharge at {}C until 2.5 V (5 seconds period)\".format(crate),\n",
    "                \"Rest for 2 hours\",\n",
    "            ],period=\"30 seconds\")\n",
    "simulation = pybamm.Simulation(\n",
    "            model,\n",
    "            parameter_values=param,\n",
    "            experiment=experiment,\n",
    "            )\n",
    "param_optimised={\"Negative electrode diffusivity [m2.s-1]\":(5e-14,(2.06e-16,2.06e-12))\n",
    "                  #\"Negative electrode reaction coefficient\":(6.48e-7,(2.18589831e-9,2.18589831e-5)),\n",
    "                 # \"Total heat transfer coefficient [W.m-2.K-1]\":(20,(0.1,1000)),\n",
    "                  #(\"Positive current collector specific heat capacity [J.kg-1.K-1]\",\n",
    "                  # \"Negative current collector specific heat capacity [J.kg-1.K-1]\",\n",
    "                  # \"Negative electrode specific heat capacity [J.kg-1.K-1]\",\n",
    "                  # \"Separator specific heat capacity [J.kg-1.K-1]\",\n",
    "                  # \"Positive electrode specific heat capacity [J.kg-1.K-1]\"):(2.85e3,(2.85, 2.85e6))\n",
    "                 }\n",
    "variables_optimised = [\"Terminal voltage [V]\", \"X-averaged cell temperature [K]\"]"
   ]
  },
  {
   "cell_type": "code",
   "execution_count": 7,
   "id": "38ecca2b",
   "metadata": {},
   "outputs": [],
   "source": [
    "opt = pbparam.DataFit(\n",
    "    simulation,\n",
    "    data_conc,\n",
    "    param_optimised,\n",
    "    variables_optimised)"
   ]
  },
  {
   "cell_type": "code",
   "execution_count": 8,
   "id": "8d989185",
   "metadata": {},
   "outputs": [],
   "source": [
    "optimiser=pbparam.ScipyDifferentialEvolution(extra_options={\"workers\": 1, \"polish\": True, \"updating\": \"deferred\",\"disp\": True})"
   ]
  },
  {
   "cell_type": "code",
   "execution_count": 9,
   "id": "622d3176",
   "metadata": {},
   "outputs": [
    {
     "ename": "KeyError",
     "evalue": "\"Input parameter 'Negative current collector specific heat capacity [J.kg-1.K-1]' not found\"",
     "output_type": "error",
     "traceback": [
      "\u001b[1;31m---------------------------------------------------------------------------\u001b[0m",
      "\u001b[1;31mKeyError\u001b[0m                                  Traceback (most recent call last)",
      "File \u001b[1;32m~\\.conda\\envs\\MNS\\lib\\site-packages\\pybamm\\expression_tree\\operations\\convert_to_casadi.py:40\u001b[0m, in \u001b[0;36mCasadiConverter.convert\u001b[1;34m(self, symbol, t, y, y_dot, inputs)\u001b[0m\n\u001b[0;32m     39\u001b[0m \u001b[38;5;28;01mtry\u001b[39;00m:\n\u001b[1;32m---> 40\u001b[0m     \u001b[38;5;28;01mreturn\u001b[39;00m \u001b[38;5;28;43mself\u001b[39;49m\u001b[38;5;241;43m.\u001b[39;49m\u001b[43m_casadi_symbols\u001b[49m\u001b[43m[\u001b[49m\u001b[43msymbol\u001b[49m\u001b[38;5;241;43m.\u001b[39;49m\u001b[43mid\u001b[49m\u001b[43m]\u001b[49m\n\u001b[0;32m     41\u001b[0m \u001b[38;5;28;01mexcept\u001b[39;00m \u001b[38;5;167;01mKeyError\u001b[39;00m:\n\u001b[0;32m     42\u001b[0m     \u001b[38;5;66;03m# Change inputs to empty dictionary if it's None\u001b[39;00m\n",
      "\u001b[1;31mKeyError\u001b[0m: 8302354521139712745",
      "\nDuring handling of the above exception, another exception occurred:\n",
      "\u001b[1;31mKeyError\u001b[0m                                  Traceback (most recent call last)",
      "File \u001b[1;32m~\\.conda\\envs\\MNS\\lib\\site-packages\\pybamm\\expression_tree\\operations\\convert_to_casadi.py:40\u001b[0m, in \u001b[0;36mCasadiConverter.convert\u001b[1;34m(self, symbol, t, y, y_dot, inputs)\u001b[0m\n\u001b[0;32m     39\u001b[0m \u001b[38;5;28;01mtry\u001b[39;00m:\n\u001b[1;32m---> 40\u001b[0m     \u001b[38;5;28;01mreturn\u001b[39;00m \u001b[38;5;28;43mself\u001b[39;49m\u001b[38;5;241;43m.\u001b[39;49m\u001b[43m_casadi_symbols\u001b[49m\u001b[43m[\u001b[49m\u001b[43msymbol\u001b[49m\u001b[38;5;241;43m.\u001b[39;49m\u001b[43mid\u001b[49m\u001b[43m]\u001b[49m\n\u001b[0;32m     41\u001b[0m \u001b[38;5;28;01mexcept\u001b[39;00m \u001b[38;5;167;01mKeyError\u001b[39;00m:\n\u001b[0;32m     42\u001b[0m     \u001b[38;5;66;03m# Change inputs to empty dictionary if it's None\u001b[39;00m\n",
      "\u001b[1;31mKeyError\u001b[0m: 7020449802925964473",
      "\nDuring handling of the above exception, another exception occurred:\n",
      "\u001b[1;31mKeyError\u001b[0m                                  Traceback (most recent call last)",
      "File \u001b[1;32m~\\.conda\\envs\\MNS\\lib\\site-packages\\pybamm\\expression_tree\\operations\\convert_to_casadi.py:40\u001b[0m, in \u001b[0;36mCasadiConverter.convert\u001b[1;34m(self, symbol, t, y, y_dot, inputs)\u001b[0m\n\u001b[0;32m     39\u001b[0m \u001b[38;5;28;01mtry\u001b[39;00m:\n\u001b[1;32m---> 40\u001b[0m     \u001b[38;5;28;01mreturn\u001b[39;00m \u001b[38;5;28;43mself\u001b[39;49m\u001b[38;5;241;43m.\u001b[39;49m\u001b[43m_casadi_symbols\u001b[49m\u001b[43m[\u001b[49m\u001b[43msymbol\u001b[49m\u001b[38;5;241;43m.\u001b[39;49m\u001b[43mid\u001b[49m\u001b[43m]\u001b[49m\n\u001b[0;32m     41\u001b[0m \u001b[38;5;28;01mexcept\u001b[39;00m \u001b[38;5;167;01mKeyError\u001b[39;00m:\n\u001b[0;32m     42\u001b[0m     \u001b[38;5;66;03m# Change inputs to empty dictionary if it's None\u001b[39;00m\n",
      "\u001b[1;31mKeyError\u001b[0m: 1720961189347152044",
      "\nDuring handling of the above exception, another exception occurred:\n",
      "\u001b[1;31mKeyError\u001b[0m                                  Traceback (most recent call last)",
      "File \u001b[1;32m~\\.conda\\envs\\MNS\\lib\\site-packages\\pybamm\\expression_tree\\operations\\convert_to_casadi.py:40\u001b[0m, in \u001b[0;36mCasadiConverter.convert\u001b[1;34m(self, symbol, t, y, y_dot, inputs)\u001b[0m\n\u001b[0;32m     39\u001b[0m \u001b[38;5;28;01mtry\u001b[39;00m:\n\u001b[1;32m---> 40\u001b[0m     \u001b[38;5;28;01mreturn\u001b[39;00m \u001b[38;5;28;43mself\u001b[39;49m\u001b[38;5;241;43m.\u001b[39;49m\u001b[43m_casadi_symbols\u001b[49m\u001b[43m[\u001b[49m\u001b[43msymbol\u001b[49m\u001b[38;5;241;43m.\u001b[39;49m\u001b[43mid\u001b[49m\u001b[43m]\u001b[49m\n\u001b[0;32m     41\u001b[0m \u001b[38;5;28;01mexcept\u001b[39;00m \u001b[38;5;167;01mKeyError\u001b[39;00m:\n\u001b[0;32m     42\u001b[0m     \u001b[38;5;66;03m# Change inputs to empty dictionary if it's None\u001b[39;00m\n",
      "\u001b[1;31mKeyError\u001b[0m: -7970630088243275199",
      "\nDuring handling of the above exception, another exception occurred:\n",
      "\u001b[1;31mKeyError\u001b[0m                                  Traceback (most recent call last)",
      "File \u001b[1;32m~\\.conda\\envs\\MNS\\lib\\site-packages\\pybamm\\expression_tree\\operations\\convert_to_casadi.py:40\u001b[0m, in \u001b[0;36mCasadiConverter.convert\u001b[1;34m(self, symbol, t, y, y_dot, inputs)\u001b[0m\n\u001b[0;32m     39\u001b[0m \u001b[38;5;28;01mtry\u001b[39;00m:\n\u001b[1;32m---> 40\u001b[0m     \u001b[38;5;28;01mreturn\u001b[39;00m \u001b[38;5;28;43mself\u001b[39;49m\u001b[38;5;241;43m.\u001b[39;49m\u001b[43m_casadi_symbols\u001b[49m\u001b[43m[\u001b[49m\u001b[43msymbol\u001b[49m\u001b[38;5;241;43m.\u001b[39;49m\u001b[43mid\u001b[49m\u001b[43m]\u001b[49m\n\u001b[0;32m     41\u001b[0m \u001b[38;5;28;01mexcept\u001b[39;00m \u001b[38;5;167;01mKeyError\u001b[39;00m:\n\u001b[0;32m     42\u001b[0m     \u001b[38;5;66;03m# Change inputs to empty dictionary if it's None\u001b[39;00m\n",
      "\u001b[1;31mKeyError\u001b[0m: 3829675664589893213",
      "\nDuring handling of the above exception, another exception occurred:\n",
      "\u001b[1;31mKeyError\u001b[0m                                  Traceback (most recent call last)",
      "File \u001b[1;32m~\\.conda\\envs\\MNS\\lib\\site-packages\\pybamm\\expression_tree\\operations\\convert_to_casadi.py:40\u001b[0m, in \u001b[0;36mCasadiConverter.convert\u001b[1;34m(self, symbol, t, y, y_dot, inputs)\u001b[0m\n\u001b[0;32m     39\u001b[0m \u001b[38;5;28;01mtry\u001b[39;00m:\n\u001b[1;32m---> 40\u001b[0m     \u001b[38;5;28;01mreturn\u001b[39;00m \u001b[38;5;28;43mself\u001b[39;49m\u001b[38;5;241;43m.\u001b[39;49m\u001b[43m_casadi_symbols\u001b[49m\u001b[43m[\u001b[49m\u001b[43msymbol\u001b[49m\u001b[38;5;241;43m.\u001b[39;49m\u001b[43mid\u001b[49m\u001b[43m]\u001b[49m\n\u001b[0;32m     41\u001b[0m \u001b[38;5;28;01mexcept\u001b[39;00m \u001b[38;5;167;01mKeyError\u001b[39;00m:\n\u001b[0;32m     42\u001b[0m     \u001b[38;5;66;03m# Change inputs to empty dictionary if it's None\u001b[39;00m\n",
      "\u001b[1;31mKeyError\u001b[0m: -4958083770439167287",
      "\nDuring handling of the above exception, another exception occurred:\n",
      "\u001b[1;31mKeyError\u001b[0m                                  Traceback (most recent call last)",
      "File \u001b[1;32m~\\.conda\\envs\\MNS\\lib\\site-packages\\pybamm\\expression_tree\\operations\\convert_to_casadi.py:40\u001b[0m, in \u001b[0;36mCasadiConverter.convert\u001b[1;34m(self, symbol, t, y, y_dot, inputs)\u001b[0m\n\u001b[0;32m     39\u001b[0m \u001b[38;5;28;01mtry\u001b[39;00m:\n\u001b[1;32m---> 40\u001b[0m     \u001b[38;5;28;01mreturn\u001b[39;00m \u001b[38;5;28;43mself\u001b[39;49m\u001b[38;5;241;43m.\u001b[39;49m\u001b[43m_casadi_symbols\u001b[49m\u001b[43m[\u001b[49m\u001b[43msymbol\u001b[49m\u001b[38;5;241;43m.\u001b[39;49m\u001b[43mid\u001b[49m\u001b[43m]\u001b[49m\n\u001b[0;32m     41\u001b[0m \u001b[38;5;28;01mexcept\u001b[39;00m \u001b[38;5;167;01mKeyError\u001b[39;00m:\n\u001b[0;32m     42\u001b[0m     \u001b[38;5;66;03m# Change inputs to empty dictionary if it's None\u001b[39;00m\n",
      "\u001b[1;31mKeyError\u001b[0m: -9218587694992009152",
      "\nDuring handling of the above exception, another exception occurred:\n",
      "\u001b[1;31mKeyError\u001b[0m                                  Traceback (most recent call last)",
      "File \u001b[1;32m~\\.conda\\envs\\MNS\\lib\\site-packages\\pybamm\\expression_tree\\operations\\convert_to_casadi.py:40\u001b[0m, in \u001b[0;36mCasadiConverter.convert\u001b[1;34m(self, symbol, t, y, y_dot, inputs)\u001b[0m\n\u001b[0;32m     39\u001b[0m \u001b[38;5;28;01mtry\u001b[39;00m:\n\u001b[1;32m---> 40\u001b[0m     \u001b[38;5;28;01mreturn\u001b[39;00m \u001b[38;5;28;43mself\u001b[39;49m\u001b[38;5;241;43m.\u001b[39;49m\u001b[43m_casadi_symbols\u001b[49m\u001b[43m[\u001b[49m\u001b[43msymbol\u001b[49m\u001b[38;5;241;43m.\u001b[39;49m\u001b[43mid\u001b[49m\u001b[43m]\u001b[49m\n\u001b[0;32m     41\u001b[0m \u001b[38;5;28;01mexcept\u001b[39;00m \u001b[38;5;167;01mKeyError\u001b[39;00m:\n\u001b[0;32m     42\u001b[0m     \u001b[38;5;66;03m# Change inputs to empty dictionary if it's None\u001b[39;00m\n",
      "\u001b[1;31mKeyError\u001b[0m: -8582678616519295454",
      "\nDuring handling of the above exception, another exception occurred:\n",
      "\u001b[1;31mKeyError\u001b[0m                                  Traceback (most recent call last)",
      "File \u001b[1;32m~\\.conda\\envs\\MNS\\lib\\site-packages\\pybamm\\expression_tree\\operations\\convert_to_casadi.py:40\u001b[0m, in \u001b[0;36mCasadiConverter.convert\u001b[1;34m(self, symbol, t, y, y_dot, inputs)\u001b[0m\n\u001b[0;32m     39\u001b[0m \u001b[38;5;28;01mtry\u001b[39;00m:\n\u001b[1;32m---> 40\u001b[0m     \u001b[38;5;28;01mreturn\u001b[39;00m \u001b[38;5;28;43mself\u001b[39;49m\u001b[38;5;241;43m.\u001b[39;49m\u001b[43m_casadi_symbols\u001b[49m\u001b[43m[\u001b[49m\u001b[43msymbol\u001b[49m\u001b[38;5;241;43m.\u001b[39;49m\u001b[43mid\u001b[49m\u001b[43m]\u001b[49m\n\u001b[0;32m     41\u001b[0m \u001b[38;5;28;01mexcept\u001b[39;00m \u001b[38;5;167;01mKeyError\u001b[39;00m:\n\u001b[0;32m     42\u001b[0m     \u001b[38;5;66;03m# Change inputs to empty dictionary if it's None\u001b[39;00m\n",
      "\u001b[1;31mKeyError\u001b[0m: 3183082440982407254",
      "\nDuring handling of the above exception, another exception occurred:\n",
      "\u001b[1;31mKeyError\u001b[0m                                  Traceback (most recent call last)",
      "File \u001b[1;32m~\\.conda\\envs\\MNS\\lib\\site-packages\\pybamm\\expression_tree\\operations\\convert_to_casadi.py:40\u001b[0m, in \u001b[0;36mCasadiConverter.convert\u001b[1;34m(self, symbol, t, y, y_dot, inputs)\u001b[0m\n\u001b[0;32m     39\u001b[0m \u001b[38;5;28;01mtry\u001b[39;00m:\n\u001b[1;32m---> 40\u001b[0m     \u001b[38;5;28;01mreturn\u001b[39;00m \u001b[38;5;28;43mself\u001b[39;49m\u001b[38;5;241;43m.\u001b[39;49m\u001b[43m_casadi_symbols\u001b[49m\u001b[43m[\u001b[49m\u001b[43msymbol\u001b[49m\u001b[38;5;241;43m.\u001b[39;49m\u001b[43mid\u001b[49m\u001b[43m]\u001b[49m\n\u001b[0;32m     41\u001b[0m \u001b[38;5;28;01mexcept\u001b[39;00m \u001b[38;5;167;01mKeyError\u001b[39;00m:\n\u001b[0;32m     42\u001b[0m     \u001b[38;5;66;03m# Change inputs to empty dictionary if it's None\u001b[39;00m\n",
      "\u001b[1;31mKeyError\u001b[0m: -4226329196732382335",
      "\nDuring handling of the above exception, another exception occurred:\n",
      "\u001b[1;31mKeyError\u001b[0m                                  Traceback (most recent call last)",
      "File \u001b[1;32m~\\.conda\\envs\\MNS\\lib\\site-packages\\pybamm\\expression_tree\\operations\\convert_to_casadi.py:40\u001b[0m, in \u001b[0;36mCasadiConverter.convert\u001b[1;34m(self, symbol, t, y, y_dot, inputs)\u001b[0m\n\u001b[0;32m     39\u001b[0m \u001b[38;5;28;01mtry\u001b[39;00m:\n\u001b[1;32m---> 40\u001b[0m     \u001b[38;5;28;01mreturn\u001b[39;00m \u001b[38;5;28;43mself\u001b[39;49m\u001b[38;5;241;43m.\u001b[39;49m\u001b[43m_casadi_symbols\u001b[49m\u001b[43m[\u001b[49m\u001b[43msymbol\u001b[49m\u001b[38;5;241;43m.\u001b[39;49m\u001b[43mid\u001b[49m\u001b[43m]\u001b[49m\n\u001b[0;32m     41\u001b[0m \u001b[38;5;28;01mexcept\u001b[39;00m \u001b[38;5;167;01mKeyError\u001b[39;00m:\n\u001b[0;32m     42\u001b[0m     \u001b[38;5;66;03m# Change inputs to empty dictionary if it's None\u001b[39;00m\n",
      "\u001b[1;31mKeyError\u001b[0m: -5661435345588261239",
      "\nDuring handling of the above exception, another exception occurred:\n",
      "\u001b[1;31mKeyError\u001b[0m                                  Traceback (most recent call last)",
      "File \u001b[1;32m~\\.conda\\envs\\MNS\\lib\\site-packages\\pybamm\\expression_tree\\input_parameter.py:71\u001b[0m, in \u001b[0;36mInputParameter._base_evaluate\u001b[1;34m(self, t, y, y_dot, inputs)\u001b[0m\n\u001b[0;32m     70\u001b[0m \u001b[38;5;28;01mtry\u001b[39;00m:\n\u001b[1;32m---> 71\u001b[0m     input_eval \u001b[38;5;241m=\u001b[39m \u001b[43minputs\u001b[49m\u001b[43m[\u001b[49m\u001b[38;5;28;43mself\u001b[39;49m\u001b[38;5;241;43m.\u001b[39;49m\u001b[43mname\u001b[49m\u001b[43m]\u001b[49m\n\u001b[0;32m     72\u001b[0m \u001b[38;5;66;03m# raise more informative error if can't find name in dict\u001b[39;00m\n",
      "\u001b[1;31mKeyError\u001b[0m: 'Negative current collector specific heat capacity [J.kg-1.K-1]'",
      "\nDuring handling of the above exception, another exception occurred:\n",
      "\u001b[1;31mKeyError\u001b[0m                                  Traceback (most recent call last)",
      "Input \u001b[1;32mIn [9]\u001b[0m, in \u001b[0;36m<module>\u001b[1;34m\u001b[0m\n\u001b[1;32m----> 1\u001b[0m result\u001b[38;5;241m=\u001b[39m\u001b[43moptimiser\u001b[49m\u001b[38;5;241;43m.\u001b[39;49m\u001b[43moptimise\u001b[49m\u001b[43m(\u001b[49m\u001b[43mopt\u001b[49m\u001b[43m)\u001b[49m\n",
      "File \u001b[1;32m~\\Desktop\\GitHub\\pybamm-param\\pbparam\\optimisers\\base_optimiser.py:62\u001b[0m, in \u001b[0;36mBaseOptimiser.optimise\u001b[1;34m(self, optimisation_problem, x0, bounds, pybamm_logging_level)\u001b[0m\n\u001b[0;32m     59\u001b[0m \u001b[38;5;28mself\u001b[39m\u001b[38;5;241m.\u001b[39mx0 \u001b[38;5;241m=\u001b[39m x0 \u001b[38;5;129;01mor\u001b[39;00m optimisation_problem\u001b[38;5;241m.\u001b[39mx0\n\u001b[0;32m     60\u001b[0m \u001b[38;5;28mself\u001b[39m\u001b[38;5;241m.\u001b[39mbounds \u001b[38;5;241m=\u001b[39m bounds \u001b[38;5;129;01mor\u001b[39;00m optimisation_problem\u001b[38;5;241m.\u001b[39mbounds\n\u001b[1;32m---> 62\u001b[0m result \u001b[38;5;241m=\u001b[39m \u001b[38;5;28;43mself\u001b[39;49m\u001b[38;5;241;43m.\u001b[39;49m\u001b[43m_run_optimiser\u001b[49m\u001b[43m(\u001b[49m\u001b[43moptimisation_problem\u001b[49m\u001b[43m,\u001b[49m\u001b[43m \u001b[49m\u001b[38;5;28;43mself\u001b[39;49m\u001b[38;5;241;43m.\u001b[39;49m\u001b[43mx0\u001b[49m\u001b[43m,\u001b[49m\u001b[43m \u001b[49m\u001b[38;5;28;43mself\u001b[39;49m\u001b[38;5;241;43m.\u001b[39;49m\u001b[43mbounds\u001b[49m\u001b[43m)\u001b[49m\n\u001b[0;32m     64\u001b[0m \u001b[38;5;66;03m# Restore original logging level\u001b[39;00m\n\u001b[0;32m     65\u001b[0m pybamm\u001b[38;5;241m.\u001b[39mset_logging_level(old_logging_level)\n",
      "File \u001b[1;32m~\\Desktop\\GitHub\\pybamm-param\\pbparam\\optimisers\\scipy_differential_evolution.py:25\u001b[0m, in \u001b[0;36mScipyDifferentialEvolution._run_optimiser\u001b[1;34m(self, optimisation_problem, x0, bounds)\u001b[0m\n\u001b[0;32m     21\u001b[0m \u001b[38;5;28;01mdef\u001b[39;00m \u001b[38;5;21m_run_optimiser\u001b[39m(\u001b[38;5;28mself\u001b[39m, optimisation_problem, x0, bounds):\n\u001b[0;32m     22\u001b[0m     \u001b[38;5;66;03m# Initialise timer\u001b[39;00m\n\u001b[0;32m     23\u001b[0m     timer \u001b[38;5;241m=\u001b[39m pybamm\u001b[38;5;241m.\u001b[39mTimer()\n\u001b[1;32m---> 25\u001b[0m     raw_result \u001b[38;5;241m=\u001b[39m \u001b[43mdifferential_evolution\u001b[49m\u001b[43m(\u001b[49m\n\u001b[0;32m     26\u001b[0m \u001b[43m        \u001b[49m\u001b[43moptimisation_problem\u001b[49m\u001b[38;5;241;43m.\u001b[39;49m\u001b[43mcost_function\u001b[49m\u001b[43m,\u001b[49m\n\u001b[0;32m     27\u001b[0m \u001b[43m        \u001b[49m\u001b[43mbounds\u001b[49m\u001b[43m,\u001b[49m\n\u001b[0;32m     28\u001b[0m \u001b[43m        \u001b[49m\u001b[43mx0\u001b[49m\u001b[38;5;241;43m=\u001b[39;49m\u001b[43mx0\u001b[49m\u001b[43m,\u001b[49m\n\u001b[0;32m     29\u001b[0m \u001b[43m        \u001b[49m\u001b[38;5;241;43m*\u001b[39;49m\u001b[38;5;241;43m*\u001b[39;49m\u001b[38;5;28;43mself\u001b[39;49m\u001b[38;5;241;43m.\u001b[39;49m\u001b[43mextra_options\u001b[49m\u001b[43m,\u001b[49m\n\u001b[0;32m     30\u001b[0m \u001b[43m    \u001b[49m\u001b[43m)\u001b[49m\n\u001b[0;32m     31\u001b[0m     solve_time \u001b[38;5;241m=\u001b[39m timer\u001b[38;5;241m.\u001b[39mtime()\n\u001b[0;32m     33\u001b[0m     result \u001b[38;5;241m=\u001b[39m pbparam\u001b[38;5;241m.\u001b[39mOptimisationResult(\n\u001b[0;32m     34\u001b[0m         raw_result\u001b[38;5;241m.\u001b[39mx,\n\u001b[0;32m     35\u001b[0m         raw_result\u001b[38;5;241m.\u001b[39msuccess,\n\u001b[1;32m   (...)\u001b[0m\n\u001b[0;32m     39\u001b[0m         optimisation_problem,\n\u001b[0;32m     40\u001b[0m     )\n",
      "File \u001b[1;32m~\\.conda\\envs\\MNS\\lib\\site-packages\\scipy\\optimize\\_differentialevolution.py:329\u001b[0m, in \u001b[0;36mdifferential_evolution\u001b[1;34m(func, bounds, args, strategy, maxiter, popsize, tol, mutation, recombination, seed, callback, disp, polish, init, atol, updating, workers, constraints, x0)\u001b[0m\n\u001b[0;32m    314\u001b[0m \u001b[38;5;66;03m# using a context manager means that any created Pool objects are\u001b[39;00m\n\u001b[0;32m    315\u001b[0m \u001b[38;5;66;03m# cleared up.\u001b[39;00m\n\u001b[0;32m    316\u001b[0m \u001b[38;5;28;01mwith\u001b[39;00m DifferentialEvolutionSolver(func, bounds, args\u001b[38;5;241m=\u001b[39margs,\n\u001b[0;32m    317\u001b[0m                                  strategy\u001b[38;5;241m=\u001b[39mstrategy,\n\u001b[0;32m    318\u001b[0m                                  maxiter\u001b[38;5;241m=\u001b[39mmaxiter,\n\u001b[1;32m   (...)\u001b[0m\n\u001b[0;32m    327\u001b[0m                                  constraints\u001b[38;5;241m=\u001b[39mconstraints,\n\u001b[0;32m    328\u001b[0m                                  x0\u001b[38;5;241m=\u001b[39mx0) \u001b[38;5;28;01mas\u001b[39;00m solver:\n\u001b[1;32m--> 329\u001b[0m     ret \u001b[38;5;241m=\u001b[39m \u001b[43msolver\u001b[49m\u001b[38;5;241;43m.\u001b[39;49m\u001b[43msolve\u001b[49m\u001b[43m(\u001b[49m\u001b[43m)\u001b[49m\n\u001b[0;32m    331\u001b[0m \u001b[38;5;28;01mreturn\u001b[39;00m ret\n",
      "File \u001b[1;32m~\\.conda\\envs\\MNS\\lib\\site-packages\\scipy\\optimize\\_differentialevolution.py:843\u001b[0m, in \u001b[0;36mDifferentialEvolutionSolver.solve\u001b[1;34m(self)\u001b[0m\n\u001b[0;32m    838\u001b[0m     \u001b[38;5;28mself\u001b[39m\u001b[38;5;241m.\u001b[39mfeasible, \u001b[38;5;28mself\u001b[39m\u001b[38;5;241m.\u001b[39mconstraint_violation \u001b[38;5;241m=\u001b[39m (\n\u001b[0;32m    839\u001b[0m         \u001b[38;5;28mself\u001b[39m\u001b[38;5;241m.\u001b[39m_calculate_population_feasibilities(\u001b[38;5;28mself\u001b[39m\u001b[38;5;241m.\u001b[39mpopulation))\n\u001b[0;32m    841\u001b[0m     \u001b[38;5;66;03m# only work out population energies for feasible solutions\u001b[39;00m\n\u001b[0;32m    842\u001b[0m     \u001b[38;5;28mself\u001b[39m\u001b[38;5;241m.\u001b[39mpopulation_energies[\u001b[38;5;28mself\u001b[39m\u001b[38;5;241m.\u001b[39mfeasible] \u001b[38;5;241m=\u001b[39m (\n\u001b[1;32m--> 843\u001b[0m         \u001b[38;5;28;43mself\u001b[39;49m\u001b[38;5;241;43m.\u001b[39;49m\u001b[43m_calculate_population_energies\u001b[49m\u001b[43m(\u001b[49m\n\u001b[0;32m    844\u001b[0m \u001b[43m            \u001b[49m\u001b[38;5;28;43mself\u001b[39;49m\u001b[38;5;241;43m.\u001b[39;49m\u001b[43mpopulation\u001b[49m\u001b[43m[\u001b[49m\u001b[38;5;28;43mself\u001b[39;49m\u001b[38;5;241;43m.\u001b[39;49m\u001b[43mfeasible\u001b[49m\u001b[43m]\u001b[49m\u001b[43m)\u001b[49m)\n\u001b[0;32m    846\u001b[0m     \u001b[38;5;28mself\u001b[39m\u001b[38;5;241m.\u001b[39m_promote_lowest_energy()\n\u001b[0;32m    848\u001b[0m \u001b[38;5;66;03m# do the optimization.\u001b[39;00m\n",
      "File \u001b[1;32m~\\.conda\\envs\\MNS\\lib\\site-packages\\scipy\\optimize\\_differentialevolution.py:968\u001b[0m, in \u001b[0;36mDifferentialEvolutionSolver._calculate_population_energies\u001b[1;34m(self, population)\u001b[0m\n\u001b[0;32m    966\u001b[0m parameters_pop \u001b[38;5;241m=\u001b[39m \u001b[38;5;28mself\u001b[39m\u001b[38;5;241m.\u001b[39m_scale_parameters(population)\n\u001b[0;32m    967\u001b[0m \u001b[38;5;28;01mtry\u001b[39;00m:\n\u001b[1;32m--> 968\u001b[0m     calc_energies \u001b[38;5;241m=\u001b[39m \u001b[38;5;28;43mlist\u001b[39;49m\u001b[43m(\u001b[49m\u001b[38;5;28;43mself\u001b[39;49m\u001b[38;5;241;43m.\u001b[39;49m\u001b[43m_mapwrapper\u001b[49m\u001b[43m(\u001b[49m\u001b[38;5;28;43mself\u001b[39;49m\u001b[38;5;241;43m.\u001b[39;49m\u001b[43mfunc\u001b[49m\u001b[43m,\u001b[49m\n\u001b[0;32m    969\u001b[0m \u001b[43m                                          \u001b[49m\u001b[43mparameters_pop\u001b[49m\u001b[43m[\u001b[49m\u001b[38;5;241;43m0\u001b[39;49m\u001b[43m:\u001b[49m\u001b[43mnfevs\u001b[49m\u001b[43m]\u001b[49m\u001b[43m)\u001b[49m\u001b[43m)\u001b[49m\n\u001b[0;32m    970\u001b[0m     calc_energies \u001b[38;5;241m=\u001b[39m np\u001b[38;5;241m.\u001b[39msqueeze(calc_energies)\n\u001b[0;32m    971\u001b[0m \u001b[38;5;28;01mexcept\u001b[39;00m (\u001b[38;5;167;01mTypeError\u001b[39;00m, \u001b[38;5;167;01mValueError\u001b[39;00m) \u001b[38;5;28;01mas\u001b[39;00m e:\n\u001b[0;32m    972\u001b[0m     \u001b[38;5;66;03m# wrong number of arguments for _mapwrapper\u001b[39;00m\n\u001b[0;32m    973\u001b[0m     \u001b[38;5;66;03m# or wrong length returned from the mapper\u001b[39;00m\n",
      "File \u001b[1;32m~\\.conda\\envs\\MNS\\lib\\site-packages\\scipy\\_lib\\_util.py:407\u001b[0m, in \u001b[0;36m_FunctionWrapper.__call__\u001b[1;34m(self, x)\u001b[0m\n\u001b[0;32m    406\u001b[0m \u001b[38;5;28;01mdef\u001b[39;00m \u001b[38;5;21m__call__\u001b[39m(\u001b[38;5;28mself\u001b[39m, x):\n\u001b[1;32m--> 407\u001b[0m     \u001b[38;5;28;01mreturn\u001b[39;00m \u001b[38;5;28;43mself\u001b[39;49m\u001b[38;5;241;43m.\u001b[39;49m\u001b[43mf\u001b[49m\u001b[43m(\u001b[49m\u001b[43mx\u001b[49m\u001b[43m,\u001b[49m\u001b[43m \u001b[49m\u001b[38;5;241;43m*\u001b[39;49m\u001b[38;5;28;43mself\u001b[39;49m\u001b[38;5;241;43m.\u001b[39;49m\u001b[43margs\u001b[49m\u001b[43m)\u001b[49m\n",
      "File \u001b[1;32m~\\Desktop\\GitHub\\pybamm-param\\pbparam\\optimisation_problems\\data_fit.py:37\u001b[0m, in \u001b[0;36mcost_function_full\u001b[1;34m(simulation, map_inputs, data, variables_optimise, x)\u001b[0m\n\u001b[0;32m     35\u001b[0m input_dict \u001b[38;5;241m=\u001b[39m {param: x[i] \u001b[38;5;28;01mfor\u001b[39;00m param, i \u001b[38;5;129;01min\u001b[39;00m map_inputs\u001b[38;5;241m.\u001b[39mitems()}\n\u001b[0;32m     36\u001b[0m t_end \u001b[38;5;241m=\u001b[39m data[\u001b[38;5;124m\"\u001b[39m\u001b[38;5;124mTime [s]\u001b[39m\u001b[38;5;124m\"\u001b[39m]\u001b[38;5;241m.\u001b[39miloc[\u001b[38;5;241m-\u001b[39m\u001b[38;5;241m1\u001b[39m]\n\u001b[1;32m---> 37\u001b[0m solution \u001b[38;5;241m=\u001b[39m \u001b[43msimulation\u001b[49m\u001b[38;5;241;43m.\u001b[39;49m\u001b[43msolve\u001b[49m\u001b[43m(\u001b[49m\u001b[43m[\u001b[49m\u001b[38;5;241;43m0\u001b[39;49m\u001b[43m,\u001b[49m\u001b[43m \u001b[49m\u001b[43mt_end\u001b[49m\u001b[43m]\u001b[49m\u001b[43m,\u001b[49m\u001b[43m \u001b[49m\u001b[43minputs\u001b[49m\u001b[38;5;241;43m=\u001b[39;49m\u001b[43minput_dict\u001b[49m\u001b[43m)\u001b[49m\n\u001b[0;32m     38\u001b[0m TNRMSE \u001b[38;5;241m=\u001b[39m \u001b[38;5;241m0\u001b[39m\n\u001b[0;32m     39\u001b[0m \u001b[38;5;28;01mfor\u001b[39;00m variable \u001b[38;5;129;01min\u001b[39;00m variables_optimise:\n",
      "File \u001b[1;32m~\\.conda\\envs\\MNS\\lib\\site-packages\\pybamm\\simulation.py:902\u001b[0m, in \u001b[0;36mSimulation.solve\u001b[1;34m(self, t_eval, solver, check_model, save_at_cycles, calc_esoh, starting_solution, initial_soc, **kwargs)\u001b[0m\n\u001b[0;32m    900\u001b[0m \u001b[38;5;66;03m# Make sure we take at least 2 timesteps\u001b[39;00m\n\u001b[0;32m    901\u001b[0m npts \u001b[38;5;241m=\u001b[39m \u001b[38;5;28mmax\u001b[39m(\u001b[38;5;28mint\u001b[39m(\u001b[38;5;28mround\u001b[39m(dt \u001b[38;5;241m/\u001b[39m exp_inputs[\u001b[38;5;124m\"\u001b[39m\u001b[38;5;124mperiod\u001b[39m\u001b[38;5;124m\"\u001b[39m])) \u001b[38;5;241m+\u001b[39m \u001b[38;5;241m1\u001b[39m, \u001b[38;5;241m2\u001b[39m)\n\u001b[1;32m--> 902\u001b[0m step_solution \u001b[38;5;241m=\u001b[39m \u001b[43msolver\u001b[49m\u001b[38;5;241;43m.\u001b[39;49m\u001b[43mstep\u001b[49m\u001b[43m(\u001b[49m\n\u001b[0;32m    903\u001b[0m \u001b[43m    \u001b[49m\u001b[43mcurrent_solution\u001b[49m\u001b[43m,\u001b[49m\n\u001b[0;32m    904\u001b[0m \u001b[43m    \u001b[49m\u001b[43mmodel\u001b[49m\u001b[43m,\u001b[49m\n\u001b[0;32m    905\u001b[0m \u001b[43m    \u001b[49m\u001b[43mdt\u001b[49m\u001b[43m,\u001b[49m\n\u001b[0;32m    906\u001b[0m \u001b[43m    \u001b[49m\u001b[43mnpts\u001b[49m\u001b[38;5;241;43m=\u001b[39;49m\u001b[43mnpts\u001b[49m\u001b[43m,\u001b[49m\n\u001b[0;32m    907\u001b[0m \u001b[43m    \u001b[49m\u001b[43msave\u001b[49m\u001b[38;5;241;43m=\u001b[39;49m\u001b[38;5;28;43;01mFalse\u001b[39;49;00m\u001b[43m,\u001b[49m\n\u001b[0;32m    908\u001b[0m \u001b[43m    \u001b[49m\u001b[38;5;241;43m*\u001b[39;49m\u001b[38;5;241;43m*\u001b[39;49m\u001b[43mkwargs\u001b[49m\u001b[43m,\u001b[49m\n\u001b[0;32m    909\u001b[0m \u001b[43m\u001b[49m\u001b[43m)\u001b[49m\n\u001b[0;32m    910\u001b[0m steps\u001b[38;5;241m.\u001b[39mappend(step_solution)\n\u001b[0;32m    911\u001b[0m current_solution \u001b[38;5;241m=\u001b[39m step_solution\n",
      "File \u001b[1;32m~\\.conda\\envs\\MNS\\lib\\site-packages\\pybamm\\solvers\\base_solver.py:1215\u001b[0m, in \u001b[0;36mBaseSolver.step\u001b[1;34m(self, old_solution, model, dt, npts, external_variables, inputs, save)\u001b[0m\n\u001b[0;32m   1209\u001b[0m \u001b[38;5;28;01mif\u001b[39;00m old_solution \u001b[38;5;129;01mis\u001b[39;00m \u001b[38;5;28;01mNone\u001b[39;00m:\n\u001b[0;32m   1210\u001b[0m     \u001b[38;5;66;03m# Run set up on first step\u001b[39;00m\n\u001b[0;32m   1211\u001b[0m     pybamm\u001b[38;5;241m.\u001b[39mlogger\u001b[38;5;241m.\u001b[39mverbose(\n\u001b[0;32m   1212\u001b[0m         \u001b[38;5;124m\"\u001b[39m\u001b[38;5;124mStart stepping \u001b[39m\u001b[38;5;132;01m{}\u001b[39;00m\u001b[38;5;124m with \u001b[39m\u001b[38;5;132;01m{}\u001b[39;00m\u001b[38;5;124m\"\u001b[39m\u001b[38;5;241m.\u001b[39mformat(model\u001b[38;5;241m.\u001b[39mname, \u001b[38;5;28mself\u001b[39m\u001b[38;5;241m.\u001b[39mname)\n\u001b[0;32m   1213\u001b[0m     )\n\u001b[1;32m-> 1215\u001b[0m     \u001b[38;5;28;43mself\u001b[39;49m\u001b[38;5;241;43m.\u001b[39;49m\u001b[43mset_up\u001b[49m\u001b[43m(\u001b[49m\u001b[43mmodel\u001b[49m\u001b[43m,\u001b[49m\u001b[43m \u001b[49m\u001b[43mext_and_inputs\u001b[49m\u001b[43m)\u001b[49m\n\u001b[0;32m   1216\u001b[0m     \u001b[38;5;28mself\u001b[39m\u001b[38;5;241m.\u001b[39mmodels_set_up\u001b[38;5;241m.\u001b[39mupdate(\n\u001b[0;32m   1217\u001b[0m         {model: {\u001b[38;5;124m\"\u001b[39m\u001b[38;5;124minitial conditions\u001b[39m\u001b[38;5;124m\"\u001b[39m: model\u001b[38;5;241m.\u001b[39mconcatenated_initial_conditions}}\n\u001b[0;32m   1218\u001b[0m     )\n\u001b[0;32m   1219\u001b[0m     t \u001b[38;5;241m=\u001b[39m \u001b[38;5;241m0.0\u001b[39m\n",
      "File \u001b[1;32m~\\.conda\\envs\\MNS\\lib\\site-packages\\pybamm\\solvers\\base_solver.py:524\u001b[0m, in \u001b[0;36mBaseSolver.set_up\u001b[1;34m(self, model, inputs, t_eval, ics_only)\u001b[0m\n\u001b[0;32m    515\u001b[0m                     model\u001b[38;5;241m.\u001b[39mevents\u001b[38;5;241m.\u001b[39mappend(\n\u001b[0;32m    516\u001b[0m                         pybamm\u001b[38;5;241m.\u001b[39mEvent(\n\u001b[0;32m    517\u001b[0m                             \u001b[38;5;28mstr\u001b[39m(symbol),\n\u001b[1;32m   (...)\u001b[0m\n\u001b[0;32m    520\u001b[0m                         )\n\u001b[0;32m    521\u001b[0m                     )\n\u001b[0;32m    523\u001b[0m \u001b[38;5;66;03m# Process rhs, algebraic and event expressions\u001b[39;00m\n\u001b[1;32m--> 524\u001b[0m rhs, rhs_eval, jac_rhs, jacp_rhs \u001b[38;5;241m=\u001b[39m \u001b[43mprocess\u001b[49m\u001b[43m(\u001b[49m\u001b[43mmodel\u001b[49m\u001b[38;5;241;43m.\u001b[39;49m\u001b[43mconcatenated_rhs\u001b[49m\u001b[43m,\u001b[49m\u001b[43m \u001b[49m\u001b[38;5;124;43m\"\u001b[39;49m\u001b[38;5;124;43mRHS\u001b[39;49m\u001b[38;5;124;43m\"\u001b[39;49m\u001b[43m)\u001b[49m\n\u001b[0;32m    525\u001b[0m algebraic, algebraic_eval, jac_algebraic, jacp_algebraic \u001b[38;5;241m=\u001b[39m process(\n\u001b[0;32m    526\u001b[0m     model\u001b[38;5;241m.\u001b[39mconcatenated_algebraic, \u001b[38;5;124m\"\u001b[39m\u001b[38;5;124malgebraic\u001b[39m\u001b[38;5;124m\"\u001b[39m\n\u001b[0;32m    527\u001b[0m )\n\u001b[0;32m    528\u001b[0m casadi_terminate_events \u001b[38;5;241m=\u001b[39m []\n",
      "File \u001b[1;32m~\\.conda\\envs\\MNS\\lib\\site-packages\\pybamm\\solvers\\base_solver.py:323\u001b[0m, in \u001b[0;36mBaseSolver.set_up.<locals>.process\u001b[1;34m(func, name, use_jacobian)\u001b[0m\n\u001b[0;32m    320\u001b[0m \u001b[38;5;28;01melse\u001b[39;00m:\n\u001b[0;32m    321\u001b[0m     \u001b[38;5;66;03m# Process with CasADi\u001b[39;00m\n\u001b[0;32m    322\u001b[0m     report(\u001b[38;5;124mf\u001b[39m\u001b[38;5;124m\"\u001b[39m\u001b[38;5;124mConverting \u001b[39m\u001b[38;5;132;01m{\u001b[39;00mname\u001b[38;5;132;01m}\u001b[39;00m\u001b[38;5;124m to CasADi\u001b[39m\u001b[38;5;124m\"\u001b[39m)\n\u001b[1;32m--> 323\u001b[0m     func \u001b[38;5;241m=\u001b[39m \u001b[43mfunc\u001b[49m\u001b[38;5;241;43m.\u001b[39;49m\u001b[43mto_casadi\u001b[49m\u001b[43m(\u001b[49m\u001b[43mt_casadi\u001b[49m\u001b[43m,\u001b[49m\u001b[43m \u001b[49m\u001b[43my_casadi\u001b[49m\u001b[43m,\u001b[49m\u001b[43m \u001b[49m\u001b[43minputs\u001b[49m\u001b[38;5;241;43m=\u001b[39;49m\u001b[43mp_casadi\u001b[49m\u001b[43m)\u001b[49m\n\u001b[0;32m    324\u001b[0m     \u001b[38;5;66;03m# Add sensitivity vectors to the rhs and algebraic equations\u001b[39;00m\n\u001b[0;32m    325\u001b[0m     jacp \u001b[38;5;241m=\u001b[39m \u001b[38;5;28;01mNone\u001b[39;00m\n",
      "File \u001b[1;32m~\\.conda\\envs\\MNS\\lib\\site-packages\\pybamm\\expression_tree\\symbol.py:890\u001b[0m, in \u001b[0;36mSymbol.to_casadi\u001b[1;34m(self, t, y, y_dot, inputs, casadi_symbols)\u001b[0m\n\u001b[0;32m    885\u001b[0m \u001b[38;5;28;01mdef\u001b[39;00m \u001b[38;5;21mto_casadi\u001b[39m(\u001b[38;5;28mself\u001b[39m, t\u001b[38;5;241m=\u001b[39m\u001b[38;5;28;01mNone\u001b[39;00m, y\u001b[38;5;241m=\u001b[39m\u001b[38;5;28;01mNone\u001b[39;00m, y_dot\u001b[38;5;241m=\u001b[39m\u001b[38;5;28;01mNone\u001b[39;00m, inputs\u001b[38;5;241m=\u001b[39m\u001b[38;5;28;01mNone\u001b[39;00m, casadi_symbols\u001b[38;5;241m=\u001b[39m\u001b[38;5;28;01mNone\u001b[39;00m):\n\u001b[0;32m    886\u001b[0m     \u001b[38;5;124;03m\"\"\"\u001b[39;00m\n\u001b[0;32m    887\u001b[0m \u001b[38;5;124;03m    Convert the expression tree to a CasADi expression tree.\u001b[39;00m\n\u001b[0;32m    888\u001b[0m \u001b[38;5;124;03m    See :class:`pybamm.CasadiConverter`.\u001b[39;00m\n\u001b[0;32m    889\u001b[0m \u001b[38;5;124;03m    \"\"\"\u001b[39;00m\n\u001b[1;32m--> 890\u001b[0m     \u001b[38;5;28;01mreturn\u001b[39;00m \u001b[43mpybamm\u001b[49m\u001b[38;5;241;43m.\u001b[39;49m\u001b[43mCasadiConverter\u001b[49m\u001b[43m(\u001b[49m\u001b[43mcasadi_symbols\u001b[49m\u001b[43m)\u001b[49m\u001b[38;5;241;43m.\u001b[39;49m\u001b[43mconvert\u001b[49m\u001b[43m(\u001b[49m\u001b[38;5;28;43mself\u001b[39;49m\u001b[43m,\u001b[49m\u001b[43m \u001b[49m\u001b[43mt\u001b[49m\u001b[43m,\u001b[49m\u001b[43m \u001b[49m\u001b[43my\u001b[49m\u001b[43m,\u001b[49m\u001b[43m \u001b[49m\u001b[43my_dot\u001b[49m\u001b[43m,\u001b[49m\u001b[43m \u001b[49m\u001b[43minputs\u001b[49m\u001b[43m)\u001b[49m\n",
      "File \u001b[1;32m~\\.conda\\envs\\MNS\\lib\\site-packages\\pybamm\\expression_tree\\operations\\convert_to_casadi.py:44\u001b[0m, in \u001b[0;36mCasadiConverter.convert\u001b[1;34m(self, symbol, t, y, y_dot, inputs)\u001b[0m\n\u001b[0;32m     41\u001b[0m \u001b[38;5;28;01mexcept\u001b[39;00m \u001b[38;5;167;01mKeyError\u001b[39;00m:\n\u001b[0;32m     42\u001b[0m     \u001b[38;5;66;03m# Change inputs to empty dictionary if it's None\u001b[39;00m\n\u001b[0;32m     43\u001b[0m     inputs \u001b[38;5;241m=\u001b[39m inputs \u001b[38;5;129;01mor\u001b[39;00m {}\n\u001b[1;32m---> 44\u001b[0m     casadi_symbol \u001b[38;5;241m=\u001b[39m \u001b[38;5;28;43mself\u001b[39;49m\u001b[38;5;241;43m.\u001b[39;49m\u001b[43m_convert\u001b[49m\u001b[43m(\u001b[49m\u001b[43msymbol\u001b[49m\u001b[43m,\u001b[49m\u001b[43m \u001b[49m\u001b[43mt\u001b[49m\u001b[43m,\u001b[49m\u001b[43m \u001b[49m\u001b[43my\u001b[49m\u001b[43m,\u001b[49m\u001b[43m \u001b[49m\u001b[43my_dot\u001b[49m\u001b[43m,\u001b[49m\u001b[43m \u001b[49m\u001b[43minputs\u001b[49m\u001b[43m)\u001b[49m\n\u001b[0;32m     45\u001b[0m     \u001b[38;5;28mself\u001b[39m\u001b[38;5;241m.\u001b[39m_casadi_symbols[symbol\u001b[38;5;241m.\u001b[39mid] \u001b[38;5;241m=\u001b[39m casadi_symbol\n\u001b[0;32m     47\u001b[0m     \u001b[38;5;28;01mreturn\u001b[39;00m casadi_symbol\n",
      "File \u001b[1;32m~\\.conda\\envs\\MNS\\lib\\site-packages\\pybamm\\expression_tree\\operations\\convert_to_casadi.py:181\u001b[0m, in \u001b[0;36mCasadiConverter._convert\u001b[1;34m(self, symbol, t, y, y_dot, inputs)\u001b[0m\n\u001b[0;32m    179\u001b[0m         \u001b[38;5;28;01mreturn\u001b[39;00m symbol\u001b[38;5;241m.\u001b[39m_function_evaluate(converted_children)\n\u001b[0;32m    180\u001b[0m \u001b[38;5;28;01melif\u001b[39;00m \u001b[38;5;28misinstance\u001b[39m(symbol, pybamm\u001b[38;5;241m.\u001b[39mConcatenation):\n\u001b[1;32m--> 181\u001b[0m     converted_children \u001b[38;5;241m=\u001b[39m [\n\u001b[0;32m    182\u001b[0m         \u001b[38;5;28mself\u001b[39m\u001b[38;5;241m.\u001b[39mconvert(child, t, y, y_dot, inputs) \u001b[38;5;28;01mfor\u001b[39;00m child \u001b[38;5;129;01min\u001b[39;00m symbol\u001b[38;5;241m.\u001b[39mchildren\n\u001b[0;32m    183\u001b[0m     ]\n\u001b[0;32m    184\u001b[0m     \u001b[38;5;28;01mif\u001b[39;00m \u001b[38;5;28misinstance\u001b[39m(symbol, (pybamm\u001b[38;5;241m.\u001b[39mNumpyConcatenation, pybamm\u001b[38;5;241m.\u001b[39mSparseStack)):\n\u001b[0;32m    185\u001b[0m         \u001b[38;5;28;01mreturn\u001b[39;00m casadi\u001b[38;5;241m.\u001b[39mvertcat(\u001b[38;5;241m*\u001b[39mconverted_children)\n",
      "File \u001b[1;32m~\\.conda\\envs\\MNS\\lib\\site-packages\\pybamm\\expression_tree\\operations\\convert_to_casadi.py:182\u001b[0m, in \u001b[0;36m<listcomp>\u001b[1;34m(.0)\u001b[0m\n\u001b[0;32m    179\u001b[0m         \u001b[38;5;28;01mreturn\u001b[39;00m symbol\u001b[38;5;241m.\u001b[39m_function_evaluate(converted_children)\n\u001b[0;32m    180\u001b[0m \u001b[38;5;28;01melif\u001b[39;00m \u001b[38;5;28misinstance\u001b[39m(symbol, pybamm\u001b[38;5;241m.\u001b[39mConcatenation):\n\u001b[0;32m    181\u001b[0m     converted_children \u001b[38;5;241m=\u001b[39m [\n\u001b[1;32m--> 182\u001b[0m         \u001b[38;5;28;43mself\u001b[39;49m\u001b[38;5;241;43m.\u001b[39;49m\u001b[43mconvert\u001b[49m\u001b[43m(\u001b[49m\u001b[43mchild\u001b[49m\u001b[43m,\u001b[49m\u001b[43m \u001b[49m\u001b[43mt\u001b[49m\u001b[43m,\u001b[49m\u001b[43m \u001b[49m\u001b[43my\u001b[49m\u001b[43m,\u001b[49m\u001b[43m \u001b[49m\u001b[43my_dot\u001b[49m\u001b[43m,\u001b[49m\u001b[43m \u001b[49m\u001b[43minputs\u001b[49m\u001b[43m)\u001b[49m \u001b[38;5;28;01mfor\u001b[39;00m child \u001b[38;5;129;01min\u001b[39;00m symbol\u001b[38;5;241m.\u001b[39mchildren\n\u001b[0;32m    183\u001b[0m     ]\n\u001b[0;32m    184\u001b[0m     \u001b[38;5;28;01mif\u001b[39;00m \u001b[38;5;28misinstance\u001b[39m(symbol, (pybamm\u001b[38;5;241m.\u001b[39mNumpyConcatenation, pybamm\u001b[38;5;241m.\u001b[39mSparseStack)):\n\u001b[0;32m    185\u001b[0m         \u001b[38;5;28;01mreturn\u001b[39;00m casadi\u001b[38;5;241m.\u001b[39mvertcat(\u001b[38;5;241m*\u001b[39mconverted_children)\n",
      "File \u001b[1;32m~\\.conda\\envs\\MNS\\lib\\site-packages\\pybamm\\expression_tree\\operations\\convert_to_casadi.py:44\u001b[0m, in \u001b[0;36mCasadiConverter.convert\u001b[1;34m(self, symbol, t, y, y_dot, inputs)\u001b[0m\n\u001b[0;32m     41\u001b[0m \u001b[38;5;28;01mexcept\u001b[39;00m \u001b[38;5;167;01mKeyError\u001b[39;00m:\n\u001b[0;32m     42\u001b[0m     \u001b[38;5;66;03m# Change inputs to empty dictionary if it's None\u001b[39;00m\n\u001b[0;32m     43\u001b[0m     inputs \u001b[38;5;241m=\u001b[39m inputs \u001b[38;5;129;01mor\u001b[39;00m {}\n\u001b[1;32m---> 44\u001b[0m     casadi_symbol \u001b[38;5;241m=\u001b[39m \u001b[38;5;28;43mself\u001b[39;49m\u001b[38;5;241;43m.\u001b[39;49m\u001b[43m_convert\u001b[49m\u001b[43m(\u001b[49m\u001b[43msymbol\u001b[49m\u001b[43m,\u001b[49m\u001b[43m \u001b[49m\u001b[43mt\u001b[49m\u001b[43m,\u001b[49m\u001b[43m \u001b[49m\u001b[43my\u001b[49m\u001b[43m,\u001b[49m\u001b[43m \u001b[49m\u001b[43my_dot\u001b[49m\u001b[43m,\u001b[49m\u001b[43m \u001b[49m\u001b[43minputs\u001b[49m\u001b[43m)\u001b[49m\n\u001b[0;32m     45\u001b[0m     \u001b[38;5;28mself\u001b[39m\u001b[38;5;241m.\u001b[39m_casadi_symbols[symbol\u001b[38;5;241m.\u001b[39mid] \u001b[38;5;241m=\u001b[39m casadi_symbol\n\u001b[0;32m     47\u001b[0m     \u001b[38;5;28;01mreturn\u001b[39;00m casadi_symbol\n",
      "File \u001b[1;32m~\\.conda\\envs\\MNS\\lib\\site-packages\\pybamm\\expression_tree\\operations\\convert_to_casadi.py:76\u001b[0m, in \u001b[0;36mCasadiConverter._convert\u001b[1;34m(self, symbol, t, y, y_dot, inputs)\u001b[0m\n\u001b[0;32m     74\u001b[0m left, right \u001b[38;5;241m=\u001b[39m symbol\u001b[38;5;241m.\u001b[39mchildren\n\u001b[0;32m     75\u001b[0m \u001b[38;5;66;03m# process children\u001b[39;00m\n\u001b[1;32m---> 76\u001b[0m converted_left \u001b[38;5;241m=\u001b[39m \u001b[38;5;28;43mself\u001b[39;49m\u001b[38;5;241;43m.\u001b[39;49m\u001b[43mconvert\u001b[49m\u001b[43m(\u001b[49m\u001b[43mleft\u001b[49m\u001b[43m,\u001b[49m\u001b[43m \u001b[49m\u001b[43mt\u001b[49m\u001b[43m,\u001b[49m\u001b[43m \u001b[49m\u001b[43my\u001b[49m\u001b[43m,\u001b[49m\u001b[43m \u001b[49m\u001b[43my_dot\u001b[49m\u001b[43m,\u001b[49m\u001b[43m \u001b[49m\u001b[43minputs\u001b[49m\u001b[43m)\u001b[49m\n\u001b[0;32m     77\u001b[0m converted_right \u001b[38;5;241m=\u001b[39m \u001b[38;5;28mself\u001b[39m\u001b[38;5;241m.\u001b[39mconvert(right, t, y, y_dot, inputs)\n\u001b[0;32m     79\u001b[0m \u001b[38;5;28;01mif\u001b[39;00m \u001b[38;5;28misinstance\u001b[39m(symbol, pybamm\u001b[38;5;241m.\u001b[39mModulo):\n",
      "File \u001b[1;32m~\\.conda\\envs\\MNS\\lib\\site-packages\\pybamm\\expression_tree\\operations\\convert_to_casadi.py:44\u001b[0m, in \u001b[0;36mCasadiConverter.convert\u001b[1;34m(self, symbol, t, y, y_dot, inputs)\u001b[0m\n\u001b[0;32m     41\u001b[0m \u001b[38;5;28;01mexcept\u001b[39;00m \u001b[38;5;167;01mKeyError\u001b[39;00m:\n\u001b[0;32m     42\u001b[0m     \u001b[38;5;66;03m# Change inputs to empty dictionary if it's None\u001b[39;00m\n\u001b[0;32m     43\u001b[0m     inputs \u001b[38;5;241m=\u001b[39m inputs \u001b[38;5;129;01mor\u001b[39;00m {}\n\u001b[1;32m---> 44\u001b[0m     casadi_symbol \u001b[38;5;241m=\u001b[39m \u001b[38;5;28;43mself\u001b[39;49m\u001b[38;5;241;43m.\u001b[39;49m\u001b[43m_convert\u001b[49m\u001b[43m(\u001b[49m\u001b[43msymbol\u001b[49m\u001b[43m,\u001b[49m\u001b[43m \u001b[49m\u001b[43mt\u001b[49m\u001b[43m,\u001b[49m\u001b[43m \u001b[49m\u001b[43my\u001b[49m\u001b[43m,\u001b[49m\u001b[43m \u001b[49m\u001b[43my_dot\u001b[49m\u001b[43m,\u001b[49m\u001b[43m \u001b[49m\u001b[43minputs\u001b[49m\u001b[43m)\u001b[49m\n\u001b[0;32m     45\u001b[0m     \u001b[38;5;28mself\u001b[39m\u001b[38;5;241m.\u001b[39m_casadi_symbols[symbol\u001b[38;5;241m.\u001b[39mid] \u001b[38;5;241m=\u001b[39m casadi_symbol\n\u001b[0;32m     47\u001b[0m     \u001b[38;5;28;01mreturn\u001b[39;00m casadi_symbol\n",
      "File \u001b[1;32m~\\.conda\\envs\\MNS\\lib\\site-packages\\pybamm\\expression_tree\\operations\\convert_to_casadi.py:76\u001b[0m, in \u001b[0;36mCasadiConverter._convert\u001b[1;34m(self, symbol, t, y, y_dot, inputs)\u001b[0m\n\u001b[0;32m     74\u001b[0m left, right \u001b[38;5;241m=\u001b[39m symbol\u001b[38;5;241m.\u001b[39mchildren\n\u001b[0;32m     75\u001b[0m \u001b[38;5;66;03m# process children\u001b[39;00m\n\u001b[1;32m---> 76\u001b[0m converted_left \u001b[38;5;241m=\u001b[39m \u001b[38;5;28;43mself\u001b[39;49m\u001b[38;5;241;43m.\u001b[39;49m\u001b[43mconvert\u001b[49m\u001b[43m(\u001b[49m\u001b[43mleft\u001b[49m\u001b[43m,\u001b[49m\u001b[43m \u001b[49m\u001b[43mt\u001b[49m\u001b[43m,\u001b[49m\u001b[43m \u001b[49m\u001b[43my\u001b[49m\u001b[43m,\u001b[49m\u001b[43m \u001b[49m\u001b[43my_dot\u001b[49m\u001b[43m,\u001b[49m\u001b[43m \u001b[49m\u001b[43minputs\u001b[49m\u001b[43m)\u001b[49m\n\u001b[0;32m     77\u001b[0m converted_right \u001b[38;5;241m=\u001b[39m \u001b[38;5;28mself\u001b[39m\u001b[38;5;241m.\u001b[39mconvert(right, t, y, y_dot, inputs)\n\u001b[0;32m     79\u001b[0m \u001b[38;5;28;01mif\u001b[39;00m \u001b[38;5;28misinstance\u001b[39m(symbol, pybamm\u001b[38;5;241m.\u001b[39mModulo):\n",
      "    \u001b[1;31m[... skipping similar frames: CasadiConverter.convert at line 44 (6 times), CasadiConverter._convert at line 76 (5 times)]\u001b[0m\n",
      "File \u001b[1;32m~\\.conda\\envs\\MNS\\lib\\site-packages\\pybamm\\expression_tree\\operations\\convert_to_casadi.py:76\u001b[0m, in \u001b[0;36mCasadiConverter._convert\u001b[1;34m(self, symbol, t, y, y_dot, inputs)\u001b[0m\n\u001b[0;32m     74\u001b[0m left, right \u001b[38;5;241m=\u001b[39m symbol\u001b[38;5;241m.\u001b[39mchildren\n\u001b[0;32m     75\u001b[0m \u001b[38;5;66;03m# process children\u001b[39;00m\n\u001b[1;32m---> 76\u001b[0m converted_left \u001b[38;5;241m=\u001b[39m \u001b[38;5;28;43mself\u001b[39;49m\u001b[38;5;241;43m.\u001b[39;49m\u001b[43mconvert\u001b[49m\u001b[43m(\u001b[49m\u001b[43mleft\u001b[49m\u001b[43m,\u001b[49m\u001b[43m \u001b[49m\u001b[43mt\u001b[49m\u001b[43m,\u001b[49m\u001b[43m \u001b[49m\u001b[43my\u001b[49m\u001b[43m,\u001b[49m\u001b[43m \u001b[49m\u001b[43my_dot\u001b[49m\u001b[43m,\u001b[49m\u001b[43m \u001b[49m\u001b[43minputs\u001b[49m\u001b[43m)\u001b[49m\n\u001b[0;32m     77\u001b[0m converted_right \u001b[38;5;241m=\u001b[39m \u001b[38;5;28mself\u001b[39m\u001b[38;5;241m.\u001b[39mconvert(right, t, y, y_dot, inputs)\n\u001b[0;32m     79\u001b[0m \u001b[38;5;28;01mif\u001b[39;00m \u001b[38;5;28misinstance\u001b[39m(symbol, pybamm\u001b[38;5;241m.\u001b[39mModulo):\n",
      "File \u001b[1;32m~\\.conda\\envs\\MNS\\lib\\site-packages\\pybamm\\expression_tree\\operations\\convert_to_casadi.py:44\u001b[0m, in \u001b[0;36mCasadiConverter.convert\u001b[1;34m(self, symbol, t, y, y_dot, inputs)\u001b[0m\n\u001b[0;32m     41\u001b[0m \u001b[38;5;28;01mexcept\u001b[39;00m \u001b[38;5;167;01mKeyError\u001b[39;00m:\n\u001b[0;32m     42\u001b[0m     \u001b[38;5;66;03m# Change inputs to empty dictionary if it's None\u001b[39;00m\n\u001b[0;32m     43\u001b[0m     inputs \u001b[38;5;241m=\u001b[39m inputs \u001b[38;5;129;01mor\u001b[39;00m {}\n\u001b[1;32m---> 44\u001b[0m     casadi_symbol \u001b[38;5;241m=\u001b[39m \u001b[38;5;28;43mself\u001b[39;49m\u001b[38;5;241;43m.\u001b[39;49m\u001b[43m_convert\u001b[49m\u001b[43m(\u001b[49m\u001b[43msymbol\u001b[49m\u001b[43m,\u001b[49m\u001b[43m \u001b[49m\u001b[43mt\u001b[49m\u001b[43m,\u001b[49m\u001b[43m \u001b[49m\u001b[43my\u001b[49m\u001b[43m,\u001b[49m\u001b[43m \u001b[49m\u001b[43my_dot\u001b[49m\u001b[43m,\u001b[49m\u001b[43m \u001b[49m\u001b[43minputs\u001b[49m\u001b[43m)\u001b[49m\n\u001b[0;32m     45\u001b[0m     \u001b[38;5;28mself\u001b[39m\u001b[38;5;241m.\u001b[39m_casadi_symbols[symbol\u001b[38;5;241m.\u001b[39mid] \u001b[38;5;241m=\u001b[39m casadi_symbol\n\u001b[0;32m     47\u001b[0m     \u001b[38;5;28;01mreturn\u001b[39;00m casadi_symbol\n",
      "File \u001b[1;32m~\\.conda\\envs\\MNS\\lib\\site-packages\\pybamm\\expression_tree\\operations\\convert_to_casadi.py:77\u001b[0m, in \u001b[0;36mCasadiConverter._convert\u001b[1;34m(self, symbol, t, y, y_dot, inputs)\u001b[0m\n\u001b[0;32m     75\u001b[0m \u001b[38;5;66;03m# process children\u001b[39;00m\n\u001b[0;32m     76\u001b[0m converted_left \u001b[38;5;241m=\u001b[39m \u001b[38;5;28mself\u001b[39m\u001b[38;5;241m.\u001b[39mconvert(left, t, y, y_dot, inputs)\n\u001b[1;32m---> 77\u001b[0m converted_right \u001b[38;5;241m=\u001b[39m \u001b[38;5;28;43mself\u001b[39;49m\u001b[38;5;241;43m.\u001b[39;49m\u001b[43mconvert\u001b[49m\u001b[43m(\u001b[49m\u001b[43mright\u001b[49m\u001b[43m,\u001b[49m\u001b[43m \u001b[49m\u001b[43mt\u001b[49m\u001b[43m,\u001b[49m\u001b[43m \u001b[49m\u001b[43my\u001b[49m\u001b[43m,\u001b[49m\u001b[43m \u001b[49m\u001b[43my_dot\u001b[49m\u001b[43m,\u001b[49m\u001b[43m \u001b[49m\u001b[43minputs\u001b[49m\u001b[43m)\u001b[49m\n\u001b[0;32m     79\u001b[0m \u001b[38;5;28;01mif\u001b[39;00m \u001b[38;5;28misinstance\u001b[39m(symbol, pybamm\u001b[38;5;241m.\u001b[39mModulo):\n\u001b[0;32m     80\u001b[0m     \u001b[38;5;28;01mreturn\u001b[39;00m casadi\u001b[38;5;241m.\u001b[39mfmod(converted_left, converted_right)\n",
      "File \u001b[1;32m~\\.conda\\envs\\MNS\\lib\\site-packages\\pybamm\\expression_tree\\operations\\convert_to_casadi.py:44\u001b[0m, in \u001b[0;36mCasadiConverter.convert\u001b[1;34m(self, symbol, t, y, y_dot, inputs)\u001b[0m\n\u001b[0;32m     41\u001b[0m \u001b[38;5;28;01mexcept\u001b[39;00m \u001b[38;5;167;01mKeyError\u001b[39;00m:\n\u001b[0;32m     42\u001b[0m     \u001b[38;5;66;03m# Change inputs to empty dictionary if it's None\u001b[39;00m\n\u001b[0;32m     43\u001b[0m     inputs \u001b[38;5;241m=\u001b[39m inputs \u001b[38;5;129;01mor\u001b[39;00m {}\n\u001b[1;32m---> 44\u001b[0m     casadi_symbol \u001b[38;5;241m=\u001b[39m \u001b[38;5;28;43mself\u001b[39;49m\u001b[38;5;241;43m.\u001b[39;49m\u001b[43m_convert\u001b[49m\u001b[43m(\u001b[49m\u001b[43msymbol\u001b[49m\u001b[43m,\u001b[49m\u001b[43m \u001b[49m\u001b[43mt\u001b[49m\u001b[43m,\u001b[49m\u001b[43m \u001b[49m\u001b[43my\u001b[49m\u001b[43m,\u001b[49m\u001b[43m \u001b[49m\u001b[43my_dot\u001b[49m\u001b[43m,\u001b[49m\u001b[43m \u001b[49m\u001b[43minputs\u001b[49m\u001b[43m)\u001b[49m\n\u001b[0;32m     45\u001b[0m     \u001b[38;5;28mself\u001b[39m\u001b[38;5;241m.\u001b[39m_casadi_symbols[symbol\u001b[38;5;241m.\u001b[39mid] \u001b[38;5;241m=\u001b[39m casadi_symbol\n\u001b[0;32m     47\u001b[0m     \u001b[38;5;28;01mreturn\u001b[39;00m casadi_symbol\n",
      "File \u001b[1;32m~\\.conda\\envs\\MNS\\lib\\site-packages\\pybamm\\expression_tree\\operations\\convert_to_casadi.py:61\u001b[0m, in \u001b[0;36mCasadiConverter._convert\u001b[1;34m(self, symbol, t, y, y_dot, inputs)\u001b[0m\n\u001b[0;32m     50\u001b[0m \u001b[38;5;124;03m\"\"\"See :meth:`CasadiConverter.convert()`.\"\"\"\u001b[39;00m\n\u001b[0;32m     51\u001b[0m \u001b[38;5;28;01mif\u001b[39;00m \u001b[38;5;28misinstance\u001b[39m(\n\u001b[0;32m     52\u001b[0m     symbol,\n\u001b[0;32m     53\u001b[0m     (\n\u001b[1;32m   (...)\u001b[0m\n\u001b[0;32m     59\u001b[0m     ),\n\u001b[0;32m     60\u001b[0m ):\n\u001b[1;32m---> 61\u001b[0m     \u001b[38;5;28;01mreturn\u001b[39;00m casadi\u001b[38;5;241m.\u001b[39mMX(\u001b[43msymbol\u001b[49m\u001b[38;5;241;43m.\u001b[39;49m\u001b[43mevaluate\u001b[49m\u001b[43m(\u001b[49m\u001b[43mt\u001b[49m\u001b[43m,\u001b[49m\u001b[43m \u001b[49m\u001b[43my\u001b[49m\u001b[43m,\u001b[49m\u001b[43m \u001b[49m\u001b[43my_dot\u001b[49m\u001b[43m,\u001b[49m\u001b[43m \u001b[49m\u001b[43minputs\u001b[49m\u001b[43m)\u001b[49m)\n\u001b[0;32m     63\u001b[0m \u001b[38;5;28;01melif\u001b[39;00m \u001b[38;5;28misinstance\u001b[39m(symbol, pybamm\u001b[38;5;241m.\u001b[39mStateVector):\n\u001b[0;32m     64\u001b[0m     \u001b[38;5;28;01mif\u001b[39;00m y \u001b[38;5;129;01mis\u001b[39;00m \u001b[38;5;28;01mNone\u001b[39;00m:\n",
      "File \u001b[1;32m~\\.conda\\envs\\MNS\\lib\\site-packages\\pybamm\\expression_tree\\symbol.py:759\u001b[0m, in \u001b[0;36mSymbol.evaluate\u001b[1;34m(self, t, y, y_dot, inputs, known_evals)\u001b[0m\n\u001b[0;32m    757\u001b[0m     \u001b[38;5;28;01mreturn\u001b[39;00m known_evals[\u001b[38;5;28mself\u001b[39m\u001b[38;5;241m.\u001b[39mid], known_evals\n\u001b[0;32m    758\u001b[0m \u001b[38;5;28;01melse\u001b[39;00m:\n\u001b[1;32m--> 759\u001b[0m     \u001b[38;5;28;01mreturn\u001b[39;00m \u001b[38;5;28;43mself\u001b[39;49m\u001b[38;5;241;43m.\u001b[39;49m\u001b[43m_base_evaluate\u001b[49m\u001b[43m(\u001b[49m\u001b[43mt\u001b[49m\u001b[43m,\u001b[49m\u001b[43m \u001b[49m\u001b[43my\u001b[49m\u001b[43m,\u001b[49m\u001b[43m \u001b[49m\u001b[43my_dot\u001b[49m\u001b[43m,\u001b[49m\u001b[43m \u001b[49m\u001b[43minputs\u001b[49m\u001b[43m)\u001b[49m\n",
      "File \u001b[1;32m~\\.conda\\envs\\MNS\\lib\\site-packages\\pybamm\\expression_tree\\input_parameter.py:74\u001b[0m, in \u001b[0;36mInputParameter._base_evaluate\u001b[1;34m(self, t, y, y_dot, inputs)\u001b[0m\n\u001b[0;32m     72\u001b[0m \u001b[38;5;66;03m# raise more informative error if can't find name in dict\u001b[39;00m\n\u001b[0;32m     73\u001b[0m \u001b[38;5;28;01mexcept\u001b[39;00m \u001b[38;5;167;01mKeyError\u001b[39;00m:\n\u001b[1;32m---> 74\u001b[0m     \u001b[38;5;28;01mraise\u001b[39;00m \u001b[38;5;167;01mKeyError\u001b[39;00m(\u001b[38;5;124m\"\u001b[39m\u001b[38;5;124mInput parameter \u001b[39m\u001b[38;5;124m'\u001b[39m\u001b[38;5;132;01m{}\u001b[39;00m\u001b[38;5;124m'\u001b[39m\u001b[38;5;124m not found\u001b[39m\u001b[38;5;124m\"\u001b[39m\u001b[38;5;241m.\u001b[39mformat(\u001b[38;5;28mself\u001b[39m\u001b[38;5;241m.\u001b[39mname))\n\u001b[0;32m     76\u001b[0m \u001b[38;5;28;01mif\u001b[39;00m \u001b[38;5;28misinstance\u001b[39m(input_eval, numbers\u001b[38;5;241m.\u001b[39mNumber):\n\u001b[0;32m     77\u001b[0m     input_size \u001b[38;5;241m=\u001b[39m \u001b[38;5;241m1\u001b[39m\n",
      "\u001b[1;31mKeyError\u001b[0m: \"Input parameter 'Negative current collector specific heat capacity [J.kg-1.K-1]' not found\""
     ]
    }
   ],
   "source": [
    "result=optimiser.optimise(opt)"
   ]
  },
  {
   "cell_type": "code",
   "execution_count": null,
   "id": "ed9c1c5f",
   "metadata": {},
   "outputs": [],
   "source": [
    "print(result.x, result.fun, result.solve_time)"
   ]
  },
  {
   "cell_type": "code",
   "execution_count": null,
   "id": "c2bd14f3",
   "metadata": {},
   "outputs": [],
   "source": [
    "result.plot()"
   ]
  },
  {
   "cell_type": "code",
   "execution_count": null,
   "id": "419192ce",
   "metadata": {},
   "outputs": [],
   "source": []
  }
 ],
 "metadata": {
  "kernelspec": {
   "display_name": "Python 3 (ipykernel)",
   "language": "python",
   "name": "python3"
  },
  "language_info": {
   "codemirror_mode": {
    "name": "ipython",
    "version": 3
   },
   "file_extension": ".py",
   "mimetype": "text/x-python",
   "name": "python",
   "nbconvert_exporter": "python",
   "pygments_lexer": "ipython3",
   "version": "3.8.12"
  }
 },
 "nbformat": 4,
 "nbformat_minor": 5
}

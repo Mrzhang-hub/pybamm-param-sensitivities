{
 "cells": [
  {
   "cell_type": "code",
   "execution_count": 1,
   "id": "5ba4b709",
   "metadata": {},
   "outputs": [],
   "source": [
    "import os\n",
    "os.chdir(\"../..\")\n",
    "import process_experimental_data as prepos\n",
    "from set_parameters import (\n",
    "    set_thermal_parameters,\n",
    "    set_experiment_parameters,\n",
    "    set_ambient_temperature,\n",
    ")\n",
    "\n",
    "import pybamm\n",
    "import numpy as np\n",
    "import pbparam\n",
    "import pandas as pd\n"
   ]
  },
  {
   "cell_type": "code",
   "execution_count": 2,
   "id": "9bfce968",
   "metadata": {},
   "outputs": [],
   "source": [
    "temperature = 25  # in degC, valid values: 0, 10, 25\n",
    "crate = 1         # valid values: 0.5, 1, 2\n",
    "cell_selected = [\"789\"]\n",
    "dataset=prepos.import_thermal_data(crate, temperature)"
   ]
  },
  {
   "cell_type": "code",
   "execution_count": 3,
   "id": "d9749c9e",
   "metadata": {},
   "outputs": [],
   "source": [
    "data_conc = {\"Time [s]\": [], \"Terminal voltage [V]\": [], \"X-averaged cell temperature [degC]\": []}\n",
    "for cell, data in dataset.items():\n",
    "    if cell in cell_selected:\n",
    "        idx_start, idx_end = prepos.get_idxs(data, crate * 5, 5 / 3)\n",
    "        if len(idx_end) == 1:\n",
    "            idx_end = np.append(idx_end, len(data[\"Time [s]\"]))\n",
    "        data_conc[\"Time [s]\"] = np.append(\n",
    "            data_conc[\"Time [s]\"],\n",
    "            data[\"Time [s]\"][idx_start[0] : idx_end[1]]\n",
    "            - data[\"Time [s]\"][idx_start[0]],\n",
    "        )\n",
    "        data_conc[\"Terminal voltage [V]\"] = np.append(\n",
    "            data_conc[\"Terminal voltage [V]\"], data[\"Voltage [V]\"][idx_start[0] : idx_end[1]]\n",
    "        )\n",
    "        data_conc[\"X-averaged cell temperature [degC]\"] = np.append(\n",
    "            data_conc[\"X-averaged cell temperature [degC]\"],\n",
    "            data[\"Temp Cell [degC]\"][idx_start[0] : idx_end[1]],\n",
    "        )\n",
    "data_conc=pd.DataFrame(data_conc)"
   ]
  },
  {
   "cell_type": "code",
   "execution_count": 4,
   "id": "55c4ff08",
   "metadata": {},
   "outputs": [],
   "source": [
    "data_conc[\"X-averaged cell temperature [degC]\"]=data_conc[\"X-averaged cell temperature [degC]\"]+273.15\n",
    "data_conc = data_conc.rename(columns = {\"X-averaged cell temperature [degC]\":\"X-averaged cell temperature [K]\"})"
   ]
  },
  {
   "cell_type": "code",
   "execution_count": 5,
   "id": "cdfbbe24",
   "metadata": {},
   "outputs": [],
   "source": [
    "def j0_neg(c_e, c_s_surf, T):\n",
    "    \"\"\"\n",
    "    This function has been copied from the Chen2020 parameter set:\n",
    "    pybamm/input/parameters/lithium_ion/negative_electrodes/graphite_Chen2020\n",
    "    /graphite_LGM50_electrolyte_exchange_current_density_Chen2020.py\n",
    "    Similar could be done for the positive exchange current density\n",
    "    \"\"\"\n",
    "    m_ref = pybamm.Parameter(\"Negative electrode reaction coefficient\")\n",
    "    E_r = 3500    \n",
    "    arrhenius = pybamm.exp(E_r / pybamm.constants.R * (1 / 298.15 - 1 / T))\n",
    "    c_n_max = pybamm.Parameter(\"Maximum concentration in negative electrode [mol.m-3]\")\n",
    "    return (m_ref * arrhenius * c_e ** 0.5 * c_s_surf ** 0.5 * (c_n_max - c_s_surf) ** 0.5)"
   ]
  },
  {
   "cell_type": "code",
   "execution_count": 6,
   "id": "b9d0f9e1",
   "metadata": {},
   "outputs": [],
   "source": [
    "model = pybamm.lithium_ion.SPMe(\n",
    "            options={\n",
    "                \"thermal\": \"lumped\",\n",
    "                \"dimensionality\": 0,\n",
    "                \"cell geometry\": \"arbitrary\",\n",
    "                \"electrolyte conductivity\": \"integrated\",\n",
    "            },\n",
    "            name=\"TSPMe\",\n",
    "        )\n",
    "\n",
    "param_default = pybamm.ParameterValues(chemistry=pybamm.parameter_sets.Chen2020)\n",
    "param = set_thermal_parameters(param_default, 16, 2.32e6, temperature)\n",
    "param = set_experiment_parameters(param, crate, temperature)\n",
    "param = set_ambient_temperature(param, crate, temperature)\n",
    "param.update({\n",
    "            \"Negative electrode exchange-current density [A.m-2]\": j0_neg,\n",
    "            \"Negative electrode reaction coefficient\": 6.48e-7\n",
    "              #\"Negative electrode diffusivity [m2.s-1]\" : \"[input]\",\n",
    "              #\"Total heat transfer coefficient [W.m-2.K-1]\" : \"[input]\",\n",
    "              #\"Positive current collector specific heat capacity [J.kg-1.K-1]\" : \"[input]\",\n",
    "              #\"Negative current collector specific heat capacity [J.kg-1.K-1]\" : \"[input]\",\n",
    "              #\"Negative electrode specific heat capacity [J.kg-1.K-1]\" : \"[input]\",\n",
    "              #\"Separator specific heat capacity [J.kg-1.K-1]\" : \"[input]\",\n",
    "              #\"Positive electrode specific heat capacity [J.kg-1.K-1]\" : \"[input]\"\n",
    "        }, check_already_exists=False)\n",
    "experiment = pybamm.Experiment(\n",
    "            [\n",
    "                \"Discharge at {}C until 2.5 V (5 seconds period)\".format(crate),\n",
    "                \"Rest for 2 hours\",\n",
    "            ],period=\"30 seconds\")\n",
    "simulation = pybamm.Simulation(\n",
    "            model,\n",
    "            parameter_values=param,\n",
    "            experiment=experiment,\n",
    "            )\n",
    "param_optimised={\"Negative electrode diffusivity [m2.s-1]\":(5e-14,(2.06e-16,2.06e-12)),\n",
    "                  \"Negative electrode reaction coefficient\":(6.48e-7,(2.18589831e-9,2.18589831e-5)),\n",
    "                  \"Total heat transfer coefficient [W.m-2.K-1]\":(20,(0.1,1000)),\n",
    "                  (\"Positive current collector specific heat capacity [J.kg-1.K-1]\",\n",
    "                   \"Negative current collector specific heat capacity [J.kg-1.K-1]\",\n",
    "                   \"Negative electrode specific heat capacity [J.kg-1.K-1]\",\n",
    "                   \"Separator specific heat capacity [J.kg-1.K-1]\",\n",
    "                   \"Positive electrode specific heat capacity [J.kg-1.K-1]\"):(2.85e3,(2.85, 2.85e6))\n",
    "                 }\n",
    "variables_optimised = [\"Terminal voltage [V]\", \"X-averaged cell temperature [K]\"]"
   ]
  },
  {
   "cell_type": "code",
   "execution_count": 7,
   "id": "38ecca2b",
   "metadata": {},
   "outputs": [],
   "source": [
    "opt = pbparam.DataFit(\n",
    "    simulation,\n",
    "    data_conc,\n",
    "    param_optimised,\n",
    "    variables_optimised)"
   ]
  },
  {
   "cell_type": "code",
   "execution_count": 8,
   "id": "8d989185",
   "metadata": {},
   "outputs": [],
   "source": [
    "optimiser=pbparam.ScipyDifferentialEvolution(extra_options={\"workers\": 1, \"polish\": True, \"updating\": \"deferred\",\"disp\": True})"
   ]
  },
  {
   "cell_type": "code",
   "execution_count": null,
   "id": "622d3176",
   "metadata": {},
   "outputs": [
    {
     "name": "stdout",
     "output_type": "stream",
     "text": [
      "differential_evolution step 1: f(x)= 0.0512099\n",
      "differential_evolution step 2: f(x)= 0.0512099\n",
      "differential_evolution step 3: f(x)= 0.0359976\n",
      "differential_evolution step 4: f(x)= 0.0359976\n",
      "differential_evolution step 5: f(x)= 0.0330674\n",
      "differential_evolution step 6: f(x)= 0.0330674\n",
      "differential_evolution step 7: f(x)= 0.0329604\n",
      "differential_evolution step 8: f(x)= 0.0329604\n",
      "differential_evolution step 9: f(x)= 0.0329604\n",
      "differential_evolution step 10: f(x)= 0.031943\n",
      "differential_evolution step 11: f(x)= 0.0255455\n",
      "differential_evolution step 12: f(x)= 0.0245475\n",
      "differential_evolution step 13: f(x)= 0.0235981\n",
      "differential_evolution step 14: f(x)= 0.0235981\n",
      "differential_evolution step 15: f(x)= 0.0235981\n",
      "differential_evolution step 16: f(x)= 0.0235981\n",
      "differential_evolution step 17: f(x)= 0.0232196\n",
      "differential_evolution step 18: f(x)= 0.0231878\n",
      "differential_evolution step 19: f(x)= 0.0231878\n",
      "differential_evolution step 20: f(x)= 0.02317\n"
     ]
    }
   ],
   "source": [
    "result=optimiser.optimise(opt)"
   ]
  },
  {
   "cell_type": "code",
   "execution_count": null,
   "id": "ed9c1c5f",
   "metadata": {},
   "outputs": [],
   "source": [
    "print(result.x, result.fun, result.solve_time)"
   ]
  },
  {
   "cell_type": "code",
   "execution_count": null,
   "id": "c2bd14f3",
   "metadata": {},
   "outputs": [],
   "source": [
    "result.plot()"
   ]
  },
  {
   "cell_type": "code",
   "execution_count": null,
   "id": "419192ce",
   "metadata": {},
   "outputs": [],
   "source": []
  }
 ],
 "metadata": {
  "kernelspec": {
   "display_name": "Python 3 (ipykernel)",
   "language": "python",
   "name": "python3"
  },
  "language_info": {
   "codemirror_mode": {
    "name": "ipython",
    "version": 3
   },
   "file_extension": ".py",
   "mimetype": "text/x-python",
   "name": "python",
   "nbconvert_exporter": "python",
   "pygments_lexer": "ipython3",
   "version": "3.8.12"
  }
 },
 "nbformat": 4,
 "nbformat_minor": 5
}

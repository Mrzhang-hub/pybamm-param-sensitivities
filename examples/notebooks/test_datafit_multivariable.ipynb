{
 "cells": [
  {
   "cell_type": "code",
   "execution_count": 1,
   "id": "5ba4b709",
   "metadata": {},
   "outputs": [],
   "source": [
    "import os\n",
    "os.chdir(\"../..\")\n",
    "import process_experimental_data as prepos\n",
    "from set_parameters import (\n",
    "    set_thermal_parameters,\n",
    "    set_experiment_parameters,\n",
    "    set_ambient_temperature,\n",
    ")\n",
    "import pybamm\n",
    "import numpy as np\n",
    "import pbparam\n",
    "import pandas as pd\n"
   ]
  },
  {
   "cell_type": "code",
   "execution_count": 2,
   "id": "9bfce968",
   "metadata": {},
   "outputs": [],
   "source": [
    "temperature = 25  # in degC, valid values: 0, 10, 25\n",
    "crate = 1  # valid values: 0.5, 1, 2\n",
    "cell_selected = [\"789\"]"
   ]
  },
  {
   "cell_type": "code",
   "execution_count": 3,
   "id": "419192ce",
   "metadata": {},
   "outputs": [],
   "source": [
    "dataset = prepos.import_thermal_data(crate, temperature)\n",
    "data_conc = {\n",
    "    \"Time [s]\": [],\n",
    "    \"Terminal voltage [V]\": [],\n",
    "    \"X-averaged cell temperature [degC]\": [],\n",
    "}\n",
    "for cell, data in dataset.items():\n",
    "    if cell in cell_selected:\n",
    "        idx_start, idx_end = prepos.get_idxs(data, crate * 5, 5 / 3)\n",
    "        if len(idx_end) == 1:\n",
    "            idx_end = np.append(idx_end, len(data[\"Time [s]\"]))\n",
    "        data_conc[\"Time [s]\"] = np.append(\n",
    "            data_conc[\"Time [s]\"],\n",
    "            data[\"Time [s]\"][idx_start[0] : idx_end[1]]\n",
    "            - data[\"Time [s]\"][idx_start[0]],\n",
    "        )\n",
    "        data_conc[\"Terminal voltage [V]\"] = np.append(\n",
    "            data_conc[\"Terminal voltage [V]\"],\n",
    "            data[\"Voltage [V]\"][idx_start[0] : idx_end[1]],\n",
    "        )\n",
    "        data_conc[\"X-averaged cell temperature [degC]\"] = np.append(\n",
    "            data_conc[\"X-averaged cell temperature [degC]\"],\n",
    "            data[\"Temp Cell [degC]\"][idx_start[0] : idx_end[1]],\n",
    "        )\n",
    "data_conc = pd.DataFrame(data_conc)\n",
    "data_conc[\"X-averaged cell temperature [degC]\"] = (\n",
    "    data_conc[\"X-averaged cell temperature [degC]\"] + 273.15\n",
    ")\n",
    "data_conc = data_conc.rename(\n",
    "    columns={\"X-averaged cell temperature [degC]\": \"X-averaged cell temperature [K]\"}\n",
    ")"
   ]
  },
  {
   "cell_type": "code",
   "execution_count": 4,
   "id": "e0865c6c",
   "metadata": {},
   "outputs": [],
   "source": [
    "def j0_neg(c_e, c_s_surf, c_s_max, T):\n",
    "    \"\"\"\n",
    "    This function has been copied from the Chen2020 parameter set:\n",
    "    pybamm/input/parameters/lithium_ion/negative_electrodes/graphite_Chen2020\n",
    "    /graphite_LGM50_electrolyte_exchange_current_density_Chen2020.py\n",
    "    Similar could be done for the positive exchange current density\n",
    "    \"\"\"\n",
    "    m_ref = pybamm.Parameter(\"Negative electrode reaction coefficient\")\n",
    "    E_r = 3500\n",
    "    arrhenius = pybamm.exp(E_r / pybamm.constants.R * (1 / 298.15 - 1 / T))\n",
    "    return (\n",
    "        m_ref * arrhenius * c_e**0.5 * c_s_surf**0.5 * (c_s_max - c_s_surf) ** 0.5\n",
    "    )"
   ]
  },
  {
   "cell_type": "code",
   "execution_count": 5,
   "id": "04906531",
   "metadata": {},
   "outputs": [],
   "source": [
    "model = pybamm.lithium_ion.SPMe(\n",
    "    options={\n",
    "        \"thermal\": \"lumped\",\n",
    "        \"dimensionality\": 0,\n",
    "        \"cell geometry\": \"arbitrary\",\n",
    "        \"electrolyte conductivity\": \"integrated\",\n",
    "    },\n",
    "    name=\"TSPMe\",\n",
    ")"
   ]
  },
  {
   "cell_type": "code",
   "execution_count": 6,
   "id": "05d9343e",
   "metadata": {},
   "outputs": [],
   "source": [
    "param_default = pybamm.ParameterValues(chemistry=pybamm.parameter_sets.Chen2020)\n",
    "param = set_thermal_parameters(param_default, 16, 2.32e6, temperature)\n",
    "param = set_experiment_parameters(param, crate, temperature)\n",
    "param = set_ambient_temperature(param, crate, temperature)\n",
    "param.update(\n",
    "    {\n",
    "        # \"Negative electrode exchange-current density [A.m-2]\": j0_neg,\n",
    "        \"Negative electrode reaction coefficient\": 6.48e-7\n",
    "    },\n",
    "    check_already_exists=False,\n",
    ")\n",
    "experiment = pybamm.Experiment(\n",
    "    [\n",
    "        \"Discharge at {}C until 2.5 V (5 seconds period)\".format(crate),\n",
    "        \"Rest for 2 hours\",\n",
    "    ],\n",
    "    period=\"30 seconds\",\n",
    ")\n",
    "simulation = pybamm.Simulation(\n",
    "    model,\n",
    "    parameter_values=param,\n",
    "    experiment=experiment,\n",
    ")\n",
    "param_optimised = {\n",
    "    \"Negative electrode diffusivity [m2.s-1]\": (5e-14, (2.06e-16, 2.06e-12)),\n",
    "    \"Negative electrode reaction coefficient\": (\n",
    "        6.48e-7,\n",
    "        (2.18589831e-9, 2.18589831e-5),\n",
    "    ),\n",
    "    \"Total heat transfer coefficient [W.m-2.K-1]\": (20, (0.1, 1000)),\n",
    "    (\n",
    "        \"Positive current collector specific heat capacity [J.kg-1.K-1]\",\n",
    "        \"Negative current collector specific heat capacity [J.kg-1.K-1]\",\n",
    "        \"Negative electrode specific heat capacity [J.kg-1.K-1]\",\n",
    "        \"Separator specific heat capacity [J.kg-1.K-1]\",\n",
    "        \"Positive electrode specific heat capacity [J.kg-1.K-1]\",\n",
    "    ): (2.85e3, (2.85, 2.85e6)),\n",
    "}"
   ]
  },
  {
   "cell_type": "code",
   "execution_count": 7,
   "id": "828fa0e0",
   "metadata": {},
   "outputs": [],
   "source": [
    "variables_optimised = [\"Terminal voltage [V]\", \"X-averaged cell temperature [K]\"]\n",
    "cost_function = pbparam.MLE()\n",
    "opt = pbparam.DataFit(cost_function, simulation, data_conc, param_optimised, variables_optimised)"
   ]
  },
  {
   "cell_type": "code",
   "execution_count": 8,
   "id": "c64e899d",
   "metadata": {},
   "outputs": [],
   "source": [
    "# optimiser = pbparam.ScipyDifferentialEvolution(\n",
    "#     extra_options={\"workers\": 4, \"polish\": True, \"updating\": \"deferred\", \"disp\": True}\n",
    "# )\n",
    "optimiser = pbparam.ScipyMinimize(method=\"Nelder-Mead\", extra_options={\"tol\": 1e-6})"
   ]
  },
  {
   "cell_type": "code",
   "execution_count": 9,
   "id": "19d3f11a",
   "metadata": {},
   "outputs": [
    {
     "ename": "TypeError",
     "evalue": "'>' not supported between instances of 'float' and 'NoneType'",
     "output_type": "error",
     "traceback": [
      "\u001b[1;31m---------------------------------------------------------------------------\u001b[0m",
      "\u001b[1;31mTypeError\u001b[0m                                 Traceback (most recent call last)",
      "\u001b[1;32mc:\\Users\\Sogut2_M\\Desktop\\GitHub\\pybamm-param\\examples\\notebooks\\test_datafit_multivariable.ipynb Cell 9\u001b[0m in \u001b[0;36m<module>\u001b[1;34m\u001b[0m\n\u001b[1;32m----> <a href='vscode-notebook-cell:/c%3A/Users/Sogut2_M/Desktop/GitHub/pybamm-param/examples/notebooks/test_datafit_multivariable.ipynb#X11sZmlsZQ%3D%3D?line=0'>1</a>\u001b[0m result \u001b[39m=\u001b[39m optimiser\u001b[39m.\u001b[39;49moptimise(opt)\n",
      "File \u001b[1;32mc:\\Users\\Sogut2_M\\Desktop\\GitHub\\pybamm-param\\pbparam\\optimisers\\base_optimiser.py:62\u001b[0m, in \u001b[0;36mBaseOptimiser.optimise\u001b[1;34m(self, optimisation_problem, x0, bounds, pybamm_logging_level)\u001b[0m\n\u001b[0;32m     59\u001b[0m \u001b[39mself\u001b[39m\u001b[39m.\u001b[39mx0 \u001b[39m=\u001b[39m x0 \u001b[39mor\u001b[39;00m optimisation_problem\u001b[39m.\u001b[39mx0\n\u001b[0;32m     60\u001b[0m \u001b[39mself\u001b[39m\u001b[39m.\u001b[39mbounds \u001b[39m=\u001b[39m bounds \u001b[39mor\u001b[39;00m optimisation_problem\u001b[39m.\u001b[39mbounds\n\u001b[1;32m---> 62\u001b[0m result \u001b[39m=\u001b[39m \u001b[39mself\u001b[39;49m\u001b[39m.\u001b[39;49m_run_optimiser(optimisation_problem, \u001b[39mself\u001b[39;49m\u001b[39m.\u001b[39;49mx0, \u001b[39mself\u001b[39;49m\u001b[39m.\u001b[39;49mbounds)\n\u001b[0;32m     64\u001b[0m \u001b[39m# Restore original logging level\u001b[39;00m\n\u001b[0;32m     65\u001b[0m pybamm\u001b[39m.\u001b[39mset_logging_level(old_logging_level)\n",
      "File \u001b[1;32mc:\\Users\\Sogut2_M\\Desktop\\GitHub\\pybamm-param\\pbparam\\optimisers\\scipy_minimize.py:33\u001b[0m, in \u001b[0;36mScipyMinimize._run_optimiser\u001b[1;34m(self, optimisation_problem, x0, bounds)\u001b[0m\n\u001b[0;32m     30\u001b[0m \u001b[39m# Initialise timer\u001b[39;00m\n\u001b[0;32m     31\u001b[0m timer \u001b[39m=\u001b[39m pybamm\u001b[39m.\u001b[39mTimer()\n\u001b[1;32m---> 33\u001b[0m raw_result \u001b[39m=\u001b[39m minimize(\n\u001b[0;32m     34\u001b[0m     \u001b[39mself\u001b[39;49m\u001b[39m.\u001b[39;49moptimisation_problem\u001b[39m.\u001b[39;49mcost_function,\n\u001b[0;32m     35\u001b[0m     x0,\n\u001b[0;32m     36\u001b[0m     method\u001b[39m=\u001b[39;49m\u001b[39mself\u001b[39;49m\u001b[39m.\u001b[39;49mmethod,\n\u001b[0;32m     37\u001b[0m     bounds\u001b[39m=\u001b[39;49mbounds,\n\u001b[0;32m     38\u001b[0m     \u001b[39m*\u001b[39;49m\u001b[39m*\u001b[39;49m\u001b[39mself\u001b[39;49m\u001b[39m.\u001b[39;49mextra_options,\n\u001b[0;32m     39\u001b[0m     options\u001b[39m=\u001b[39;49m\u001b[39mself\u001b[39;49m\u001b[39m.\u001b[39;49msolver_options,\n\u001b[0;32m     40\u001b[0m )\n\u001b[0;32m     41\u001b[0m solve_time \u001b[39m=\u001b[39m timer\u001b[39m.\u001b[39mtime()\n\u001b[0;32m     43\u001b[0m \u001b[39mif\u001b[39;00m optimisation_problem\u001b[39m.\u001b[39mscalings \u001b[39mis\u001b[39;00m \u001b[39mNone\u001b[39;00m:\n",
      "File \u001b[1;32mc:\\Users\\Sogut2_M\\.conda\\envs\\MNS\\lib\\site-packages\\scipy\\optimize\\_minimize.py:669\u001b[0m, in \u001b[0;36mminimize\u001b[1;34m(fun, x0, args, method, jac, hess, hessp, bounds, constraints, tol, callback, options)\u001b[0m\n\u001b[0;32m    666\u001b[0m     bounds \u001b[39m=\u001b[39m standardize_bounds(bounds, x0, meth)\n\u001b[0;32m    668\u001b[0m \u001b[39mif\u001b[39;00m meth \u001b[39m==\u001b[39m \u001b[39m'\u001b[39m\u001b[39mnelder-mead\u001b[39m\u001b[39m'\u001b[39m:\n\u001b[1;32m--> 669\u001b[0m     res \u001b[39m=\u001b[39m _minimize_neldermead(fun, x0, args, callback, bounds\u001b[39m=\u001b[39;49mbounds,\n\u001b[0;32m    670\u001b[0m                                \u001b[39m*\u001b[39;49m\u001b[39m*\u001b[39;49moptions)\n\u001b[0;32m    671\u001b[0m \u001b[39melif\u001b[39;00m meth \u001b[39m==\u001b[39m \u001b[39m'\u001b[39m\u001b[39mpowell\u001b[39m\u001b[39m'\u001b[39m:\n\u001b[0;32m    672\u001b[0m     res \u001b[39m=\u001b[39m _minimize_powell(fun, x0, args, callback, bounds, \u001b[39m*\u001b[39m\u001b[39m*\u001b[39moptions)\n",
      "File \u001b[1;32mc:\\Users\\Sogut2_M\\.conda\\envs\\MNS\\lib\\site-packages\\scipy\\optimize\\_optimize.py:821\u001b[0m, in \u001b[0;36m_minimize_neldermead\u001b[1;34m(func, x0, args, callback, maxiter, maxfev, disp, return_all, initial_simplex, xatol, fatol, adaptive, bounds, **unknown_options)\u001b[0m\n\u001b[0;32m    818\u001b[0m fxr \u001b[39m=\u001b[39m func(xr)\n\u001b[0;32m    819\u001b[0m doshrink \u001b[39m=\u001b[39m \u001b[39m0\u001b[39m\n\u001b[1;32m--> 821\u001b[0m \u001b[39mif\u001b[39;00m fxr \u001b[39m<\u001b[39;49m fsim[\u001b[39m0\u001b[39;49m]:\n\u001b[0;32m    822\u001b[0m     xe \u001b[39m=\u001b[39m (\u001b[39m1\u001b[39m \u001b[39m+\u001b[39m rho \u001b[39m*\u001b[39m chi) \u001b[39m*\u001b[39m xbar \u001b[39m-\u001b[39m rho \u001b[39m*\u001b[39m chi \u001b[39m*\u001b[39m sim[\u001b[39m-\u001b[39m\u001b[39m1\u001b[39m]\n\u001b[0;32m    823\u001b[0m     \u001b[39mif\u001b[39;00m bounds \u001b[39mis\u001b[39;00m \u001b[39mnot\u001b[39;00m \u001b[39mNone\u001b[39;00m:\n",
      "\u001b[1;31mTypeError\u001b[0m: '>' not supported between instances of 'float' and 'NoneType'"
     ]
    }
   ],
   "source": [
    "result = optimiser.optimise(opt)"
   ]
  },
  {
   "cell_type": "code",
   "execution_count": null,
   "id": "cf38f942",
   "metadata": {},
   "outputs": [],
   "source": [
    "result.plot()"
   ]
  },
  {
   "cell_type": "code",
   "execution_count": null,
   "id": "8a4f161f",
   "metadata": {},
   "outputs": [],
   "source": []
  }
 ],
 "metadata": {
  "kernelspec": {
   "display_name": "Python 3.8.12 ('MNS')",
   "language": "python",
   "name": "python3"
  },
  "language_info": {
   "codemirror_mode": {
    "name": "ipython",
    "version": 3
   },
   "file_extension": ".py",
   "mimetype": "text/x-python",
   "name": "python",
   "nbconvert_exporter": "python",
   "pygments_lexer": "ipython3",
   "version": "3.8.12"
  },
  "vscode": {
   "interpreter": {
    "hash": "fb77006a34bae7b3455bf1af19d13801d1160b5407ef5c8323378eef03722c93"
   }
  }
 },
 "nbformat": 4,
 "nbformat_minor": 5
}

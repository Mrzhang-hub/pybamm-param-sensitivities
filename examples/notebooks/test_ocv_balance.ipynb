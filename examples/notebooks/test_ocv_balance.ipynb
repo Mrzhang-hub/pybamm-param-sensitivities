{
 "cells": [
  {
   "cell_type": "code",
   "execution_count": 1,
   "id": "5ba4b709",
   "metadata": {},
   "outputs": [],
   "source": [
    "import os\n",
    "os.chdir(\"../..\")\n",
    "import pbparam\n",
    "import pandas as pd\n",
    "\n"
   ]
  },
  {
   "cell_type": "code",
   "execution_count": 2,
   "id": "6f25a50c",
   "metadata": {},
   "outputs": [],
   "source": [
    "anode_half = pd.read_csv(os.path.join(\"data\", \"anode_OCP_2.csv\"), header=None)\n",
    "cathode_half = pd.read_csv(os.path.join(\"data\", \"cathode_OCP_2.csv\"), header=None)\n",
    "anode_three = pd.read_csv(os.path.join(\"data\", \"anode_OCP_3.csv\"), header=None)\n",
    "cathode_three = pd.read_csv(os.path.join(\"data\", \"cathode_OCP_3.csv\"), header=None)"
   ]
  },
  {
   "cell_type": "code",
   "execution_count": 3,
   "id": "66cc6a2e",
   "metadata": {},
   "outputs": [],
   "source": [
    "idx_max = anode_half[0].idxmax()\n",
    "\n",
    "anode_half_dch = anode_half[: idx_max + 1]\n",
    "anode_half_ch = anode_half[idx_max:]"
   ]
  },
  {
   "cell_type": "code",
   "execution_count": 4,
   "id": "92bdd5bf",
   "metadata": {},
   "outputs": [],
   "source": [
    "cost_function = pbparam.RMSE()\n",
    "ocp_balance = pbparam.OCPBalance(cost_function, anode_three, [anode_half_dch, anode_half_ch])\n",
    "ocp_balance.setup_cost_function()\n",
    "optimiser = pbparam.ScipyMinimize(\n",
    "    method=\"Nelder-Mead\", solver_options={\"xatol\": 1e-12, \"fatol\": 1e-12}\n",
    ")"
   ]
  },
  {
   "cell_type": "code",
   "execution_count": 5,
   "id": "5d147123",
   "metadata": {},
   "outputs": [
    {
     "name": "stdout",
     "output_type": "stream",
     "text": [
      "<pbparam.cost_functions.rmse.RMSE object at 0x000002B0969DE670>\n",
      "[5.111434746297965e-09, 4.9124405998647696]\n",
      "[(-5.1114347462979644e-08, 5.1114347462979644e-08), (-49.124405998647696, 49.124405998647696)]\n"
     ]
    },
    {
     "ename": "TypeError",
     "evalue": "unsupported operand type(s) for -: 'float' and 'interp1d'",
     "output_type": "error",
     "traceback": [
      "\u001b[1;31m---------------------------------------------------------------------------\u001b[0m",
      "\u001b[1;31mTypeError\u001b[0m                                 Traceback (most recent call last)",
      "\u001b[1;32mc:\\Users\\Sogut2_M\\Desktop\\GitHub\\pybamm-param\\examples\\notebooks\\test_ocv_balance.ipynb Cell 5\u001b[0m in \u001b[0;36m<module>\u001b[1;34m\u001b[0m\n\u001b[1;32m----> <a href='vscode-notebook-cell:/c%3A/Users/Sogut2_M/Desktop/GitHub/pybamm-param/examples/notebooks/test_ocv_balance.ipynb#X20sZmlsZQ%3D%3D?line=0'>1</a>\u001b[0m result \u001b[39m=\u001b[39m optimiser\u001b[39m.\u001b[39;49moptimise(ocp_balance)\n\u001b[0;32m      <a href='vscode-notebook-cell:/c%3A/Users/Sogut2_M/Desktop/GitHub/pybamm-param/examples/notebooks/test_ocv_balance.ipynb#X20sZmlsZQ%3D%3D?line=1'>2</a>\u001b[0m \u001b[39mprint\u001b[39m(result\u001b[39m.\u001b[39mx, result\u001b[39m.\u001b[39mfun)\n",
      "File \u001b[1;32mc:\\Users\\Sogut2_M\\Desktop\\GitHub\\pybamm-param\\pbparam\\optimisers\\base_optimiser.py:62\u001b[0m, in \u001b[0;36mBaseOptimiser.optimise\u001b[1;34m(self, optimisation_problem, x0, bounds, pybamm_logging_level)\u001b[0m\n\u001b[0;32m     59\u001b[0m \u001b[39mself\u001b[39m\u001b[39m.\u001b[39mx0 \u001b[39m=\u001b[39m x0 \u001b[39mor\u001b[39;00m optimisation_problem\u001b[39m.\u001b[39mx0\n\u001b[0;32m     60\u001b[0m \u001b[39mself\u001b[39m\u001b[39m.\u001b[39mbounds \u001b[39m=\u001b[39m bounds \u001b[39mor\u001b[39;00m optimisation_problem\u001b[39m.\u001b[39mbounds\n\u001b[1;32m---> 62\u001b[0m result \u001b[39m=\u001b[39m \u001b[39mself\u001b[39;49m\u001b[39m.\u001b[39;49m_run_optimiser(optimisation_problem, \u001b[39mself\u001b[39;49m\u001b[39m.\u001b[39;49mx0, \u001b[39mself\u001b[39;49m\u001b[39m.\u001b[39;49mbounds)\n\u001b[0;32m     64\u001b[0m \u001b[39m# Restore original logging level\u001b[39;00m\n\u001b[0;32m     65\u001b[0m pybamm\u001b[39m.\u001b[39mset_logging_level(old_logging_level)\n",
      "File \u001b[1;32mc:\\Users\\Sogut2_M\\Desktop\\GitHub\\pybamm-param\\pbparam\\optimisers\\scipy_minimize.py:36\u001b[0m, in \u001b[0;36mScipyMinimize._run_optimiser\u001b[1;34m(self, optimisation_problem, x0, bounds)\u001b[0m\n\u001b[0;32m     34\u001b[0m \u001b[39mprint\u001b[39m(x0)\n\u001b[0;32m     35\u001b[0m \u001b[39mprint\u001b[39m(bounds)\n\u001b[1;32m---> 36\u001b[0m raw_result \u001b[39m=\u001b[39m minimize(\n\u001b[0;32m     37\u001b[0m     \u001b[39mself\u001b[39;49m\u001b[39m.\u001b[39;49moptimisation_problem\u001b[39m.\u001b[39;49mobjective_function,\n\u001b[0;32m     38\u001b[0m     x0,\n\u001b[0;32m     39\u001b[0m     method\u001b[39m=\u001b[39;49m\u001b[39mself\u001b[39;49m\u001b[39m.\u001b[39;49mmethod,\n\u001b[0;32m     40\u001b[0m     bounds\u001b[39m=\u001b[39;49mbounds,\n\u001b[0;32m     41\u001b[0m     \u001b[39m*\u001b[39;49m\u001b[39m*\u001b[39;49m\u001b[39mself\u001b[39;49m\u001b[39m.\u001b[39;49mextra_options,\n\u001b[0;32m     42\u001b[0m     options\u001b[39m=\u001b[39;49m\u001b[39mself\u001b[39;49m\u001b[39m.\u001b[39;49msolver_options,\n\u001b[0;32m     43\u001b[0m )\n\u001b[0;32m     44\u001b[0m solve_time \u001b[39m=\u001b[39m timer\u001b[39m.\u001b[39mtime()\n\u001b[0;32m     46\u001b[0m \u001b[39mif\u001b[39;00m optimisation_problem\u001b[39m.\u001b[39mscalings \u001b[39mis\u001b[39;00m \u001b[39mNone\u001b[39;00m:\n",
      "File \u001b[1;32mc:\\Users\\Sogut2_M\\.conda\\envs\\MNS\\lib\\site-packages\\scipy\\optimize\\_minimize.py:669\u001b[0m, in \u001b[0;36mminimize\u001b[1;34m(fun, x0, args, method, jac, hess, hessp, bounds, constraints, tol, callback, options)\u001b[0m\n\u001b[0;32m    666\u001b[0m     bounds \u001b[39m=\u001b[39m standardize_bounds(bounds, x0, meth)\n\u001b[0;32m    668\u001b[0m \u001b[39mif\u001b[39;00m meth \u001b[39m==\u001b[39m \u001b[39m'\u001b[39m\u001b[39mnelder-mead\u001b[39m\u001b[39m'\u001b[39m:\n\u001b[1;32m--> 669\u001b[0m     res \u001b[39m=\u001b[39m _minimize_neldermead(fun, x0, args, callback, bounds\u001b[39m=\u001b[39;49mbounds,\n\u001b[0;32m    670\u001b[0m                                \u001b[39m*\u001b[39;49m\u001b[39m*\u001b[39;49moptions)\n\u001b[0;32m    671\u001b[0m \u001b[39melif\u001b[39;00m meth \u001b[39m==\u001b[39m \u001b[39m'\u001b[39m\u001b[39mpowell\u001b[39m\u001b[39m'\u001b[39m:\n\u001b[0;32m    672\u001b[0m     res \u001b[39m=\u001b[39m _minimize_powell(fun, x0, args, callback, bounds, \u001b[39m*\u001b[39m\u001b[39m*\u001b[39moptions)\n",
      "File \u001b[1;32mc:\\Users\\Sogut2_M\\.conda\\envs\\MNS\\lib\\site-packages\\scipy\\optimize\\_optimize.py:793\u001b[0m, in \u001b[0;36m_minimize_neldermead\u001b[1;34m(func, x0, args, callback, maxiter, maxfev, disp, return_all, initial_simplex, xatol, fatol, adaptive, bounds, **unknown_options)\u001b[0m\n\u001b[0;32m    791\u001b[0m \u001b[39mtry\u001b[39;00m:\n\u001b[0;32m    792\u001b[0m     \u001b[39mfor\u001b[39;00m k \u001b[39min\u001b[39;00m \u001b[39mrange\u001b[39m(N \u001b[39m+\u001b[39m \u001b[39m1\u001b[39m):\n\u001b[1;32m--> 793\u001b[0m         fsim[k] \u001b[39m=\u001b[39m func(sim[k])\n\u001b[0;32m    794\u001b[0m \u001b[39mexcept\u001b[39;00m _MaxFuncCallError:\n\u001b[0;32m    795\u001b[0m     \u001b[39mpass\u001b[39;00m\n",
      "File \u001b[1;32mc:\\Users\\Sogut2_M\\.conda\\envs\\MNS\\lib\\site-packages\\scipy\\optimize\\_optimize.py:496\u001b[0m, in \u001b[0;36m_wrap_scalar_function_maxfun_validation.<locals>.function_wrapper\u001b[1;34m(x, *wrapper_args)\u001b[0m\n\u001b[0;32m    494\u001b[0m ncalls[\u001b[39m0\u001b[39m] \u001b[39m+\u001b[39m\u001b[39m=\u001b[39m \u001b[39m1\u001b[39m\n\u001b[0;32m    495\u001b[0m \u001b[39m# A copy of x is sent to the user function (gh13740)\u001b[39;00m\n\u001b[1;32m--> 496\u001b[0m fx \u001b[39m=\u001b[39m function(np\u001b[39m.\u001b[39;49mcopy(x), \u001b[39m*\u001b[39;49m(wrapper_args \u001b[39m+\u001b[39;49m args))\n\u001b[0;32m    497\u001b[0m \u001b[39m# Ideally, we'd like to a have a true scalar returned from f(x). For\u001b[39;00m\n\u001b[0;32m    498\u001b[0m \u001b[39m# backwards-compatibility, also allow np.array([1.3]),\u001b[39;00m\n\u001b[0;32m    499\u001b[0m \u001b[39m# np.array([[1.3]]) etc.\u001b[39;00m\n\u001b[0;32m    500\u001b[0m \u001b[39mif\u001b[39;00m \u001b[39mnot\u001b[39;00m np\u001b[39m.\u001b[39misscalar(fx):\n",
      "File \u001b[1;32mc:\\Users\\Sogut2_M\\Desktop\\GitHub\\pybamm-param\\pbparam\\optimisation_problems\\OCP_balance.py:48\u001b[0m, in \u001b[0;36mOCPBalance.objective_function\u001b[1;34m(self, x)\u001b[0m\n\u001b[0;32m     45\u001b[0m y_data_dch \u001b[39m=\u001b[39m \u001b[39mself\u001b[39m\u001b[39m.\u001b[39mdata_ref_dch\n\u001b[0;32m     47\u001b[0m sd\u001b[39m=\u001b[39m\u001b[39m1\u001b[39m\n\u001b[1;32m---> 48\u001b[0m err_ch \u001b[39m=\u001b[39m  \u001b[39mself\u001b[39;49m\u001b[39m.\u001b[39;49mcost_function\u001b[39m.\u001b[39;49mevaluate(y_sim_ch, y_data_ch, sd)\n\u001b[0;32m     49\u001b[0m err_dch \u001b[39m=\u001b[39m  \u001b[39mself\u001b[39m\u001b[39m.\u001b[39mcost_function\u001b[39m.\u001b[39mevaluate(y_sim_dch, y_data_dch, sd)\n\u001b[0;32m     51\u001b[0m err_ch \u001b[39m=\u001b[39m err_ch[\u001b[39m~\u001b[39mnp\u001b[39m.\u001b[39misnan(err_ch)]\n",
      "File \u001b[1;32mc:\\Users\\Sogut2_M\\Desktop\\GitHub\\pybamm-param\\pbparam\\cost_functions\\rmse.py:21\u001b[0m, in \u001b[0;36mRMSE.evaluate\u001b[1;34m(self, y_sim, y_data, sd)\u001b[0m\n\u001b[0;32m     19\u001b[0m \u001b[39mdef\u001b[39;00m \u001b[39mevaluate\u001b[39m(\u001b[39mself\u001b[39m, y_sim, y_data, sd\u001b[39m=\u001b[39m\u001b[39mNone\u001b[39;00m):\n\u001b[1;32m---> 21\u001b[0m     err \u001b[39m=\u001b[39m y_sim \u001b[39m-\u001b[39;49m y_data\n\u001b[0;32m     22\u001b[0m     err \u001b[39m=\u001b[39m err[\u001b[39m~\u001b[39mnp\u001b[39m.\u001b[39misnan(err)]\n\u001b[0;32m     24\u001b[0m     MSE \u001b[39m=\u001b[39m np\u001b[39m.\u001b[39msum(err\u001b[39m*\u001b[39m\u001b[39m*\u001b[39m\u001b[39m2\u001b[39m) \u001b[39m/\u001b[39m \u001b[39mlen\u001b[39m(err)\n",
      "File \u001b[1;32mc:\\Users\\Sogut2_M\\.conda\\envs\\MNS\\lib\\site-packages\\pandas\\core\\ops\\common.py:70\u001b[0m, in \u001b[0;36m_unpack_zerodim_and_defer.<locals>.new_method\u001b[1;34m(self, other)\u001b[0m\n\u001b[0;32m     66\u001b[0m             \u001b[39mreturn\u001b[39;00m \u001b[39mNotImplemented\u001b[39m\n\u001b[0;32m     68\u001b[0m other \u001b[39m=\u001b[39m item_from_zerodim(other)\n\u001b[1;32m---> 70\u001b[0m \u001b[39mreturn\u001b[39;00m method(\u001b[39mself\u001b[39;49m, other)\n",
      "File \u001b[1;32mc:\\Users\\Sogut2_M\\.conda\\envs\\MNS\\lib\\site-packages\\pandas\\core\\arraylike.py:108\u001b[0m, in \u001b[0;36mOpsMixin.__sub__\u001b[1;34m(self, other)\u001b[0m\n\u001b[0;32m    106\u001b[0m \u001b[39m@unpack_zerodim_and_defer\u001b[39m(\u001b[39m\"\u001b[39m\u001b[39m__sub__\u001b[39m\u001b[39m\"\u001b[39m)\n\u001b[0;32m    107\u001b[0m \u001b[39mdef\u001b[39;00m \u001b[39m__sub__\u001b[39m(\u001b[39mself\u001b[39m, other):\n\u001b[1;32m--> 108\u001b[0m     \u001b[39mreturn\u001b[39;00m \u001b[39mself\u001b[39;49m\u001b[39m.\u001b[39;49m_arith_method(other, operator\u001b[39m.\u001b[39;49msub)\n",
      "File \u001b[1;32mc:\\Users\\Sogut2_M\\.conda\\envs\\MNS\\lib\\site-packages\\pandas\\core\\frame.py:6948\u001b[0m, in \u001b[0;36mDataFrame._arith_method\u001b[1;34m(self, other, op)\u001b[0m\n\u001b[0;32m   6944\u001b[0m other \u001b[39m=\u001b[39m ops\u001b[39m.\u001b[39mmaybe_prepare_scalar_for_op(other, (\u001b[39mself\u001b[39m\u001b[39m.\u001b[39mshape[axis],))\n\u001b[0;32m   6946\u001b[0m \u001b[39mself\u001b[39m, other \u001b[39m=\u001b[39m ops\u001b[39m.\u001b[39malign_method_FRAME(\u001b[39mself\u001b[39m, other, axis, flex\u001b[39m=\u001b[39m\u001b[39mTrue\u001b[39;00m, level\u001b[39m=\u001b[39m\u001b[39mNone\u001b[39;00m)\n\u001b[1;32m-> 6948\u001b[0m new_data \u001b[39m=\u001b[39m \u001b[39mself\u001b[39;49m\u001b[39m.\u001b[39;49m_dispatch_frame_op(other, op, axis\u001b[39m=\u001b[39;49maxis)\n\u001b[0;32m   6949\u001b[0m \u001b[39mreturn\u001b[39;00m \u001b[39mself\u001b[39m\u001b[39m.\u001b[39m_construct_result(new_data)\n",
      "File \u001b[1;32mc:\\Users\\Sogut2_M\\.conda\\envs\\MNS\\lib\\site-packages\\pandas\\core\\frame.py:6975\u001b[0m, in \u001b[0;36mDataFrame._dispatch_frame_op\u001b[1;34m(self, right, func, axis)\u001b[0m\n\u001b[0;32m   6972\u001b[0m \u001b[39mif\u001b[39;00m \u001b[39mnot\u001b[39;00m is_list_like(right):\n\u001b[0;32m   6973\u001b[0m     \u001b[39m# i.e. scalar, faster than checking np.ndim(right) == 0\u001b[39;00m\n\u001b[0;32m   6974\u001b[0m     \u001b[39mwith\u001b[39;00m np\u001b[39m.\u001b[39merrstate(\u001b[39mall\u001b[39m\u001b[39m=\u001b[39m\u001b[39m\"\u001b[39m\u001b[39mignore\u001b[39m\u001b[39m\"\u001b[39m):\n\u001b[1;32m-> 6975\u001b[0m         bm \u001b[39m=\u001b[39m \u001b[39mself\u001b[39;49m\u001b[39m.\u001b[39;49m_mgr\u001b[39m.\u001b[39;49mapply(array_op, right\u001b[39m=\u001b[39;49mright)\n\u001b[0;32m   6976\u001b[0m     \u001b[39mreturn\u001b[39;00m \u001b[39mself\u001b[39m\u001b[39m.\u001b[39m_constructor(bm)\n\u001b[0;32m   6978\u001b[0m \u001b[39melif\u001b[39;00m \u001b[39misinstance\u001b[39m(right, DataFrame):\n",
      "File \u001b[1;32mc:\\Users\\Sogut2_M\\.conda\\envs\\MNS\\lib\\site-packages\\pandas\\core\\internals\\managers.py:302\u001b[0m, in \u001b[0;36mBaseBlockManager.apply\u001b[1;34m(self, f, align_keys, ignore_failures, **kwargs)\u001b[0m\n\u001b[0;32m    300\u001b[0m \u001b[39mtry\u001b[39;00m:\n\u001b[0;32m    301\u001b[0m     \u001b[39mif\u001b[39;00m callable(f):\n\u001b[1;32m--> 302\u001b[0m         applied \u001b[39m=\u001b[39m b\u001b[39m.\u001b[39;49mapply(f, \u001b[39m*\u001b[39;49m\u001b[39m*\u001b[39;49mkwargs)\n\u001b[0;32m    303\u001b[0m     \u001b[39melse\u001b[39;00m:\n\u001b[0;32m    304\u001b[0m         applied \u001b[39m=\u001b[39m \u001b[39mgetattr\u001b[39m(b, f)(\u001b[39m*\u001b[39m\u001b[39m*\u001b[39mkwargs)\n",
      "File \u001b[1;32mc:\\Users\\Sogut2_M\\.conda\\envs\\MNS\\lib\\site-packages\\pandas\\core\\internals\\blocks.py:402\u001b[0m, in \u001b[0;36mBlock.apply\u001b[1;34m(self, func, **kwargs)\u001b[0m\n\u001b[0;32m    396\u001b[0m \u001b[39m@final\u001b[39m\n\u001b[0;32m    397\u001b[0m \u001b[39mdef\u001b[39;00m \u001b[39mapply\u001b[39m(\u001b[39mself\u001b[39m, func, \u001b[39m*\u001b[39m\u001b[39m*\u001b[39mkwargs) \u001b[39m-\u001b[39m\u001b[39m>\u001b[39m \u001b[39mlist\u001b[39m[Block]:\n\u001b[0;32m    398\u001b[0m     \u001b[39m\"\"\"\u001b[39;00m\n\u001b[0;32m    399\u001b[0m \u001b[39m    apply the function to my values; return a block if we are not\u001b[39;00m\n\u001b[0;32m    400\u001b[0m \u001b[39m    one\u001b[39;00m\n\u001b[0;32m    401\u001b[0m \u001b[39m    \"\"\"\u001b[39;00m\n\u001b[1;32m--> 402\u001b[0m     result \u001b[39m=\u001b[39m func(\u001b[39mself\u001b[39;49m\u001b[39m.\u001b[39;49mvalues, \u001b[39m*\u001b[39;49m\u001b[39m*\u001b[39;49mkwargs)\n\u001b[0;32m    404\u001b[0m     \u001b[39mreturn\u001b[39;00m \u001b[39mself\u001b[39m\u001b[39m.\u001b[39m_split_op_result(result)\n",
      "File \u001b[1;32mc:\\Users\\Sogut2_M\\.conda\\envs\\MNS\\lib\\site-packages\\pandas\\core\\ops\\array_ops.py:222\u001b[0m, in \u001b[0;36marithmetic_op\u001b[1;34m(left, right, op)\u001b[0m\n\u001b[0;32m    217\u001b[0m \u001b[39melse\u001b[39;00m:\n\u001b[0;32m    218\u001b[0m     \u001b[39m# TODO we should handle EAs consistently and move this check before the if/else\u001b[39;00m\n\u001b[0;32m    219\u001b[0m     \u001b[39m# (https://github.com/pandas-dev/pandas/issues/41165)\u001b[39;00m\n\u001b[0;32m    220\u001b[0m     _bool_arith_check(op, left, right)\n\u001b[1;32m--> 222\u001b[0m     res_values \u001b[39m=\u001b[39m _na_arithmetic_op(left, right, op)\n\u001b[0;32m    224\u001b[0m \u001b[39mreturn\u001b[39;00m res_values\n",
      "File \u001b[1;32mc:\\Users\\Sogut2_M\\.conda\\envs\\MNS\\lib\\site-packages\\pandas\\core\\ops\\array_ops.py:163\u001b[0m, in \u001b[0;36m_na_arithmetic_op\u001b[1;34m(left, right, op, is_cmp)\u001b[0m\n\u001b[0;32m    160\u001b[0m     func \u001b[39m=\u001b[39m partial(expressions\u001b[39m.\u001b[39mevaluate, op)\n\u001b[0;32m    162\u001b[0m \u001b[39mtry\u001b[39;00m:\n\u001b[1;32m--> 163\u001b[0m     result \u001b[39m=\u001b[39m func(left, right)\n\u001b[0;32m    164\u001b[0m \u001b[39mexcept\u001b[39;00m \u001b[39mTypeError\u001b[39;00m:\n\u001b[0;32m    165\u001b[0m     \u001b[39mif\u001b[39;00m \u001b[39mnot\u001b[39;00m is_cmp \u001b[39mand\u001b[39;00m (is_object_dtype(left\u001b[39m.\u001b[39mdtype) \u001b[39mor\u001b[39;00m is_object_dtype(right)):\n\u001b[0;32m    166\u001b[0m         \u001b[39m# For object dtype, fallback to a masked operation (only operating\u001b[39;00m\n\u001b[0;32m    167\u001b[0m         \u001b[39m#  on the non-missing values)\u001b[39;00m\n\u001b[0;32m    168\u001b[0m         \u001b[39m# Don't do this for comparisons, as that will handle complex numbers\u001b[39;00m\n\u001b[0;32m    169\u001b[0m         \u001b[39m#  incorrectly, see GH#32047\u001b[39;00m\n",
      "File \u001b[1;32mc:\\Users\\Sogut2_M\\.conda\\envs\\MNS\\lib\\site-packages\\pandas\\core\\computation\\expressions.py:239\u001b[0m, in \u001b[0;36mevaluate\u001b[1;34m(op, a, b, use_numexpr)\u001b[0m\n\u001b[0;32m    236\u001b[0m \u001b[39mif\u001b[39;00m op_str \u001b[39mis\u001b[39;00m \u001b[39mnot\u001b[39;00m \u001b[39mNone\u001b[39;00m:\n\u001b[0;32m    237\u001b[0m     \u001b[39mif\u001b[39;00m use_numexpr:\n\u001b[0;32m    238\u001b[0m         \u001b[39m# error: \"None\" not callable\u001b[39;00m\n\u001b[1;32m--> 239\u001b[0m         \u001b[39mreturn\u001b[39;00m _evaluate(op, op_str, a, b)  \u001b[39m# type: ignore[misc]\u001b[39;00m\n\u001b[0;32m    240\u001b[0m \u001b[39mreturn\u001b[39;00m _evaluate_standard(op, op_str, a, b)\n",
      "File \u001b[1;32mc:\\Users\\Sogut2_M\\.conda\\envs\\MNS\\lib\\site-packages\\pandas\\core\\computation\\expressions.py:69\u001b[0m, in \u001b[0;36m_evaluate_standard\u001b[1;34m(op, op_str, a, b)\u001b[0m\n\u001b[0;32m     67\u001b[0m \u001b[39mif\u001b[39;00m _TEST_MODE:\n\u001b[0;32m     68\u001b[0m     _store_test_result(\u001b[39mFalse\u001b[39;00m)\n\u001b[1;32m---> 69\u001b[0m \u001b[39mreturn\u001b[39;00m op(a, b)\n",
      "\u001b[1;31mTypeError\u001b[0m: unsupported operand type(s) for -: 'float' and 'interp1d'"
     ]
    }
   ],
   "source": [
    "result = optimiser.optimise(ocp_balance)\n",
    "print(result.x, result.fun)"
   ]
  },
  {
   "cell_type": "code",
   "execution_count": null,
   "id": "04f03816",
   "metadata": {},
   "outputs": [],
   "source": [
    "\n",
    "result.plot()"
   ]
  }
 ],
 "metadata": {
  "kernelspec": {
   "display_name": "Python 3.8.12 ('MNS')",
   "language": "python",
   "name": "python3"
  },
  "language_info": {
   "codemirror_mode": {
    "name": "ipython",
    "version": 3
   },
   "file_extension": ".py",
   "mimetype": "text/x-python",
   "name": "python",
   "nbconvert_exporter": "python",
   "pygments_lexer": "ipython3",
   "version": "3.8.12"
  },
  "vscode": {
   "interpreter": {
    "hash": "fb77006a34bae7b3455bf1af19d13801d1160b5407ef5c8323378eef03722c93"
   }
  }
 },
 "nbformat": 4,
 "nbformat_minor": 5
}

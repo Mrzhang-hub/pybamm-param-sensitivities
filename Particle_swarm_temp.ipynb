{
 "cells": [
  {
   "cell_type": "code",
   "execution_count": 12,
   "id": "f66d1723",
   "metadata": {},
   "outputs": [],
   "source": [
    "import pybamm\n",
    "import numpy as np\n",
    "import matplotlib.pyplot as plt\n",
    "from os import path\n",
    "from tec_reduced_model.set_parameters import (\n",
    "    set_thermal_parameters,\n",
    "    set_experiment_parameters,\n",
    "    set_ambient_temperature,\n",
    ")\n",
    "from tec_reduced_model.process_experimental_data import import_thermal_data, get_idxs\n",
    "from __future__ import print_function\n",
    "import dfols\n",
    "import pyswarms as ps\n",
    "from pyswarms.utils.functions import single_obj as fx\n",
    "\n",
    "plt.style.use(['science','vibrant'])\n",
    "\n",
    "plt.rcParams.update({\n",
    "    \"font.family\": \"sans-serif\",\n",
    "    \"text.usetex\": False,\n",
    "    \"font.size\": 8,\n",
    "    \"axes.labelsize\": 10,\n",
    "})"
   ]
  },
  {
   "cell_type": "code",
   "execution_count": 23,
   "id": "93e5dff1",
   "metadata": {},
   "outputs": [],
   "source": [
    "# Change simulation parameters here\n",
    "temperature = 25  # in degC, valid values: 0, 10, 25\n",
    "Crate = 1         # valid values: 0.5, 1, 2\n",
    "cells_ignore = [\"792\",\"789\",\"791\"]    # cells to ignore, in this case we ignore cell 791 because the data for that cell is faulty"
   ]
  },
  {
   "cell_type": "code",
   "execution_count": 24,
   "id": "f030ef30",
   "metadata": {},
   "outputs": [],
   "source": [
    "# Define the TSPMe model\n",
    "model = pybamm.lithium_ion.SPMe(\n",
    "    options={\n",
    "        \"thermal\": \"lumped\",\n",
    "        \"dimensionality\": 0,\n",
    "        \"cell geometry\": \"arbitrary\",\n",
    "        \"electrolyte conductivity\": \"integrated\",\n",
    "    },\n",
    "    name=\"TSPMe\",\n",
    ")\n",
    "\n",
    "dataset = import_thermal_data(Crate, temperature)\n",
    "data_conc = {\"time\": [], \"voltage\": [], \"temperature\": []}\n",
    "\n",
    "for cell, data in dataset.items():\n",
    "    if cell in cells_ignore:\n",
    "        continue\n",
    "\n",
    "    idx_start, idx_end = get_idxs(data, Crate * 5, 5 / 3)\n",
    "    if len(idx_end) == 1:\n",
    "        idx_end = np.append(idx_end, len(data[\"Time [s]\"]))\n",
    "\n",
    "    data_conc[\"time\"] = np.append(\n",
    "        data_conc[\"time\"],\n",
    "        data[\"Time [s]\"][idx_start[0] : idx_end[1]]\n",
    "        - data[\"Time [s]\"][idx_start[0]],\n",
    "    )\n",
    "    data_conc[\"voltage\"] = np.append(\n",
    "        data_conc[\"voltage\"], data[\"Voltage [V]\"][idx_start[0] : idx_end[1]]\n",
    "    )\n",
    "    data_conc[\"temperature\"] = np.append(\n",
    "        data_conc[\"temperature\"],\n",
    "        data[\"Temp Cell [degC]\"][idx_start[0] : idx_end[1]],\n",
    "    )"
   ]
  },
  {
   "cell_type": "code",
   "execution_count": 25,
   "id": "dc9046b9",
   "metadata": {},
   "outputs": [],
   "source": [
    "def R_squared(solution, x_data, y_data):\n",
    "    y_bar = np.mean(y_data)\n",
    "    SS_tot = np.sum((y_data - y_bar) ** 2)\n",
    "    res = y_data - solution(x_data)\n",
    "    res = res[~np.isnan(res)]  # remove NaNs due to extrapolation\n",
    "    SS_res = np.sum(res ** 2)\n",
    "    n=len(y_data)\n",
    "\n",
    "    return 1 - SS_res / n"
   ]
  },
  {
   "cell_type": "code",
   "execution_count": 26,
   "id": "01caa2d9",
   "metadata": {},
   "outputs": [],
   "source": [
    "def j0_neg(c_e, c_s_surf, T):\n",
    "    \"\"\"\n",
    "    This function has been copied from the Chen2020 parameter set:\n",
    "    pybamm/input/parameters/lithium_ion/negative_electrodes/graphite_Chen2020\n",
    "    /graphite_LGM50_electrolyte_exchange_current_density_Chen2020.py\n",
    "\n",
    "    Similar could be done for the positive exchange current density\n",
    "    \"\"\"\n",
    "\n",
    "    # m_ref = 6.48e-7  # (A/m2)(mol/m3)**1.5 - includes ref concentrations\n",
    "\n",
    "    m_ref = pybamm.Parameter(\"Negative electrode reaction coefficient\")\n",
    "    E_r = 35000\n",
    "    arrhenius = pybamm.exp(E_r / pybamm.constants.R * (1 / 298.15 - 1 / T))\n",
    "\n",
    "    c_n_max = pybamm.Parameter(\"Maximum concentration in negative electrode [mol.m-3]\")\n",
    "\n",
    "    return (\n",
    "        m_ref * arrhenius * c_e ** 0.5 * c_s_surf ** 0.5 * (c_n_max - c_s_surf) ** 0.5\n",
    "    )"
   ]
  },
  {
   "cell_type": "code",
   "execution_count": 27,
   "id": "e22ef370",
   "metadata": {},
   "outputs": [],
   "source": [
    "# Define parameter set Chen 2020 (see PyBaMM documentation for details)\n",
    "# This is the reference parameter set, which we then update for the adjusted thermal parameters\n",
    "param = pybamm.ParameterValues(chemistry=pybamm.parameter_sets.Chen2020)\n",
    "\n",
    "# We now update the parameter set for the adjusted parameters\n",
    "param = set_thermal_parameters(param, 16, 2.32e6, temperature)\n",
    "param = set_experiment_parameters(param, Crate, temperature)\n",
    "param = set_ambient_temperature(param, Crate, temperature)\n",
    "    \n",
    "    # Define the experiment to be a CC discharge at the defined C-rate followed by a 2-hour relaxation\n",
    "experiment = pybamm.Experiment(\n",
    "    [\n",
    "        \"Discharge at {}C until 2.5 V (5 seconds period)\".format(Crate),\n",
    "        \"Rest for 2 hours\",\n",
    "    ],\n",
    "    period=\"30 seconds\",\n",
    ")"
   ]
  },
  {
   "cell_type": "code",
   "execution_count": 28,
   "id": "1353d89d",
   "metadata": {},
   "outputs": [],
   "source": [
    "\n",
    "param.update({\n",
    "    \"Negative electrode exchange-current density [A.m-2]\": j0_neg,\n",
    "    \"Negative electrode reaction coefficient\": \"[input]\",\n",
    "    \"Negative electrode diffusivity [m2.s-1]\" : \"[input]\",\n",
    "}, check_already_exists=False)\n",
    "    \n",
    "    # Solve the model\n",
    "simulation = pybamm.Simulation(\n",
    "        model,\n",
    "        parameter_values=param,\n",
    "        experiment=experiment,\n",
    "    )\n",
    "    \n",
    "def fitness(x):\n",
    "    \n",
    "    \n",
    "    simulation.solve(inputs={\"Negative electrode reaction coefficient\": x[0,1],\"Negative electrode diffusivity [m2.s-1]\" : x[0,0]})\n",
    "    solution = simulation.solution\n",
    "    #R_squared(solution[\"X-averaged cell temperature [K]\"], data_conc[\"time\"], data_conc[\"temperature\"])\n",
    "\n",
    "    \n",
    "    return np.array(1-R_squared(solution[\"X-averaged cell temperature [K]\"], data_conc[\"time\"], (data_conc[\"temperature\"] + 273.15)))     #(np.abs(sol_sq-exp_sq))"
   ]
  },
  {
   "cell_type": "code",
   "execution_count": 29,
   "id": "012e3dd6",
   "metadata": {},
   "outputs": [],
   "source": [
    "# Create bounds\n",
    "max_bound = np.array([ 2.06e-10, 2.18589831e-5])\n",
    "min_bound = np.array([ 2.06e-16, 2.18589831e-9])\n",
    "bounds = (min_bound, max_bound)\n",
    "#x0 =np.array([5e-14,6.48e-7])"
   ]
  },
  {
   "cell_type": "code",
   "execution_count": 30,
   "id": "bb750dcd",
   "metadata": {},
   "outputs": [
    {
     "name": "stderr",
     "output_type": "stream",
     "text": [
      "2022-03-04 14:39:32,473 - pyswarms.single.global_best - INFO - Optimize for 1000 iters with {'c1': 0.5, 'c2': 0.6, 'w': 0.8}\n",
      "pyswarms.single.global_best: 100%|██████████|1000/1000, best_cost=0.609\n",
      "2022-03-04 14:52:44,211 - pyswarms.single.global_best - INFO - Optimization finished | best cost: 0.6085507006371944, best pos: [1.8045803e-11 1.0954161e-06]\n"
     ]
    },
    {
     "name": "stdout",
     "output_type": "stream",
     "text": [
      "CPU times: total: 13min 11s\n",
      "Wall time: 13min 11s\n"
     ]
    }
   ],
   "source": [
    "%%time\n",
    "# Set-up hyperparameters\n",
    "options = {'c1': 0.5, 'c2': 0.6, 'w':0.8}\n",
    "\n",
    "# Call instance of PSO\n",
    "optimizer = ps.single.GlobalBestPSO(n_particles=10, dimensions=2, options=options, bounds=bounds)\n",
    "\n",
    "# Perform optimization\n",
    "cost, pos = optimizer.optimize(fitness, iters=1000)"
   ]
  },
  {
   "cell_type": "code",
   "execution_count": 39,
   "id": "53d699ab",
   "metadata": {},
   "outputs": [
    {
     "name": "stdout",
     "output_type": "stream",
     "text": [
      "[1.8045803e-11 1.0954161e-06]\n"
     ]
    },
    {
     "ename": "IndexError",
     "evalue": "too many indices for array: array is 1-dimensional, but 2 were indexed",
     "output_type": "error",
     "traceback": [
      "\u001b[1;31m---------------------------------------------------------------------------\u001b[0m",
      "\u001b[1;31mIndexError\u001b[0m                                Traceback (most recent call last)",
      "Input \u001b[1;32mIn [39]\u001b[0m, in \u001b[0;36m<module>\u001b[1;34m\u001b[0m\n\u001b[0;32m      1\u001b[0m \u001b[38;5;28mprint\u001b[39m(pos)\n\u001b[1;32m----> 2\u001b[0m \u001b[43mfitness\u001b[49m\u001b[43m(\u001b[49m\u001b[43mpos\u001b[49m\u001b[43m)\u001b[49m\n",
      "Input \u001b[1;32mIn [28]\u001b[0m, in \u001b[0;36mfitness\u001b[1;34m(x)\u001b[0m\n\u001b[0;32m     14\u001b[0m \u001b[38;5;28;01mdef\u001b[39;00m \u001b[38;5;21mfitness\u001b[39m(x):\n\u001b[1;32m---> 17\u001b[0m     simulation\u001b[38;5;241m.\u001b[39msolve(inputs\u001b[38;5;241m=\u001b[39m{\u001b[38;5;124m\"\u001b[39m\u001b[38;5;124mNegative electrode reaction coefficient\u001b[39m\u001b[38;5;124m\"\u001b[39m: \u001b[43mx\u001b[49m\u001b[43m[\u001b[49m\u001b[38;5;241;43m0\u001b[39;49m\u001b[43m,\u001b[49m\u001b[38;5;241;43m1\u001b[39;49m\u001b[43m]\u001b[49m,\u001b[38;5;124m\"\u001b[39m\u001b[38;5;124mNegative electrode diffusivity [m2.s-1]\u001b[39m\u001b[38;5;124m\"\u001b[39m : x[\u001b[38;5;241m0\u001b[39m,\u001b[38;5;241m0\u001b[39m]})\n\u001b[0;32m     18\u001b[0m     solution \u001b[38;5;241m=\u001b[39m simulation\u001b[38;5;241m.\u001b[39msolution\n\u001b[0;32m     19\u001b[0m     \u001b[38;5;66;03m#R_squared(solution[\"X-averaged cell temperature [K]\"], data_conc[\"time\"], data_conc[\"temperature\"])\u001b[39;00m\n",
      "\u001b[1;31mIndexError\u001b[0m: too many indices for array: array is 1-dimensional, but 2 were indexed"
     ]
    }
   ],
   "source": [
    "print(pos)\n",
    "fitness(pos)"
   ]
  },
  {
   "cell_type": "code",
   "execution_count": 31,
   "id": "e6ea5297",
   "metadata": {},
   "outputs": [],
   "source": [
    "# Define the TSPMe model\n",
    "model = pybamm.lithium_ion.SPMe(\n",
    "    options={\n",
    "        \"thermal\": \"lumped\",\n",
    "        \"dimensionality\": 0,\n",
    "        \"cell geometry\": \"arbitrary\",\n",
    "        \"electrolyte conductivity\": \"integrated\",\n",
    "    },\n",
    "    name=\"TSPMe\",\n",
    ")\n",
    "\n",
    "# Define parameter set Chen 2020 (see PyBaMM documentation for details)\n",
    "# This is the reference parameter set, which we then update for the adjusted thermal parameters\n",
    "param = pybamm.ParameterValues(chemistry=pybamm.parameter_sets.Chen2020)\n",
    "\n",
    "# We now update the parameter set for the adjusted parameters\n",
    "param = set_thermal_parameters(param, 16, 2.32e6, temperature)\n",
    "param = set_experiment_parameters(param, Crate, temperature)\n",
    "param = set_ambient_temperature(param, Crate, temperature)\n",
    "param[\"Negative electrode diffusivity [m2.s-1]\"] = pos[0]\n",
    "param.update({\n",
    "        \"Negative electrode exchange-current density [A.m-2]\": j0_neg,\n",
    "        \"Negative electrode reaction coefficient\": \"[input]\",\n",
    "    }, check_already_exists=False)\n",
    "\n",
    "# Define the experiment to be a CC discharge at the defined C-rate followed by a 2-hour relaxation\n",
    "experiment = pybamm.Experiment(\n",
    "    [\n",
    "        \"Discharge at {}C until 2.5 V (5 seconds period)\".format(Crate),\n",
    "        \"Rest for 2 hours\",\n",
    "    ],\n",
    "    period=\"30 seconds\",\n",
    ")\n",
    "\n",
    "# Solve the model\n",
    "simulation = pybamm.Simulation(\n",
    "    model,\n",
    "    parameter_values=param,\n",
    "    experiment=experiment,\n",
    ")\n",
    "simulation.solve( inputs={\"Negative electrode reaction coefficient\": pos[1]})\n",
    "solution = simulation.solution\n"
   ]
  },
  {
   "cell_type": "code",
   "execution_count": 32,
   "id": "c9c71636",
   "metadata": {},
   "outputs": [
    {
     "data": {
      "image/png": "[encoded data removed]",
      "text/plain": [
       "<Figure size 792x324 with 2 Axes>"
      ]
     },
     "metadata": {
      "needs_background": "light"
     },
     "output_type": "display_data"
    }
   ],
   "source": [
    "fig, axes = plt.subplots(1, 2, figsize=(11, 4.5))\n",
    "dataset = import_thermal_data(Crate, temperature)\n",
    "data_conc = {\"time\": [], \"voltage\": [], \"temperature\": []}\n",
    "\n",
    "for cell, data in dataset.items():\n",
    "    if cell in cells_ignore:\n",
    "        continue\n",
    "\n",
    "    idx_start, idx_end = get_idxs(data, Crate * 5, 5 / 3)\n",
    "    if len(idx_end) == 1:\n",
    "        idx_end = np.append(idx_end, len(data[\"Time [s]\"]))\n",
    "\n",
    "    axes[0].plot(\n",
    "        data[\"Time [s]\"][idx_start[0] : idx_end[1]]\n",
    "        - data[\"Time [s]\"][idx_start[0]],\n",
    "        data[\"Voltage [V]\"][idx_start[0] : idx_end[1]],\n",
    "        label=cell,\n",
    "    )\n",
    "    axes[1].plot(\n",
    "        data[\"Time [s]\"][idx_start[0] : idx_end[1]]\n",
    "        - data[\"Time [s]\"][idx_start[0]],\n",
    "        data[\"Temp Cell [degC]\"][idx_start[0] : idx_end[1]],\n",
    "        label=cell,\n",
    "    )\n",
    "\n",
    "    data_conc[\"time\"] = np.append(\n",
    "        data_conc[\"time\"],\n",
    "        data[\"Time [s]\"][idx_start[0] : idx_end[1]]\n",
    "        - data[\"Time [s]\"][idx_start[0]],\n",
    "    )\n",
    "    data_conc[\"voltage\"] = np.append(\n",
    "        data_conc[\"voltage\"], data[\"Voltage [V]\"][idx_start[0] : idx_end[1]]\n",
    "    )\n",
    "    data_conc[\"temperature\"] = np.append(\n",
    "        data_conc[\"temperature\"],\n",
    "        data[\"Temp Cell [degC]\"][idx_start[0] : idx_end[1]],\n",
    "    )\n",
    "\n",
    "    \n",
    "axes[0].plot(\n",
    "    solution[\"Time [s]\"].entries,\n",
    "    solution[\"Terminal voltage [V]\"].entries,\n",
    "    color=\"black\",\n",
    "    label=\"TSPMe\",\n",
    ")\n",
    "\n",
    "axes[0].scatter(\n",
    "    0,\n",
    "    solution[\"X-averaged battery open circuit voltage [V]\"].entries[0],\n",
    "    marker=\"x\",\n",
    "    color=\"black\",\n",
    ")\n",
    "\n",
    "axes[0].set_xlabel(\"Time (s)\")\n",
    "axes[0].set_ylabel(\"Voltage (V)\")\n",
    "\n",
    "axes[1].plot(\n",
    "    solution[\"Time [s]\"].entries,\n",
    "    solution[\"X-averaged cell temperature [K]\"].entries - 273.15,\n",
    "    color=\"black\",\n",
    "    label=\"TSPMe\",\n",
    ")\n",
    "\n",
    "axes[1].set_xlabel(\"Time (s)\")\n",
    "axes[1].set_ylabel(\"Cell temperature (°C)\")\n",
    "axes[1].legend()\n",
    "    \n",
    "fig.suptitle(\"Ambient temperature: {} °C, C-rate: {}C\".format(temperature, Crate))    \n",
    "\n",
    "fig.tight_layout()\n",
    "fig.subplots_adjust(top=0.9)"
   ]
  },
  {
   "cell_type": "code",
   "execution_count": null,
   "id": "3472191e",
   "metadata": {},
   "outputs": [],
   "source": []
  }
 ],
 "metadata": {
  "kernelspec": {
   "display_name": "Python 3 (ipykernel)",
   "language": "python",
   "name": "python3"
  },
  "language_info": {
   "codemirror_mode": {
    "name": "ipython",
    "version": 3
   },
   "file_extension": ".py",
   "mimetype": "text/x-python",
   "name": "python",
   "nbconvert_exporter": "python",
   "pygments_lexer": "ipython3",
   "version": "3.8.12"
  }
 },
 "nbformat": 4,
 "nbformat_minor": 5
}

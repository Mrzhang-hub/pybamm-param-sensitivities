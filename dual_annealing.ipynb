{
 "cells": [
  {
   "cell_type": "code",
   "execution_count": 1,
   "id": "f66d1723",
   "metadata": {},
   "outputs": [],
   "source": [
    "import create_model\n",
    "import numpy as np\n",
    "# Change simulation parameters here\n",
    "temperature = 25  # in degC, valid values: 0, 10, 25\n",
    "crate = 1         # valid values: 0.5, 1, 2\n",
    "cells_ignore = [\"789\",\"791\",\"792\"]   # cells to ignore, in this case we ignore cell 791 because the data for that cell is faulty"
   ]
  },
  {
   "cell_type": "code",
   "execution_count": 2,
   "id": "93e5dff1",
   "metadata": {},
   "outputs": [
    {
     "data": {
      "text/plain": [
       "array(0.01484752)"
      ]
     },
     "execution_count": 2,
     "metadata": {},
     "output_type": "execute_result"
    }
   ],
   "source": [
    "model=create_model.model_build(temperature,crate,cells_ignore)\n",
    "x0 =np.array([5e-14,6.48e-7,20,2.85e3])\n",
    "# Create bounds\n",
    "#max_bound = np.array([ 2.06e-12, 2.18589831e-5,1000,2.85e6])\n",
    "#min_bound = np.array([ 2.06e-16, 2.18589831e-9,0.1,2.85])\n",
    "bounds = [[2.06e-16,2.06e-12],[2.18589831e-9,2.18589831e-5],[0.1,1000],[2.85,2.85e6]] #bounds of the variable optimized\n",
    "model.fitness(x0) #initial value of the function"
   ]
  },
  {
   "cell_type": "code",
   "execution_count": null,
   "id": "bb750dcd",
   "metadata": {},
   "outputs": [
    {
     "name": "stdout",
     "output_type": "stream",
     "text": [
      "CPU times: total: 0 ns\n",
      "Wall time: 0 ns\n"
     ]
    },
    {
     "name": "stderr",
     "output_type": "stream",
     "text": [
      "2022-03-25 14:51:27,018 - [WARNING] processed_variable.__call__(485): Calling variable outside interpolation range (returns 'nan')\n",
      "2022-03-25 14:51:27,047 - [WARNING] processed_variable.__call__(485): Calling variable outside interpolation range (returns 'nan')\n",
      "2022-03-25 14:51:31,365 - [WARNING] processed_variable.__call__(485): Calling variable outside interpolation range (returns 'nan')\n",
      "2022-03-25 14:51:31,393 - [WARNING] processed_variable.__call__(485): Calling variable outside interpolation range (returns 'nan')\n",
      "2022-03-25 14:51:35,437 - [WARNING] processed_variable.__call__(485): Calling variable outside interpolation range (returns 'nan')\n",
      "2022-03-25 14:51:35,465 - [WARNING] processed_variable.__call__(485): Calling variable outside interpolation range (returns 'nan')\n",
      "2022-03-25 14:51:39,645 - [WARNING] processed_variable.__call__(485): Calling variable outside interpolation range (returns 'nan')\n",
      "2022-03-25 14:51:39,672 - [WARNING] processed_variable.__call__(485): Calling variable outside interpolation range (returns 'nan')\n",
      "2022-03-25 14:51:43,737 - [WARNING] processed_variable.__call__(485): Calling variable outside interpolation range (returns 'nan')\n",
      "2022-03-25 14:51:43,765 - [WARNING] processed_variable.__call__(485): Calling variable outside interpolation range (returns 'nan')\n",
      "2022-03-25 14:51:47,971 - [WARNING] processed_variable.__call__(485): Calling variable outside interpolation range (returns 'nan')\n",
      "2022-03-25 14:51:47,999 - [WARNING] processed_variable.__call__(485): Calling variable outside interpolation range (returns 'nan')\n",
      "2022-03-25 14:51:52,157 - [WARNING] processed_variable.__call__(485): Calling variable outside interpolation range (returns 'nan')\n",
      "2022-03-25 14:51:52,184 - [WARNING] processed_variable.__call__(485): Calling variable outside interpolation range (returns 'nan')\n",
      "2022-03-25 14:51:56,266 - [WARNING] processed_variable.__call__(485): Calling variable outside interpolation range (returns 'nan')\n",
      "2022-03-25 14:51:56,294 - [WARNING] processed_variable.__call__(485): Calling variable outside interpolation range (returns 'nan')\n",
      "2022-03-25 14:52:00,442 - [WARNING] processed_variable.__call__(485): Calling variable outside interpolation range (returns 'nan')\n",
      "2022-03-25 14:52:00,469 - [WARNING] processed_variable.__call__(485): Calling variable outside interpolation range (returns 'nan')\n",
      "2022-03-25 14:52:04,536 - [WARNING] processed_variable.__call__(485): Calling variable outside interpolation range (returns 'nan')\n",
      "2022-03-25 14:52:04,564 - [WARNING] processed_variable.__call__(485): Calling variable outside interpolation range (returns 'nan')\n",
      "2022-03-25 14:52:08,633 - [WARNING] processed_variable.__call__(485): Calling variable outside interpolation range (returns 'nan')\n",
      "2022-03-25 14:52:08,662 - [WARNING] processed_variable.__call__(485): Calling variable outside interpolation range (returns 'nan')\n",
      "2022-03-25 14:52:13,097 - [WARNING] processed_variable.__call__(485): Calling variable outside interpolation range (returns 'nan')\n",
      "2022-03-25 14:52:13,125 - [WARNING] processed_variable.__call__(485): Calling variable outside interpolation range (returns 'nan')\n",
      "2022-03-25 14:52:17,174 - [WARNING] processed_variable.__call__(485): Calling variable outside interpolation range (returns 'nan')\n",
      "2022-03-25 14:52:17,203 - [WARNING] processed_variable.__call__(485): Calling variable outside interpolation range (returns 'nan')\n",
      "2022-03-25 14:52:21,241 - [WARNING] processed_variable.__call__(485): Calling variable outside interpolation range (returns 'nan')\n",
      "2022-03-25 14:52:21,268 - [WARNING] processed_variable.__call__(485): Calling variable outside interpolation range (returns 'nan')\n",
      "2022-03-25 14:52:25,407 - [WARNING] processed_variable.__call__(485): Calling variable outside interpolation range (returns 'nan')\n",
      "2022-03-25 14:52:25,435 - [WARNING] processed_variable.__call__(485): Calling variable outside interpolation range (returns 'nan')\n",
      "2022-03-25 14:52:29,576 - [WARNING] processed_variable.__call__(485): Calling variable outside interpolation range (returns 'nan')\n",
      "2022-03-25 14:52:29,608 - [WARNING] processed_variable.__call__(485): Calling variable outside interpolation range (returns 'nan')\n",
      "2022-03-25 14:52:33,819 - [WARNING] processed_variable.__call__(485): Calling variable outside interpolation range (returns 'nan')\n",
      "2022-03-25 14:52:33,846 - [WARNING] processed_variable.__call__(485): Calling variable outside interpolation range (returns 'nan')\n",
      "2022-03-25 14:52:37,870 - [WARNING] processed_variable.__call__(485): Calling variable outside interpolation range (returns 'nan')\n",
      "2022-03-25 14:52:37,898 - [WARNING] processed_variable.__call__(485): Calling variable outside interpolation range (returns 'nan')\n",
      "2022-03-25 14:52:41,944 - [WARNING] processed_variable.__call__(485): Calling variable outside interpolation range (returns 'nan')\n",
      "2022-03-25 14:52:41,971 - [WARNING] processed_variable.__call__(485): Calling variable outside interpolation range (returns 'nan')\n",
      "2022-03-25 14:52:46,181 - [WARNING] processed_variable.__call__(485): Calling variable outside interpolation range (returns 'nan')\n",
      "2022-03-25 14:52:46,210 - [WARNING] processed_variable.__call__(485): Calling variable outside interpolation range (returns 'nan')\n",
      "2022-03-25 14:52:50,255 - [WARNING] processed_variable.__call__(485): Calling variable outside interpolation range (returns 'nan')\n",
      "2022-03-25 14:52:50,282 - [WARNING] processed_variable.__call__(485): Calling variable outside interpolation range (returns 'nan')\n",
      "2022-03-25 14:52:54,472 - [WARNING] processed_variable.__call__(485): Calling variable outside interpolation range (returns 'nan')\n",
      "2022-03-25 14:52:54,499 - [WARNING] processed_variable.__call__(485): Calling variable outside interpolation range (returns 'nan')\n",
      "2022-03-25 14:52:58,583 - [WARNING] processed_variable.__call__(485): Calling variable outside interpolation range (returns 'nan')\n",
      "2022-03-25 14:52:58,609 - [WARNING] processed_variable.__call__(485): Calling variable outside interpolation range (returns 'nan')\n",
      "2022-03-25 14:53:02,703 - [WARNING] processed_variable.__call__(485): Calling variable outside interpolation range (returns 'nan')\n",
      "2022-03-25 14:53:02,733 - [WARNING] processed_variable.__call__(485): Calling variable outside interpolation range (returns 'nan')\n",
      "2022-03-25 14:53:07,161 - [WARNING] processed_variable.__call__(485): Calling variable outside interpolation range (returns 'nan')\n",
      "2022-03-25 14:53:07,188 - [WARNING] processed_variable.__call__(485): Calling variable outside interpolation range (returns 'nan')\n",
      "2022-03-25 14:53:11,232 - [WARNING] processed_variable.__call__(485): Calling variable outside interpolation range (returns 'nan')\n",
      "2022-03-25 14:53:11,258 - [WARNING] processed_variable.__call__(485): Calling variable outside interpolation range (returns 'nan')\n",
      "2022-03-25 14:53:15,307 - [WARNING] processed_variable.__call__(485): Calling variable outside interpolation range (returns 'nan')\n",
      "2022-03-25 14:53:15,335 - [WARNING] processed_variable.__call__(485): Calling variable outside interpolation range (returns 'nan')\n",
      "2022-03-25 14:53:19,470 - [WARNING] processed_variable.__call__(485): Calling variable outside interpolation range (returns 'nan')\n",
      "2022-03-25 14:53:19,496 - [WARNING] processed_variable.__call__(485): Calling variable outside interpolation range (returns 'nan')\n",
      "2022-03-25 14:53:23,489 - [WARNING] processed_variable.__call__(485): Calling variable outside interpolation range (returns 'nan')\n",
      "2022-03-25 14:53:23,516 - [WARNING] processed_variable.__call__(485): Calling variable outside interpolation range (returns 'nan')\n",
      "2022-03-25 14:53:27,608 - [WARNING] processed_variable.__call__(485): Calling variable outside interpolation range (returns 'nan')\n",
      "2022-03-25 14:53:27,641 - [WARNING] processed_variable.__call__(485): Calling variable outside interpolation range (returns 'nan')\n",
      "2022-03-25 14:53:31,900 - [WARNING] processed_variable.__call__(485): Calling variable outside interpolation range (returns 'nan')\n",
      "2022-03-25 14:53:31,926 - [WARNING] processed_variable.__call__(485): Calling variable outside interpolation range (returns 'nan')\n",
      "2022-03-25 14:53:35,934 - [WARNING] processed_variable.__call__(485): Calling variable outside interpolation range (returns 'nan')\n"
     ]
    },
    {
     "name": "stderr",
     "output_type": "stream",
     "text": [
      "2022-03-25 14:53:35,974 - [WARNING] processed_variable.__call__(485): Calling variable outside interpolation range (returns 'nan')\n",
      "2022-03-25 14:53:40,097 - [WARNING] processed_variable.__call__(485): Calling variable outside interpolation range (returns 'nan')\n",
      "2022-03-25 14:53:40,123 - [WARNING] processed_variable.__call__(485): Calling variable outside interpolation range (returns 'nan')\n",
      "2022-03-25 14:53:44,106 - [WARNING] processed_variable.__call__(485): Calling variable outside interpolation range (returns 'nan')\n",
      "2022-03-25 14:53:44,132 - [WARNING] processed_variable.__call__(485): Calling variable outside interpolation range (returns 'nan')\n",
      "2022-03-25 15:09:36,130 - [WARNING] processed_variable.__call__(485): Calling variable outside interpolation range (returns 'nan')\n",
      "2022-03-25 15:09:36,160 - [WARNING] processed_variable.__call__(485): Calling variable outside interpolation range (returns 'nan')\n",
      "2022-03-25 15:09:40,306 - [WARNING] processed_variable.__call__(485): Calling variable outside interpolation range (returns 'nan')\n",
      "2022-03-25 15:09:40,332 - [WARNING] processed_variable.__call__(485): Calling variable outside interpolation range (returns 'nan')\n",
      "2022-03-25 15:09:44,380 - [WARNING] processed_variable.__call__(485): Calling variable outside interpolation range (returns 'nan')\n",
      "2022-03-25 15:09:44,407 - [WARNING] processed_variable.__call__(485): Calling variable outside interpolation range (returns 'nan')\n",
      "2022-03-25 15:09:48,477 - [WARNING] processed_variable.__call__(485): Calling variable outside interpolation range (returns 'nan')\n",
      "2022-03-25 15:09:48,504 - [WARNING] processed_variable.__call__(485): Calling variable outside interpolation range (returns 'nan')\n",
      "2022-03-25 15:09:52,773 - [WARNING] processed_variable.__call__(485): Calling variable outside interpolation range (returns 'nan')\n",
      "2022-03-25 15:09:52,802 - [WARNING] processed_variable.__call__(485): Calling variable outside interpolation range (returns 'nan')\n",
      "2022-03-25 15:09:56,950 - [WARNING] processed_variable.__call__(485): Calling variable outside interpolation range (returns 'nan')\n",
      "2022-03-25 15:09:56,981 - [WARNING] processed_variable.__call__(485): Calling variable outside interpolation range (returns 'nan')\n",
      "2022-03-25 15:10:01,286 - [WARNING] processed_variable.__call__(485): Calling variable outside interpolation range (returns 'nan')\n",
      "2022-03-25 15:10:01,315 - [WARNING] processed_variable.__call__(485): Calling variable outside interpolation range (returns 'nan')\n",
      "2022-03-25 15:10:05,400 - [WARNING] processed_variable.__call__(485): Calling variable outside interpolation range (returns 'nan')\n",
      "2022-03-25 15:10:05,427 - [WARNING] processed_variable.__call__(485): Calling variable outside interpolation range (returns 'nan')\n",
      "2022-03-25 15:10:09,668 - [WARNING] processed_variable.__call__(485): Calling variable outside interpolation range (returns 'nan')\n",
      "2022-03-25 15:10:09,696 - [WARNING] processed_variable.__call__(485): Calling variable outside interpolation range (returns 'nan')\n",
      "2022-03-25 15:10:13,889 - [WARNING] processed_variable.__call__(485): Calling variable outside interpolation range (returns 'nan')\n",
      "2022-03-25 15:10:13,916 - [WARNING] processed_variable.__call__(485): Calling variable outside interpolation range (returns 'nan')\n",
      "2022-03-25 15:10:18,010 - [WARNING] processed_variable.__call__(485): Calling variable outside interpolation range (returns 'nan')\n",
      "2022-03-25 15:10:18,038 - [WARNING] processed_variable.__call__(485): Calling variable outside interpolation range (returns 'nan')\n",
      "2022-03-25 15:10:22,151 - [WARNING] processed_variable.__call__(485): Calling variable outside interpolation range (returns 'nan')\n",
      "2022-03-25 15:10:22,180 - [WARNING] processed_variable.__call__(485): Calling variable outside interpolation range (returns 'nan')\n",
      "2022-03-25 15:10:26,392 - [WARNING] processed_variable.__call__(485): Calling variable outside interpolation range (returns 'nan')\n",
      "2022-03-25 15:10:26,419 - [WARNING] processed_variable.__call__(485): Calling variable outside interpolation range (returns 'nan')\n",
      "2022-03-25 15:10:30,609 - [WARNING] processed_variable.__call__(485): Calling variable outside interpolation range (returns 'nan')\n",
      "2022-03-25 15:10:30,637 - [WARNING] processed_variable.__call__(485): Calling variable outside interpolation range (returns 'nan')\n",
      "2022-03-25 15:10:34,899 - [WARNING] processed_variable.__call__(485): Calling variable outside interpolation range (returns 'nan')\n",
      "2022-03-25 15:10:34,928 - [WARNING] processed_variable.__call__(485): Calling variable outside interpolation range (returns 'nan')\n"
     ]
    }
   ],
   "source": [
    "%time\n",
    "from scipy.optimize import dual_annealing\n",
    "#x0 =np.array([5e-14,6.48e-7,20,2.85e3])\n",
    "minimum = dual_annealing(model.fitness, bounds)"
   ]
  },
  {
   "cell_type": "code",
   "execution_count": null,
   "id": "e6ea5297",
   "metadata": {},
   "outputs": [],
   "source": [
    "print(\"Initial function value: %s\" %model.fitness(x0))\n",
    "\n",
    "print(\"Optimized function value: %s\" %model.fitness(minimum.x))\n",
    "\n",
    "print(\"Optimized values are: %s\" %minimum.x)\n",
    "\n",
    "model.define_model(minimum.x)\n",
    "\n",
    "model.model_plot()"
   ]
  },
  {
   "cell_type": "code",
   "execution_count": null,
   "id": "3472191e",
   "metadata": {},
   "outputs": [],
   "source": [
    "minimum"
   ]
  },
  {
   "cell_type": "code",
   "execution_count": null,
   "id": "ec5abb7f",
   "metadata": {},
   "outputs": [],
   "source": []
  }
 ],
 "metadata": {
  "kernelspec": {
   "display_name": "Python 3 (ipykernel)",
   "language": "python",
   "name": "python3"
  },
  "language_info": {
   "codemirror_mode": {
    "name": "ipython",
    "version": 3
   },
   "file_extension": ".py",
   "mimetype": "text/x-python",
   "name": "python",
   "nbconvert_exporter": "python",
   "pygments_lexer": "ipython3",
   "version": "3.8.12"
  }
 },
 "nbformat": 4,
 "nbformat_minor": 5
}

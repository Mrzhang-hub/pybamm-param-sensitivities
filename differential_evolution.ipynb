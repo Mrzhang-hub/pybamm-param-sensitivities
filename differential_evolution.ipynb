{
 "cells": [
  {
   "cell_type": "code",
   "execution_count": 12,
   "id": "08dbc95f",
   "metadata": {},
   "outputs": [],
   "source": [
    "import create_model\n",
    "import numpy as np\n",
    "# Change simulation parameters here\n",
    "temperature = 25  # in degC, valid values: 0, 10, 25\n",
    "crate = 1         # valid values: 0.5, 1, 2\n",
    "cells_ignore = [\"789\",\"791\",\"792\"]   # cells to ignore, in this case we ignore cell 791 because the data for that cell is faulty"
   ]
  },
  {
   "cell_type": "code",
   "execution_count": 13,
   "id": "889c7e1e",
   "metadata": {},
   "outputs": [
    {
     "data": {
      "text/plain": [
       "array(0.01484752)"
      ]
     },
     "execution_count": 13,
     "metadata": {},
     "output_type": "execute_result"
    }
   ],
   "source": [
    "model=create_model.model_build(temperature,crate,cells_ignore)\n",
    "x0 =np.array([5e-14,6.48e-7,20,2.85e3])\n",
    "# Create bounds\n",
    "#max_bound = np.array([ 2.06e-12, 2.18589831e-5,1000,2.85e6])\n",
    "#min_bound = np.array([ 2.06e-16, 2.18589831e-9,0.1,2.85])\n",
    "bounds = [(2.06e-16,2.06e-12),(2.18589831e-9,2.18589831e-5),(0.1,1000),(2.85, 2.85e6)] #bounds of the variable optimized\n",
    "model.fitness(x0) #initial value of the function"
   ]
  },
  {
   "cell_type": "code",
   "execution_count": null,
   "id": "957c3553",
   "metadata": {},
   "outputs": [
    {
     "name": "stdout",
     "output_type": "stream",
     "text": [
      "CPU times: total: 0 ns\n",
      "Wall time: 0 ns\n"
     ]
    },
    {
     "name": "stderr",
     "output_type": "stream",
     "text": [
      "2022-03-25 14:49:44,117 - [WARNING] processed_variable.__call__(485): Calling variable outside interpolation range (returns 'nan')\n",
      "2022-03-25 14:49:44,185 - [WARNING] processed_variable.__call__(485): Calling variable outside interpolation range (returns 'nan')\n",
      "2022-03-25 14:50:42,098 - [WARNING] processed_variable.__call__(485): Calling variable outside interpolation range (returns 'nan')\n",
      "2022-03-25 14:50:42,168 - [WARNING] processed_variable.__call__(485): Calling variable outside interpolation range (returns 'nan')\n",
      "2022-03-25 14:51:24,009 - [WARNING] processed_variable.__call__(485): Calling variable outside interpolation range (returns 'nan')\n",
      "2022-03-25 14:51:24,071 - [WARNING] processed_variable.__call__(485): Calling variable outside interpolation range (returns 'nan')\n",
      "2022-03-25 14:51:30,460 - [WARNING] processed_variable.__call__(485): Calling variable outside interpolation range (returns 'nan')\n",
      "2022-03-25 14:51:30,529 - [WARNING] processed_variable.__call__(485): Calling variable outside interpolation range (returns 'nan')\n",
      "2022-03-25 14:51:42,533 - [WARNING] processed_variable.__call__(485): Calling variable outside interpolation range (returns 'nan')\n",
      "2022-03-25 14:51:42,602 - [WARNING] processed_variable.__call__(485): Calling variable outside interpolation range (returns 'nan')\n",
      "2022-03-25 14:52:57,390 - [WARNING] processed_variable.__call__(485): Calling variable outside interpolation range (returns 'nan')\n",
      "2022-03-25 14:52:57,468 - [WARNING] processed_variable.__call__(485): Calling variable outside interpolation range (returns 'nan')\n",
      "2022-03-25 14:53:14,445 - [WARNING] processed_variable.__call__(485): Calling variable outside interpolation range (returns 'nan')\n",
      "2022-03-25 14:53:14,517 - [WARNING] processed_variable.__call__(485): Calling variable outside interpolation range (returns 'nan')\n",
      "2022-03-25 14:53:38,901 - [WARNING] processed_variable.__call__(485): Calling variable outside interpolation range (returns 'nan')\n",
      "2022-03-25 14:53:38,974 - [WARNING] processed_variable.__call__(485): Calling variable outside interpolation range (returns 'nan')\n",
      "2022-03-25 14:53:41,448 - [WARNING] processed_variable.__call__(485): Calling variable outside interpolation range (returns 'nan')\n",
      "2022-03-25 14:53:41,520 - [WARNING] processed_variable.__call__(485): Calling variable outside interpolation range (returns 'nan')\n",
      "2022-03-25 14:53:45,062 - [WARNING] processed_variable.__call__(485): Calling variable outside interpolation range (returns 'nan')\n",
      "2022-03-25 14:53:45,135 - [WARNING] processed_variable.__call__(485): Calling variable outside interpolation range (returns 'nan')\n",
      "2022-03-25 14:53:49,350 - [WARNING] processed_variable.__call__(485): Calling variable outside interpolation range (returns 'nan')\n",
      "2022-03-25 14:53:49,423 - [WARNING] processed_variable.__call__(485): Calling variable outside interpolation range (returns 'nan')\n",
      "2022-03-25 14:53:51,928 - [WARNING] processed_variable.__call__(485): Calling variable outside interpolation range (returns 'nan')\n",
      "2022-03-25 14:53:52,004 - [WARNING] processed_variable.__call__(485): Calling variable outside interpolation range (returns 'nan')\n",
      "2022-03-25 14:54:43,079 - [WARNING] processed_variable.__call__(485): Calling variable outside interpolation range (returns 'nan')\n",
      "2022-03-25 14:54:43,153 - [WARNING] processed_variable.__call__(485): Calling variable outside interpolation range (returns 'nan')\n",
      "2022-03-25 14:54:48,232 - [WARNING] processed_variable.__call__(485): Calling variable outside interpolation range (returns 'nan')\n",
      "2022-03-25 14:54:48,304 - [WARNING] processed_variable.__call__(485): Calling variable outside interpolation range (returns 'nan')\n",
      "2022-03-25 14:54:53,385 - [WARNING] processed_variable.__call__(485): Calling variable outside interpolation range (returns 'nan')\n",
      "2022-03-25 14:54:53,454 - [WARNING] processed_variable.__call__(485): Calling variable outside interpolation range (returns 'nan')\n",
      "2022-03-25 14:55:17,328 - [WARNING] processed_variable.__call__(485): Calling variable outside interpolation range (returns 'nan')\n",
      "2022-03-25 14:55:17,395 - [WARNING] processed_variable.__call__(485): Calling variable outside interpolation range (returns 'nan')\n",
      "2022-03-25 14:55:30,293 - [WARNING] processed_variable.__call__(485): Calling variable outside interpolation range (returns 'nan')\n",
      "2022-03-25 14:55:30,368 - [WARNING] processed_variable.__call__(485): Calling variable outside interpolation range (returns 'nan')\n",
      "2022-03-25 14:55:35,463 - [WARNING] processed_variable.__call__(485): Calling variable outside interpolation range (returns 'nan')\n",
      "2022-03-25 14:55:35,535 - [WARNING] processed_variable.__call__(485): Calling variable outside interpolation range (returns 'nan')\n",
      "2022-03-25 14:55:47,568 - [WARNING] processed_variable.__call__(485): Calling variable outside interpolation range (returns 'nan')\n",
      "2022-03-25 14:55:47,643 - [WARNING] processed_variable.__call__(485): Calling variable outside interpolation range (returns 'nan')\n",
      "2022-03-25 14:56:18,607 - [WARNING] processed_variable.__call__(485): Calling variable outside interpolation range (returns 'nan')\n",
      "2022-03-25 14:56:18,679 - [WARNING] processed_variable.__call__(485): Calling variable outside interpolation range (returns 'nan')\n",
      "2022-03-25 14:56:46,300 - [WARNING] processed_variable.__call__(485): Calling variable outside interpolation range (returns 'nan')\n",
      "2022-03-25 14:56:46,372 - [WARNING] processed_variable.__call__(485): Calling variable outside interpolation range (returns 'nan')\n",
      "2022-03-25 14:57:19,452 - [WARNING] processed_variable.__call__(485): Calling variable outside interpolation range (returns 'nan')\n",
      "2022-03-25 14:57:19,525 - [WARNING] processed_variable.__call__(485): Calling variable outside interpolation range (returns 'nan')\n",
      "2022-03-25 14:57:38,566 - [WARNING] processed_variable.__call__(485): Calling variable outside interpolation range (returns 'nan')\n",
      "2022-03-25 14:57:38,643 - [WARNING] processed_variable.__call__(485): Calling variable outside interpolation range (returns 'nan')\n",
      "2022-03-25 14:58:02,774 - [WARNING] processed_variable.__call__(485): Calling variable outside interpolation range (returns 'nan')\n",
      "2022-03-25 14:58:02,848 - [WARNING] processed_variable.__call__(485): Calling variable outside interpolation range (returns 'nan')\n",
      "2022-03-25 15:00:37,393 - [WARNING] processed_variable.__call__(485): Calling variable outside interpolation range (returns 'nan')\n",
      "2022-03-25 15:00:37,467 - [WARNING] processed_variable.__call__(485): Calling variable outside interpolation range (returns 'nan')\n",
      "2022-03-25 15:05:04,538 - [WARNING] processed_variable.__call__(485): Calling variable outside interpolation range (returns 'nan')\n",
      "2022-03-25 15:05:04,611 - [WARNING] processed_variable.__call__(485): Calling variable outside interpolation range (returns 'nan')\n",
      "2022-03-25 15:05:54,340 - [WARNING] processed_variable.__call__(485): Calling variable outside interpolation range (returns 'nan')\n",
      "2022-03-25 15:05:54,414 - [WARNING] processed_variable.__call__(485): Calling variable outside interpolation range (returns 'nan')\n"
     ]
    }
   ],
   "source": [
    "%time\n",
    "from scipy import optimize\n",
    "minimum = optimize.differential_evolution(model.fitness, bounds, x0=x0)"
   ]
  },
  {
   "cell_type": "code",
   "execution_count": null,
   "id": "371dca78",
   "metadata": {},
   "outputs": [],
   "source": [
    "minimum"
   ]
  },
  {
   "cell_type": "code",
   "execution_count": null,
   "id": "e6ea5297",
   "metadata": {},
   "outputs": [],
   "source": [
    "print(\"Initial function value: %s\" %model.fitness(x0))\n",
    "\n",
    "print(\"Optimized function value: %s\" %model.fitness(minimum.x))\n",
    "\n",
    "print(\"Optimized values are: %s\" %minimum.x)\n",
    "\n",
    "model.define_model(minimum.x)\n",
    "\n",
    "model.model_plot()"
   ]
  },
  {
   "cell_type": "code",
   "execution_count": null,
   "id": "c58805cb",
   "metadata": {},
   "outputs": [],
   "source": []
  }
 ],
 "metadata": {
  "kernelspec": {
   "display_name": "Python 3 (ipykernel)",
   "language": "python",
   "name": "python3"
  },
  "language_info": {
   "codemirror_mode": {
    "name": "ipython",
    "version": 3
   },
   "file_extension": ".py",
   "mimetype": "text/x-python",
   "name": "python",
   "nbconvert_exporter": "python",
   "pygments_lexer": "ipython3",
   "version": "3.8.12"
  }
 },
 "nbformat": 4,
 "nbformat_minor": 5
}

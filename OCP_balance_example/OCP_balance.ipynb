{
 "cells": [
  {
   "cell_type": "code",
   "execution_count": 1,
   "id": "74cddcb1",
   "metadata": {},
   "outputs": [],
   "source": [
    "import pandas as pd\n",
    "import numpy as np\n",
    "from scipy import interpolate\n",
    "import matplotlib.pyplot as plt\n",
    "anode_2 = pd.read_csv(\"anode_OCP_2.csv\", header=None)\n",
    "anode_3 = pd.read_csv(\"anode_OCP_3.csv\", header=None)\n",
    "cathode_2 = pd.read_csv(\"cathode_OCP_2.csv\", header=None)\n",
    "cathode_3 = pd.read_csv(\"cathode_OCP_3.csv\", header=None)"
   ]
  },
  {
   "cell_type": "code",
   "execution_count": 2,
   "id": "45371c17",
   "metadata": {},
   "outputs": [],
   "source": [
    "# Seperating the data for charge and discharge to get a better fit. this is done by splitting the data where it has maximum.\n",
    "\n",
    "ch_anode_2 = anode_2[:(anode_2[0].idxmax()+1)]\n",
    "dch_anode_2 = anode_2[anode_2[0].idxmax():]\n",
    "ch_anode_3 = anode_3[:(anode_3[0].idxmax()+1)]\n",
    "dch_anode_3 = anode_3[anode_3[0].idxmax():]\n",
    "\n",
    "ch_cathode_2 = cathode_2[:(cathode_2[0].idxmax()+1)]\n",
    "dch_cathode_2 = cathode_2[cathode_2[0].idxmax():]\n",
    "ch_cathode_3 = cathode_3[:(cathode_3[0].idxmax()+1)]\n",
    "dch_cathode_3 = cathode_3[cathode_3[0].idxmax():]"
   ]
  },
  {
   "cell_type": "code",
   "execution_count": 3,
   "id": "64de88b4",
   "metadata": {},
   "outputs": [],
   "source": [
    "# Creating functions with this data via interpolating the values between the samples.\n",
    "\n",
    "f_ch_anode_2=interpolate.interp1d(ch_anode_2[0], ch_anode_2[1], fill_value =\"extrapolate\")\n",
    "f_dch_anode_2=interpolate.interp1d(dch_anode_2[0], dch_anode_2[1], fill_value =\"extrapolate\")\n",
    "f_ch_anode_3=interpolate.interp1d(ch_anode_3[0], ch_anode_3[1], fill_value =\"extrapolate\")\n",
    "f_dch_anode_3=interpolate.interp1d(dch_anode_3[0], dch_anode_3[1], fill_value =\"extrapolate\")\n",
    "\n",
    "f_ch_cathode_2=interpolate.interp1d(ch_cathode_2[0], ch_cathode_2[1], fill_value =\"extrapolate\")\n",
    "f_dch_cathode_2=interpolate.interp1d(dch_cathode_2[0], dch_cathode_2[1], fill_value =\"extrapolate\")\n",
    "f_ch_cathode_3=interpolate.interp1d(ch_cathode_3[0], ch_cathode_3[1], fill_value =\"extrapolate\")\n",
    "f_dch_cathode_3=interpolate.interp1d(dch_cathode_3[0], dch_cathode_3[1], fill_value =\"extrapolate\")"
   ]
  },
  {
   "cell_type": "code",
   "execution_count": 4,
   "id": "12bf995b",
   "metadata": {},
   "outputs": [],
   "source": [
    "# Take the maximum point in between the minimums of 2 lines and the minimum point between the maximums of 2 lines\n",
    "# This is done to making sure the function is minimized within interpolation range. \n",
    "# The extrapolation range might not valid.\n",
    "\n",
    "x_anode = np.linspace(max(min(anode_2[0]), min(anode_3[0])), min(max(anode_2[0]), max(anode_3[0])), num = 10000)\n",
    "\n",
    "x_cathode = np.linspace(max(min(cathode_2[0]), min(cathode_3[0])), min(max(cathode_2[0]), max(cathode_3[0])), num = 10000)"
   ]
  },
  {
   "cell_type": "code",
   "execution_count": 5,
   "id": "1ee78af6",
   "metadata": {},
   "outputs": [],
   "source": [
    "# Defining the functions to minimize. The effect of charge and discharge is balanced with taking average.\n",
    "\n",
    "def anode_fit(p):\n",
    "    return (sum((f_ch_anode_3(x_anode) - f_ch_anode_2(x_anode - p))**2) + sum((f_dch_anode_3(x_anode) - f_dch_anode_2(x_anode - p))**2))/len(x_anode)\n",
    "\n",
    "def cathode_fit(p):\n",
    "    return (sum((f_ch_cathode_3(x_cathode) - f_ch_cathode_2(x_cathode - p))**2) + sum((f_dch_cathode_3(x_cathode) - f_dch_cathode_2(x_cathode - p))**2))/len(x_cathode)"
   ]
  },
  {
   "cell_type": "code",
   "execution_count": 23,
   "id": "8749660d",
   "metadata": {},
   "outputs": [
    {
     "name": "stdout",
     "output_type": "stream",
     "text": [
      "   Iteration     Total nfev        Cost      Cost reduction    Step norm     Optimality   \n",
      "       0              1         2.6749e-05                                    1.51e-03    \n",
      "       1              2         6.3843e-06      2.04e-05       3.55e-02       2.18e-04    \n",
      "       2              3         1.0499e-06      5.33e-06       5.85e-02       1.86e-05    \n",
      "       3              5         8.7154e-07      1.78e-07       2.82e-02       3.45e-06    \n",
      "       4              7         8.6462e-07      6.92e-09       7.04e-03       1.15e-06    \n",
      "       5              9         8.6346e-07      1.16e-09       1.76e-03       1.87e-07    \n",
      "       6             11         8.6345e-07      4.07e-13       4.40e-04       6.61e-08    \n",
      "       7             12         8.6345e-07      9.03e-12       1.10e-04       9.47e-08    \n",
      "       8             13         8.6344e-07      4.41e-12       2.20e-04       8.09e-08    \n",
      "       9             14         8.6344e-07      2.81e-12       5.50e-05       6.78e-09    \n",
      "      10             16         8.6344e-07      5.39e-15       1.38e-05       5.94e-09    \n",
      "      11             17         8.6344e-07      1.50e-14       3.44e-06       2.82e-09    \n",
      "      12             18         8.6344e-07      4.31e-15       3.44e-06       3.30e-10    \n",
      "      13             21         8.6344e-07      5.17e-17       2.15e-07       1.38e-10    \n",
      "      14             22         8.6344e-07      1.01e-17       2.15e-07       5.58e-11    \n",
      "      15             24         8.6344e-07      1.39e-18       5.37e-08       9.16e-12    \n",
      "      16             29         8.6344e-07      1.31e-20       2.10e-10       9.12e-12    \n",
      "      17             31         8.6344e-07      1.16e-21       1.05e-10       8.41e-12    \n",
      "      18             38         8.6344e-07      1.38e-21       5.12e-14       8.66e-12    \n",
      "      19             40         8.6344e-07      6.35e-22       2.56e-14       8.47e-12    \n",
      "      20             41         8.6344e-07      2.54e-21       5.12e-14       8.74e-12    \n",
      "      21             47         8.6344e-07      0.00e+00       0.00e+00       8.74e-12    \n",
      "`xtol` termination condition is satisfied.\n",
      "Function evaluations 47, initial cost 2.6749e-05, final cost 8.6344e-07, first-order optimality 8.74e-12.\n",
      "   Iteration     Total nfev        Cost      Cost reduction    Step norm     Optimality   \n",
      "       0              1         3.9772e-08                                    1.45e-06    \n",
      "       1              2         1.0193e-08      2.96e-08       5.48e-02       1.17e-08    \n",
      "       2              8         1.0188e-08      4.86e-12       9.77e-04       1.74e-09    \n",
      "       3             10         1.0188e-08      1.43e-14       2.44e-04       1.61e-09    \n",
      "       4             11         1.0188e-08      7.26e-14       6.10e-05       7.80e-10    \n",
      "       5             12         1.0188e-08      2.21e-14       6.10e-05       7.22e-11    \n",
      "       6             15         1.0188e-08      1.77e-16       3.81e-06       1.34e-11    \n",
      "       7             17         1.0188e-08      7.65e-18       9.54e-07       1.09e-12    \n",
      "       8             20         1.0188e-08      4.67e-20       5.96e-08       2.64e-13    \n",
      "       9             22         1.0188e-08      3.93e-21       1.49e-08       5.63e-14    \n",
      "      10             24         1.0188e-08      8.24e-22       7.45e-09       3.92e-14    \n",
      "      11             28         1.0188e-08      2.32e-23       2.33e-10       3.32e-14    \n",
      "      12             34         1.0188e-08      6.62e-23       4.55e-13       4.26e-14    \n",
      "      13             35         1.0188e-08      2.32e-23       9.09e-13       4.80e-14    \n",
      "      14             42         1.0188e-08      1.99e-23       4.44e-16       4.67e-14    \n",
      "      15             45         1.0188e-08      2.32e-23       5.55e-17       4.75e-14    \n",
      "      16             47         1.0188e-08      0.00e+00       0.00e+00       4.75e-14    \n",
      "`xtol` termination condition is satisfied.\n",
      "Function evaluations 47, initial cost 3.9772e-08, final cost 1.0188e-08, first-order optimality 4.75e-14.\n"
     ]
    }
   ],
   "source": [
    "# Optimizing functions\n",
    "\n",
    "from scipy import optimize\n",
    "anode_optm = optimize.least_squares(anode_fit, 0, method='trf', ftol=1e-18, gtol=1e-15, xtol=1e-15, verbose=2)\n",
    "cathode_optm = optimize.least_squares(cathode_fit, 0, method='trf', ftol=1e-15, gtol=1e-15, xtol=1e-15, verbose=2)"
   ]
  },
  {
   "cell_type": "code",
   "execution_count": 24,
   "id": "8c1fd2dd",
   "metadata": {
    "scrolled": true
   },
   "outputs": [
    {
     "data": {
      "text/plain": [
       " active_mask: array([0.])\n",
       "        cost: 8.634384303158918e-07\n",
       "         fun: array([0.00131411])\n",
       "        grad: array([-8.73910669e-12])\n",
       "         jac: array([[-6.65022526e-09]])\n",
       "     message: '`xtol` termination condition is satisfied.'\n",
       "        nfev: 47\n",
       "        njev: 21\n",
       "  optimality: 8.739106687347636e-12\n",
       "      status: 3\n",
       "     success: True\n",
       "           x: array([-0.11704944])"
      ]
     },
     "execution_count": 24,
     "metadata": {},
     "output_type": "execute_result"
    }
   ],
   "source": [
    "anode_optm"
   ]
  },
  {
   "cell_type": "code",
   "execution_count": 25,
   "id": "81f9a987",
   "metadata": {},
   "outputs": [
    {
     "data": {
      "text/plain": [
       " active_mask: array([0.])\n",
       "        cost: 1.0187555369941658e-08\n",
       "         fun: array([0.00014274])\n",
       "        grad: array([4.75150563e-14])\n",
       "         jac: array([[3.32875061e-10]])\n",
       "     message: '`xtol` termination condition is satisfied.'\n",
       "        nfev: 47\n",
       "        njev: 16\n",
       "  optimality: 4.75150562519481e-14\n",
       "      status: 3\n",
       "     success: True\n",
       "           x: array([0.05397501])"
      ]
     },
     "execution_count": 25,
     "metadata": {},
     "output_type": "execute_result"
    }
   ],
   "source": [
    "cathode_optm"
   ]
  },
  {
   "cell_type": "code",
   "execution_count": 26,
   "id": "982a509d",
   "metadata": {
    "scrolled": true
   },
   "outputs": [
    {
     "data": {
      "image/png": "[encoded data removed]",
      "text/plain": [
       "<Figure size 432x288 with 1 Axes>"
      ]
     },
     "metadata": {
      "needs_background": "light"
     },
     "output_type": "display_data"
    }
   ],
   "source": [
    "# Plotting Anode\n",
    "\n",
    "fig, ax = plt.subplots()\n",
    "ax.plot((anode_2[0]+anode_optm.x), anode_2[1], 'r--', label='anode_shifted')\n",
    "ax.plot(anode_3[0], anode_3[1], 'b', label='anode')\n",
    "ax.legend()\n",
    "plt.xlabel('Capacity (mAh cm^{-2})')\n",
    "plt.ylabel('Potential (V)')\n",
    "plt.show()"
   ]
  },
  {
   "cell_type": "code",
   "execution_count": 27,
   "id": "ec9c4818",
   "metadata": {},
   "outputs": [
    {
     "data": {
      "image/png": "[encoded data removed]",
      "text/plain": [
       "<Figure size 432x288 with 1 Axes>"
      ]
     },
     "metadata": {
      "needs_background": "light"
     },
     "output_type": "display_data"
    }
   ],
   "source": [
    "# Plotting Cathode\n",
    "\n",
    "fig, ax = plt.subplots()\n",
    "ax.plot((cathode_2[0]+cathode_optm.x), cathode_2[1], 'r--', label='cathode_shifted')\n",
    "ax.plot(cathode_3[0], cathode_3[1], 'b', label='anode')\n",
    "ax.legend()\n",
    "plt.xlabel('Capacity (mAh cm^{-2})')\n",
    "plt.ylabel('Potential (V)')\n",
    "plt.show()"
   ]
  },
  {
   "cell_type": "code",
   "execution_count": 12,
   "id": "9f600895",
   "metadata": {
    "scrolled": true
   },
   "outputs": [
    {
     "data": {
      "image/png": "[encoded data removed]",
      "text/plain": [
       "<Figure size 432x288 with 1 Axes>"
      ]
     },
     "metadata": {
      "needs_background": "light"
     },
     "output_type": "display_data"
    }
   ],
   "source": [
    "# Plotting samples with fitted line \n",
    "\n",
    "xnew = np.arange(0, 5, 0.1)\n",
    "ynew = f_ch_anode_2(xnew)  \n",
    "plt.plot(ch_anode_2[0], ch_anode_2[1], 'o', xnew, ynew, '-')\n",
    "plt.show()"
   ]
  },
  {
   "cell_type": "code",
   "execution_count": null,
   "id": "7e57240c",
   "metadata": {},
   "outputs": [],
   "source": []
  }
 ],
 "metadata": {
  "kernelspec": {
   "display_name": "Python 3 (ipykernel)",
   "language": "python",
   "name": "python3"
  },
  "language_info": {
   "codemirror_mode": {
    "name": "ipython",
    "version": 3
   },
   "file_extension": ".py",
   "mimetype": "text/x-python",
   "name": "python",
   "nbconvert_exporter": "python",
   "pygments_lexer": "ipython3",
   "version": "3.8.12"
  }
 },
 "nbformat": 4,
 "nbformat_minor": 5
}

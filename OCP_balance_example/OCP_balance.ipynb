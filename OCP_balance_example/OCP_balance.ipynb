{
 "cells": [
  {
   "cell_type": "code",
   "execution_count": 92,
   "id": "74cddcb1",
   "metadata": {},
   "outputs": [],
   "source": [
    "import pandas as pd\n",
    "import numpy as np\n",
    "from scipy import interpolate\n",
    "import matplotlib.pyplot as plt\n",
    "anode_2 = pd.read_csv(\"anode_OCP_2.csv\", header=None)\n",
    "anode_3 = pd.read_csv(\"anode_OCP_3.csv\", header=None)\n",
    "cathode_2 = pd.read_csv(\"cathode_OCP_2.csv\", header=None)\n",
    "cathode_3 = pd.read_csv(\"cathode_OCP_3.csv\", header=None)"
   ]
  },
  {
   "cell_type": "code",
   "execution_count": 57,
   "id": "45371c17",
   "metadata": {},
   "outputs": [],
   "source": [
    "ch_anode_2 = anode_2[:(anode_2[0].idxmax()+1)]\n",
    "dch_anode_2 = anode_2[anode_2[0].idxmax():]\n",
    "ch_anode_3 = anode_3[:(anode_3[0].idxmax()+1)]\n",
    "dch_anode_3 = anode_3[anode_3[0].idxmax():]\n",
    "\n",
    "ch_cathode_2 = cathode_2[:(cathode_2[0].idxmax()+1)]\n",
    "dch_cathode_2 = cathode_2[cathode_2[0].idxmax():]\n",
    "ch_cathode_3 = cathode_3[:(cathode_3[0].idxmax()+1)]\n",
    "dch_cathode_3 = cathode_3[cathode_3[0].idxmax():]"
   ]
  },
  {
   "cell_type": "code",
   "execution_count": 61,
   "id": "64de88b4",
   "metadata": {},
   "outputs": [],
   "source": [
    "f_ch_anode_2=interpolate.interp1d(ch_anode_2[0], ch_anode_2[1], fill_value =\"extrapolate\")\n",
    "f_dch_anode_2=interpolate.interp1d(dch_anode_2[0], dch_anode_2[1], fill_value =\"extrapolate\")\n",
    "f_ch_anode_3=interpolate.interp1d(ch_anode_3[0], ch_anode_3[1], fill_value =\"extrapolate\")\n",
    "f_dch_anode_3=interpolate.interp1d(dch_anode_3[0], dch_anode_3[1], fill_value =\"extrapolate\")\n",
    "\n",
    "f_ch_cathode_2=interpolate.interp1d(ch_cathode_2[0], ch_cathode_2[1], fill_value =\"extrapolate\")\n",
    "f_dch_cathode_2=interpolate.interp1d(dch_cathode_2[0], dch_cathode_2[1], fill_value =\"extrapolate\")\n",
    "f_ch_cathode_3=interpolate.interp1d(ch_cathode_3[0], ch_cathode_3[1], fill_value =\"extrapolate\")\n",
    "f_dch_cathode_3=interpolate.interp1d(dch_cathode_3[0], dch_cathode_3[1], fill_value =\"extrapolate\")"
   ]
  },
  {
   "cell_type": "code",
   "execution_count": 158,
   "id": "12bf995b",
   "metadata": {},
   "outputs": [],
   "source": [
    "x_anode = np.linspace(max(min(anode_2[0]), min(anode_3[0])), min(max(anode_2[0]), max(anode_3[0])), num = 10000)\n",
    "x_cathode = np.linspace(0.2, max(max(cathode_2[0]), max(cathode_3[0])), num = 10000)"
   ]
  },
  {
   "cell_type": "code",
   "execution_count": 159,
   "id": "1ee78af6",
   "metadata": {},
   "outputs": [],
   "source": [
    "def anode_fit(p):\n",
    "    return (sum((f_ch_anode_3(x_anode) - f_ch_anode_2(x_anode - p))**2) + sum((f_dch_anode_3(x_anode) - f_dch_anode_2(x_anode - p))**2))/len(x_anode)\n",
    "    "
   ]
  },
  {
   "cell_type": "code",
   "execution_count": 160,
   "id": "c8ec2140",
   "metadata": {},
   "outputs": [],
   "source": [
    "def cathode_fit(p):\n",
    "    return (sum((f_ch_cathode_3(x_cathode) - f_ch_cathode_2(x_cathode - p))**2) + sum((f_dch_cathode_3(x_cathode) - f_dch_cathode_2(x_cathode - p))**2))/len(x_cathode)\n",
    "    "
   ]
  },
  {
   "cell_type": "code",
   "execution_count": 161,
   "id": "8749660d",
   "metadata": {},
   "outputs": [
    {
     "name": "stdout",
     "output_type": "stream",
     "text": [
      "   Iteration     Total nfev        Cost      Cost reduction    Step norm     Optimality   \n",
      "       0              1         2.6749e-05                                    1.51e-03    \n",
      "       1              2         6.3843e-06      2.04e-05       3.55e-02       2.18e-04    \n",
      "       2              3         1.0499e-06      5.33e-06       5.85e-02       1.86e-05    \n",
      "       3              5         8.7154e-07      1.78e-07       2.82e-02       3.45e-06    \n",
      "       4              7         8.6462e-07      6.92e-09       7.04e-03       1.15e-06    \n",
      "       5              9         8.6346e-07      1.16e-09       1.76e-03       1.87e-07    \n",
      "       6             11         8.6345e-07      4.07e-13       4.40e-04       6.61e-08    \n",
      "       7             12         8.6345e-07      9.03e-12       1.10e-04       9.47e-08    \n",
      "       8             13         8.6344e-07      4.41e-12       2.20e-04       8.09e-08    \n",
      "       9             14         8.6344e-07      2.81e-12       5.50e-05       6.78e-09    \n",
      "`gtol` termination condition is satisfied.\n",
      "Function evaluations 14, initial cost 2.6749e-05, final cost 8.6344e-07, first-order optimality 6.78e-09.\n",
      "   Iteration     Total nfev        Cost      Cost reduction    Step norm     Optimality   \n",
      "       0              1         4.5611e-08                                    1.59e-06    \n",
      "       1              2         1.1496e-08      3.41e-08       5.75e-02       3.63e-09    \n",
      "`gtol` termination condition is satisfied.\n",
      "Function evaluations 2, initial cost 4.5611e-08, final cost 1.1496e-08, first-order optimality 3.63e-09.\n"
     ]
    }
   ],
   "source": [
    "from scipy import optimize\n",
    "anode_optm = optimize.least_squares(anode_fit, 0, method='trf', ftol=1e-08, verbose=2)\n",
    "cathode_optm = optimize.least_squares(cathode_fit, 0, method='trf', verbose=2)"
   ]
  },
  {
   "cell_type": "code",
   "execution_count": 163,
   "id": "8c1fd2dd",
   "metadata": {
    "scrolled": true
   },
   "outputs": [
    {
     "data": {
      "text/plain": [
       " active_mask: array([0.])\n",
       "        cost: 8.634384551308228e-07\n",
       "         fun: array([0.00131411])\n",
       "        grad: array([6.78219706e-09])\n",
       "         jac: array([[5.16106957e-06]])\n",
       "     message: '`gtol` termination condition is satisfied.'\n",
       "        nfev: 14\n",
       "        njev: 10\n",
       "  optimality: 6.782197061080119e-09\n",
       "      status: 1\n",
       "     success: True\n",
       "           x: array([-0.11704219])"
      ]
     },
     "execution_count": 163,
     "metadata": {},
     "output_type": "execute_result"
    }
   ],
   "source": [
    "anode_optm"
   ]
  },
  {
   "cell_type": "code",
   "execution_count": 123,
   "id": "81f9a987",
   "metadata": {},
   "outputs": [
    {
     "data": {
      "text/plain": [
       " active_mask: array([0.])\n",
       "        cost: 1.1721111856298937e-08\n",
       "         fun: array([0.00015311])\n",
       "        grad: array([9.58919717e-09])\n",
       "         jac: array([[6.26300625e-05]])\n",
       "     message: '`gtol` termination condition is satisfied.'\n",
       "        nfev: 2\n",
       "        njev: 2\n",
       "  optimality: 9.589197166475553e-09\n",
       "      status: 1\n",
       "     success: True\n",
       "           x: array([0.05776374])"
      ]
     },
     "execution_count": 123,
     "metadata": {},
     "output_type": "execute_result"
    }
   ],
   "source": [
    "cathode_optm"
   ]
  },
  {
   "cell_type": "code",
   "execution_count": 162,
   "id": "982a509d",
   "metadata": {
    "scrolled": true
   },
   "outputs": [
    {
     "data": {
      "image/png": "[encoded data removed]",
      "text/plain": [
       "<Figure size 432x288 with 1 Axes>"
      ]
     },
     "metadata": {
      "needs_background": "light"
     },
     "output_type": "display_data"
    }
   ],
   "source": [
    "fig, ax = plt.subplots()\n",
    "ax.plot((anode_2[0]+anode_optm.x), anode_2[1], 'r--', label='anode_shifted')\n",
    "ax.plot(anode_3[0], anode_3[1], 'b', label='anode')\n",
    "ax.legend()\n",
    "plt.xlabel('Capacity (mAh cm^{-2})')\n",
    "plt.ylabel('Potential (V)')\n",
    "plt.show()"
   ]
  },
  {
   "cell_type": "code",
   "execution_count": 156,
   "id": "ec9c4818",
   "metadata": {},
   "outputs": [
    {
     "data": {
      "image/png": "[encoded data removed]",
      "text/plain": [
       "<Figure size 432x288 with 1 Axes>"
      ]
     },
     "metadata": {
      "needs_background": "light"
     },
     "output_type": "display_data"
    }
   ],
   "source": [
    "fig, ax = plt.subplots()\n",
    "ax.plot((cathode_2[0]+cathode_optm.x), cathode_2[1], 'r--', label='cathode_shifted')\n",
    "ax.plot(cathode_3[0], cathode_3[1], 'b', label='anode')\n",
    "ax.legend()\n",
    "plt.xlabel('Capacity (mAh cm^{-2})')\n",
    "plt.ylabel('Potential (V)')\n",
    "plt.show()"
   ]
  },
  {
   "cell_type": "code",
   "execution_count": 63,
   "id": "9f600895",
   "metadata": {
    "scrolled": true
   },
   "outputs": [
    {
     "data": {
      "image/png": "[encoded data removed]",
      "text/plain": [
       "<Figure size 432x288 with 1 Axes>"
      ]
     },
     "metadata": {
      "needs_background": "light"
     },
     "output_type": "display_data"
    }
   ],
   "source": [
    "xnew = np.arange(0, 5, 0.1)\n",
    "ynew = f_ch_anode_2(xnew)   # use interpolation function returned by `interp1d`\n",
    "plt.plot(ch_anode_2[0], ch_anode_2[1], 'o', xnew, ynew, '-')\n",
    "plt.show()"
   ]
  },
  {
   "cell_type": "code",
   "execution_count": null,
   "id": "10d718d7",
   "metadata": {},
   "outputs": [],
   "source": []
  }
 ],
 "metadata": {
  "kernelspec": {
   "display_name": "Python 3 (ipykernel)",
   "language": "python",
   "name": "python3"
  },
  "language_info": {
   "codemirror_mode": {
    "name": "ipython",
    "version": 3
   },
   "file_extension": ".py",
   "mimetype": "text/x-python",
   "name": "python",
   "nbconvert_exporter": "python",
   "pygments_lexer": "ipython3",
   "version": "3.8.12"
  }
 },
 "nbformat": 4,
 "nbformat_minor": 5
}

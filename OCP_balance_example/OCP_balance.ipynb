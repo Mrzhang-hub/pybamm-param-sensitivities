{
 "cells": [
  {
   "cell_type": "code",
   "execution_count": 1,
   "id": "74cddcb1",
   "metadata": {},
   "outputs": [],
   "source": [
    "import pandas as pd\n",
    "import numpy as np\n",
    "from scipy import interpolate\n",
    "import matplotlib.pyplot as plt\n",
    "anode_2 = pd.read_csv(\"anode_OCP_2.csv\", header=None)\n",
    "anode_3 = pd.read_csv(\"anode_OCP_3.csv\", header=None)\n",
    "cathode_2 = pd.read_csv(\"cathode_OCP_2.csv\", header=None)\n",
    "cathode_3 = pd.read_csv(\"cathode_OCP_3.csv\", header=None)"
   ]
  },
  {
   "cell_type": "code",
   "execution_count": 2,
   "id": "45371c17",
   "metadata": {},
   "outputs": [],
   "source": [
    "ch_anode_2 = anode_2[:(anode_2[0].idxmax()+1)]\n",
    "dch_anode_2 = anode_2[anode_2[0].idxmax():]\n",
    "ch_anode_3 = anode_3[:(anode_3[0].idxmax()+1)]\n",
    "dch_anode_3 = anode_3[anode_3[0].idxmax():]\n",
    "\n",
    "ch_cathode_2 = cathode_2[:(cathode_2[0].idxmax()+1)]\n",
    "dch_cathode_2 = cathode_2[cathode_2[0].idxmax():]\n",
    "ch_cathode_3 = cathode_3[:(cathode_3[0].idxmax()+1)]\n",
    "dch_cathode_3 = cathode_3[cathode_3[0].idxmax():]"
   ]
  },
  {
   "cell_type": "code",
   "execution_count": 3,
   "id": "64de88b4",
   "metadata": {},
   "outputs": [],
   "source": [
    "f_ch_anode_2=interpolate.interp1d(ch_anode_2[0], ch_anode_2[1], fill_value =\"extrapolate\")\n",
    "f_dch_anode_2=interpolate.interp1d(dch_anode_2[0], dch_anode_2[1], fill_value =\"extrapolate\")\n",
    "f_ch_anode_3=interpolate.interp1d(ch_anode_3[0], ch_anode_3[1], fill_value =\"extrapolate\")\n",
    "f_dch_anode_3=interpolate.interp1d(dch_anode_3[0], dch_anode_3[1], fill_value =\"extrapolate\")\n",
    "\n",
    "f_ch_cathode_2=interpolate.interp1d(ch_cathode_2[0], ch_cathode_2[1], fill_value =\"extrapolate\")\n",
    "f_dch_cathode_2=interpolate.interp1d(dch_cathode_2[0], dch_cathode_2[1], fill_value =\"extrapolate\")\n",
    "f_ch_cathode_3=interpolate.interp1d(ch_cathode_3[0], ch_cathode_3[1], fill_value =\"extrapolate\")\n",
    "f_dch_cathode_3=interpolate.interp1d(dch_cathode_3[0], dch_cathode_3[1], fill_value =\"extrapolate\")"
   ]
  },
  {
   "cell_type": "code",
   "execution_count": 45,
   "id": "12bf995b",
   "metadata": {},
   "outputs": [],
   "source": [
    "x_anode = np.linspace(min(min(anode_2[0]), min(anode_3[0])), max(max(anode_2[0]), max(anode_3[0])), num = 10000)\n",
    "x_cathode = np.linspace(min(min(cathode_2[0]), min(cathode_3[0])), max(max(cathode_2[0]), max(cathode_3[0])), num = 10000)"
   ]
  },
  {
   "cell_type": "code",
   "execution_count": 46,
   "id": "1ee78af6",
   "metadata": {},
   "outputs": [],
   "source": [
    "def anode_fit(p):\n",
    "    return (sum((f_ch_anode_3(x_anode) - f_ch_anode_2(x_anode - p))**2) + sum((f_dch_anode_3(x_anode) - f_dch_anode_2(x_anode - p))**2))/len(x_anode)\n",
    "    "
   ]
  },
  {
   "cell_type": "code",
   "execution_count": 47,
   "id": "c8ec2140",
   "metadata": {},
   "outputs": [],
   "source": [
    "def cathode_fit(p):\n",
    "    return (sum((f_ch_cathode_3(x_cathode) - f_ch_cathode_2(x_cathode - p))**2) + sum((f_dch_cathode_3(x_cathode) - f_dch_cathode_2(x_cathode - p))**2))/len(x_cathode)\n",
    "    "
   ]
  },
  {
   "cell_type": "code",
   "execution_count": 59,
   "id": "8749660d",
   "metadata": {},
   "outputs": [
    {
     "name": "stdout",
     "output_type": "stream",
     "text": [
      "   Iteration     Total nfev        Cost      Cost reduction    Step norm     Optimality   \n",
      "       0              1         2.7357e-05                                    1.59e-03    \n",
      "       1              2         6.6717e-06      2.07e-05       3.44e-02       2.23e-04    \n",
      "       2              3         1.1765e-06      5.50e-06       5.99e-02       1.84e-05    \n",
      "       3              5         1.0541e-06      1.22e-07       3.19e-02       8.28e-06    \n",
      "       4              6         1.0143e-06      3.98e-08       7.98e-03       2.22e-06    \n",
      "       5              8         1.0113e-06      3.08e-09       1.99e-03       9.10e-07    \n",
      "       6              9         1.0108e-06      4.55e-10       1.99e-03       4.37e-07    \n",
      "       7             11         1.0107e-06      1.36e-10       4.98e-04       9.42e-08    \n",
      "       8             13         1.0107e-06      9.57e-12       1.25e-04       2.60e-08    \n",
      "       9             16         1.0107e-06      2.85e-13       1.56e-05       1.04e-08    \n",
      "      10             17         1.0107e-06      4.27e-14       1.56e-05       4.92e-09    \n",
      "`gtol` termination condition is satisfied.\n",
      "Function evaluations 17, initial cost 2.7357e-05, final cost 1.0107e-06, first-order optimality 4.92e-09.\n",
      "   Iteration     Total nfev        Cost      Cost reduction    Step norm     Optimality   \n",
      "       0              1         1.8056e-05                                    5.94e-05    \n",
      "       1              3         1.7574e-05      4.82e-07       1.52e-01       5.78e-05    \n",
      "       2              4         1.6029e-05      1.54e-06       3.80e-02       2.45e-05    \n",
      "       3              5         1.5655e-05      3.74e-07       3.80e-02       4.28e-06    \n",
      "       4              7         1.5647e-05      7.86e-09       9.50e-03       2.65e-06    \n",
      "       5              8         1.5643e-05      4.22e-09       2.38e-03       9.06e-07    \n",
      "       6              9         1.5643e-05      8.48e-11       2.38e-03       8.38e-07    \n",
      "       7             10         1.5642e-05      3.66e-10       5.94e-04       3.98e-07    \n",
      "       8             11         1.5642e-05      1.08e-10       5.94e-04       3.58e-08    \n",
      "       9             14         1.5642e-05      8.62e-13       3.71e-05       1.05e-08    \n",
      "      10             16         1.5642e-05      5.48e-14       9.28e-06       1.72e-09    \n",
      "`gtol` termination condition is satisfied.\n",
      "Function evaluations 16, initial cost 1.8056e-05, final cost 1.5642e-05, first-order optimality 1.72e-09.\n"
     ]
    }
   ],
   "source": [
    "from scipy import optimize\n",
    "anode_optm = optimize.least_squares(anode_fit, 0, method='trf', ftol=1e-12, verbose=2)\n",
    "cathode_optm = optimize.least_squares(cathode_fit, 0, method='trf', ftol=1e-12, verbose=2)"
   ]
  },
  {
   "cell_type": "code",
   "execution_count": 60,
   "id": "8c1fd2dd",
   "metadata": {
    "scrolled": true
   },
   "outputs": [
    {
     "data": {
      "text/plain": [
       " active_mask: array([0.])\n",
       "        cost: 1.0106502358076996e-06\n",
       "         fun: array([0.00142172])\n",
       "        grad: array([-4.92418599e-09])\n",
       "         jac: array([[-3.46353045e-06]])\n",
       "     message: '`gtol` termination condition is satisfied.'\n",
       "        nfev: 17\n",
       "        njev: 11\n",
       "  optimality: 4.924185993241766e-09\n",
       "      status: 1\n",
       "     success: True\n",
       "           x: array([-0.11490293])"
      ]
     },
     "execution_count": 60,
     "metadata": {},
     "output_type": "execute_result"
    }
   ],
   "source": [
    "anode_optm"
   ]
  },
  {
   "cell_type": "code",
   "execution_count": 61,
   "id": "81f9a987",
   "metadata": {},
   "outputs": [
    {
     "data": {
      "text/plain": [
       " active_mask: array([0.])\n",
       "        cost: 1.564225484050972e-05\n",
       "         fun: array([0.00559326])\n",
       "        grad: array([1.71836022e-09])\n",
       "         jac: array([[3.07220034e-07]])\n",
       "     message: '`gtol` termination condition is satisfied.'\n",
       "        nfev: 16\n",
       "        njev: 11\n",
       "  optimality: 1.7183602177713552e-09\n",
       "      status: 1\n",
       "     success: True\n",
       "           x: array([0.08192437])"
      ]
     },
     "execution_count": 61,
     "metadata": {},
     "output_type": "execute_result"
    }
   ],
   "source": [
    "cathode_optm"
   ]
  },
  {
   "cell_type": "code",
   "execution_count": 62,
   "id": "982a509d",
   "metadata": {
    "scrolled": true
   },
   "outputs": [
    {
     "data": {
      "image/png": "[encoded data removed]",
      "text/plain": [
       "<Figure size 432x288 with 1 Axes>"
      ]
     },
     "metadata": {
      "needs_background": "light"
     },
     "output_type": "display_data"
    }
   ],
   "source": [
    "fig, ax = plt.subplots()\n",
    "ax.plot((anode_2[0]+anode_optm.x), anode_2[1], 'r--', label='anode_shifted')\n",
    "ax.plot(anode_3[0], anode_3[1], 'b', label='anode')\n",
    "ax.legend()\n",
    "plt.xlabel('Capacity (mAh cm^{-2})')\n",
    "plt.ylabel('Potential (V)')\n",
    "plt.show()"
   ]
  },
  {
   "cell_type": "code",
   "execution_count": 63,
   "id": "ec9c4818",
   "metadata": {},
   "outputs": [
    {
     "data": {
      "image/png": "[encoded data removed]",
      "text/plain": [
       "<Figure size 432x288 with 1 Axes>"
      ]
     },
     "metadata": {
      "needs_background": "light"
     },
     "output_type": "display_data"
    }
   ],
   "source": [
    "fig, ax = plt.subplots()\n",
    "ax.plot((cathode_2[0]+cathode_optm.x), cathode_2[1], 'r--', label='cathode_shifted')\n",
    "ax.plot(cathode_3[0], cathode_3[1], 'b', label='anode')\n",
    "ax.legend()\n",
    "plt.xlabel('Capacity (mAh cm^{-2})')\n",
    "plt.ylabel('Potential (V)')\n",
    "plt.show()"
   ]
  },
  {
   "cell_type": "code",
   "execution_count": 12,
   "id": "9f600895",
   "metadata": {
    "scrolled": true
   },
   "outputs": [
    {
     "data": {
      "image/png": "[encoded data removed]",
      "text/plain": [
       "<Figure size 432x288 with 1 Axes>"
      ]
     },
     "metadata": {
      "needs_background": "light"
     },
     "output_type": "display_data"
    }
   ],
   "source": [
    "xnew = np.arange(0, 5, 0.1)\n",
    "ynew = f_ch_anode_2(xnew)   # use interpolation function returned by `interp1d`\n",
    "plt.plot(ch_anode_2[0], ch_anode_2[1], 'o', xnew, ynew, '-')\n",
    "plt.show()"
   ]
  },
  {
   "cell_type": "code",
   "execution_count": 43,
   "id": "10d718d7",
   "metadata": {},
   "outputs": [
    {
     "data": {
      "text/plain": [
       "0      0.066019\n",
       "1      0.084918\n",
       "2      0.103818\n",
       "3      0.122718\n",
       "4      0.141618\n",
       "         ...   \n",
       "493   -0.164615\n",
       "494   -0.183503\n",
       "495   -0.202392\n",
       "496   -0.221281\n",
       "497   -0.237624\n",
       "Name: 0, Length: 498, dtype: float64"
      ]
     },
     "execution_count": 43,
     "metadata": {},
     "output_type": "execute_result"
    }
   ],
   "source": [
    "cathode_2[0]+cathode_optm.x"
   ]
  },
  {
   "cell_type": "code",
   "execution_count": 44,
   "id": "ca3c87dd",
   "metadata": {},
   "outputs": [
    {
     "data": {
      "text/plain": [
       "0      0.012171\n",
       "1      0.031070\n",
       "2      0.049970\n",
       "3      0.068870\n",
       "4      0.087770\n",
       "         ...   \n",
       "493   -0.218463\n",
       "494   -0.237351\n",
       "495   -0.256240\n",
       "496   -0.275129\n",
       "497   -0.291472\n",
       "Name: 0, Length: 498, dtype: float64"
      ]
     },
     "execution_count": 44,
     "metadata": {},
     "output_type": "execute_result"
    }
   ],
   "source": [
    "cathode_2[0]"
   ]
  },
  {
   "cell_type": "code",
   "execution_count": null,
   "id": "7e57240c",
   "metadata": {},
   "outputs": [],
   "source": []
  }
 ],
 "metadata": {
  "kernelspec": {
   "display_name": "Python 3 (ipykernel)",
   "language": "python",
   "name": "python3"
  },
  "language_info": {
   "codemirror_mode": {
    "name": "ipython",
    "version": 3
   },
   "file_extension": ".py",
   "mimetype": "text/x-python",
   "name": "python",
   "nbconvert_exporter": "python",
   "pygments_lexer": "ipython3",
   "version": "3.8.12"
  }
 },
 "nbformat": 4,
 "nbformat_minor": 5
}
